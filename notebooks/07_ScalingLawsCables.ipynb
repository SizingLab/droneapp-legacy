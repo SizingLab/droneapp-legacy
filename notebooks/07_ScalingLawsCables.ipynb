{
 "cells": [
  {
   "cell_type": "markdown",
   "metadata": {},
   "source": [
    "<img src=\"./pictures/DroneApp_logo.png\" style=\"float:right; max-width: 180px; display: inline\" alt=\"INSA\" />\n",
    "<img src=\"./pictures/logo_sizinglab.png\" style=\"float:right; max-width: 100px; display: inline\" alt=\"INSA\" />"
   ]
  },
  {
   "cell_type": "markdown",
   "metadata": {},
   "source": [
    "# Scaling laws of electrical components"
   ]
  },
  {
   "cell_type": "markdown",
   "metadata": {},
   "source": [
    "*Written by Marc Budinger, Aitor Ochotorena (INSA Toulouse) and Scott Delbecq (ISAE-SUPAERO), Toulouse, France.*\n",
    "\n",
    "The estimation models calculate the component characteristics requested for their selection without requiring a detailed design. Scaling laws are particularly suitable for this purpose. This notebook illustrates the approach with electrical drone components characteristics.\n",
    "Validation of the obtained scaling laws is achieved thanks to catalog data.  \n",
    "\n",
    "The [following article](https://hal.archives-ouvertes.fr/hal-00712986/file/IMECHE_v1.2_full.pdf) gives more details for components of electromechanical actuators:  \n",
    ">*Budinger, M., Liscouët, J., Hospital, F., & Maré, J. C. (2012). Estimation models for the preliminary design of electromechanical actuators. Proceedings of the Institution of Mechanical Engineers, Part G: Journal of Aerospace Engineering, 226(3), 243-259.*  \n",
    "\n",
    "**Notation**: The x* scaling ratio of a given parameter is calculated as \n",
    "\n",
    "$x^*=\\frac{x}{x_{ref}}$\n",
    "\n",
    "where $x_{ref}$ is the parameter taken as the reference and $x$ the parameter under study."
   ]
  },
  {
   "cell_type": "markdown",
   "metadata": {},
   "source": [
    "### Electrical wiring"
   ]
  },
  {
   "cell_type": "markdown",
   "metadata": {},
   "source": [
    "![Cables](./pictures/cables.jpg)"
   ]
  },
  {
   "cell_type": "markdown",
   "metadata": {},
   "source": [
    "Electric conductors cross-section area is elected with nominal current. The design driver on such a component is in fact the maximal insulator temperature. The temperature drop is linked to power losses that are mainly due to the Joule effect:\n",
    "$P_{loss}=\\rho\\cdot J^2\\cdot V$\n",
    "\n",
    "where $\\rho$ is the resistivity of the conductor, $J$ the current density and $V$ is the conductor volume.\n",
    "\n",
    "Neglecting the thermal conduction resistance due to the thin insulator thickness, power loss is mainly given by the convection one:\n",
    "\n",
    "$P_{loss}=h\\cdot S\\cdot \\Delta \\theta$\n",
    "\n",
    "with $h$ as the convection coefficient, $S$ the insulator exchange area ($S=2\\pi r L$) and $\\Delta \\theta$ as the admissible temperature drop (constant for a given external temperature and insulator material: $h^* = 1$ and $\\Delta \\theta^* = 1$)\n",
    "\n",
    "Linking both equations and considering that the current is $I=J\\cdot S$ we obtain the following scaling laws:\n",
    "\n",
    "|                | Scaling laws  | References |\n",
    "| -------------- | -------------------| -----------|\n",
    "|  |                      |  PVC insulated single wiring cable        |\n",
    "|Current | $I_{wir}$| $120$ A |\n",
    "|Current density |$J^*=r^{*-1/2}$||\n",
    "|Radius |$r^*=I^{*2/3}$|$5.2$ mm|\n",
    "|Linear resistance|$\\frac{R}{L}^*=I^{*-4/3}$| |\n",
    "|Linear mass|$\\frac{M}{L}^*=I^{*4/3}$|$.191$ kg/m |\n"
   ]
  },
  {
   "cell_type": "markdown",
   "metadata": {},
   "source": [
    "## Validation with a data plot\n",
    "\n",
    "We will compare the scaling law with a plot of the catalog data. \n",
    "\n",
    "#### Import data\n",
    "\n",
    "The first step is to import catalog data stored in an excel file. We use for that functions from [Panda](https://pandas.pydata.org/index.html) package (with here an [introduction to panda](https://jakevdp.github.io/PythonDataScienceHandbook/03.00-introduction-to-pandas.html)). "
   ]
  },
  {
   "cell_type": "code",
   "execution_count": 1,
   "metadata": {},
   "outputs": [
    {
     "data": {
      "text/html": [
       "<div>\n",
       "<style scoped>\n",
       "    .dataframe tbody tr th:only-of-type {\n",
       "        vertical-align: middle;\n",
       "    }\n",
       "\n",
       "    .dataframe tbody tr th {\n",
       "        vertical-align: top;\n",
       "    }\n",
       "\n",
       "    .dataframe thead th {\n",
       "        text-align: right;\n",
       "    }\n",
       "</style>\n",
       "<table border=\"1\" class=\"dataframe\">\n",
       "  <thead>\n",
       "    <tr style=\"text-align: right;\">\n",
       "      <th></th>\n",
       "      <th>TYPE</th>\n",
       "      <th>diameter[mm]</th>\n",
       "      <th>R[Ohm/m]</th>\n",
       "      <th>Imax[A]</th>\n",
       "      <th>Mass[kg]</th>\n",
       "      <th>r*</th>\n",
       "      <th>M*</th>\n",
       "      <th>Er</th>\n",
       "      <th>Unnamed: 8</th>\n",
       "    </tr>\n",
       "  </thead>\n",
       "  <tbody>\n",
       "    <tr>\n",
       "      <th>0</th>\n",
       "      <td>Wire</td>\n",
       "      <td>0.51</td>\n",
       "      <td>0.088</td>\n",
       "      <td>3.5</td>\n",
       "      <td>0.001830</td>\n",
       "      <td>0.492714</td>\n",
       "      <td>0.00170839</td>\n",
       "      <td>3.389492e-02</td>\n",
       "      <td>0.033895</td>\n",
       "    </tr>\n",
       "    <tr>\n",
       "      <th>1</th>\n",
       "      <td>Wire</td>\n",
       "      <td>0.64</td>\n",
       "      <td>0.052</td>\n",
       "      <td>5.0</td>\n",
       "      <td>0.002882</td>\n",
       "      <td>0.624975</td>\n",
       "      <td>0.002748672</td>\n",
       "      <td>2.347685e-02</td>\n",
       "      <td>NaN</td>\n",
       "    </tr>\n",
       "    <tr>\n",
       "      <th>2</th>\n",
       "      <td>Wire</td>\n",
       "      <td>0.81</td>\n",
       "      <td>0.034</td>\n",
       "      <td>6.0</td>\n",
       "      <td>0.004617</td>\n",
       "      <td>0.705749</td>\n",
       "      <td>0.00350508</td>\n",
       "      <td>1.287055e-01</td>\n",
       "      <td>NaN</td>\n",
       "    </tr>\n",
       "    <tr>\n",
       "      <th>3</th>\n",
       "      <td>Wire</td>\n",
       "      <td>1.00</td>\n",
       "      <td>0.022</td>\n",
       "      <td>9.5</td>\n",
       "      <td>0.007037</td>\n",
       "      <td>0.958734</td>\n",
       "      <td>0.006468363</td>\n",
       "      <td>4.126573e-02</td>\n",
       "      <td>NaN</td>\n",
       "    </tr>\n",
       "    <tr>\n",
       "      <th>4</th>\n",
       "      <td>Wire</td>\n",
       "      <td>1.30</td>\n",
       "      <td>0.013</td>\n",
       "      <td>15.0</td>\n",
       "      <td>0.011893</td>\n",
       "      <td>1.300000</td>\n",
       "      <td>0.011892813</td>\n",
       "      <td>1.710000e-16</td>\n",
       "      <td>NaN</td>\n",
       "    </tr>\n",
       "  </tbody>\n",
       "</table>\n",
       "</div>"
      ],
      "text/plain": [
       "   TYPE  diameter[mm]  R[Ohm/m]  Imax[A]  Mass[kg]        r*           M*  \\\n",
       "0  Wire          0.51     0.088      3.5  0.001830  0.492714   0.00170839   \n",
       "1  Wire          0.64     0.052      5.0  0.002882  0.624975  0.002748672   \n",
       "2  Wire          0.81     0.034      6.0  0.004617  0.705749   0.00350508   \n",
       "3  Wire          1.00     0.022      9.5  0.007037  0.958734  0.006468363   \n",
       "4  Wire          1.30     0.013     15.0  0.011893  1.300000  0.011892813   \n",
       "\n",
       "             Er  Unnamed: 8  \n",
       "0  3.389492e-02    0.033895  \n",
       "1  2.347685e-02         NaN  \n",
       "2  1.287055e-01         NaN  \n",
       "3  4.126573e-02         NaN  \n",
       "4  1.710000e-16         NaN  "
      ]
     },
     "execution_count": 1,
     "metadata": {},
     "output_type": "execute_result"
    }
   ],
   "source": [
    "import pandas as pd\n",
    "\n",
    "path='./Data/'\n",
    "df = pd.read_csv(path+'ScalingLawsCables.csv',sep=';',encoding = 'unicode_escape')\n",
    "df.head()"
   ]
  },
  {
   "cell_type": "markdown",
   "metadata": {},
   "source": [
    "#### Finding an appropriate reference"
   ]
  },
  {
   "cell_type": "markdown",
   "metadata": {},
   "source": [
    "In order to validate the formulated scaling laws we need to find a good reference to have the least possible error.\n",
    "To select the best reference point with the lowest possible error with respect to the mass, the average relative error was compared\n",
    "testing all available data points. "
   ]
  },
  {
   "cell_type": "code",
   "execution_count": 2,
   "metadata": {},
   "outputs": [],
   "source": [
    "import pandas as pd\n",
    "import statistics\n",
    "import numpy as np\n",
    "from sklearn.metrics import r2_score\n",
    "\n",
    "path='./Data/'\n",
    "df = pd.read_csv(path+'ScalingLawsCables.csv',sep=';',encoding = 'unicode_escape')\n",
    "ref_count=-1\n",
    "value_count=0\n",
    "\n",
    "\n",
    "n=1e15\n",
    "df=df.loc[df['TYPE'] == 'Wire']\n",
    "df = df.reset_index(drop=True)\n",
    "\n",
    "for index, row in df.iterrows():\n",
    "    allm=[]\n",
    "    allmass=[]#all mass\n",
    "    value_count=0\n",
    "    ref_count+=1\n",
    "    for index, row in df.iterrows():\n",
    "        M=df.at[ref_count,'Mass[kg]']*(df.at[value_count,'Imax[A]']/df.at[ref_count,'Imax[A]'])**(4/3)#estimation mass\n",
    "        allmass.append(M)#all mass\n",
    "        ER=abs(M-df.at[value_count,'Mass[kg]'])/(df.at[value_count,'Mass[kg]'])#relative error per row\n",
    "        allm.append(ER)#all relative errors\n",
    "        MEAN=(np.mean(allm))#average relative error\n",
    "        value_count+=1\n",
    "    if MEAN<n:\n",
    "        n=MEAN\n",
    "        dmax=df.at[ref_count,'diameter[mm]'] \n",
    "        Imax=df.at[ref_count,'Imax[A]'] \n",
    "        MREF=df.at[ref_count,'Mass[kg]'] \n",
    "        sigma=statistics.stdev(allm)"
   ]
  },
  {
   "cell_type": "code",
   "execution_count": 3,
   "metadata": {},
   "outputs": [
    {
     "data": {
      "text/plain": [
       "(120.0, 0.19028501)"
      ]
     },
     "execution_count": 3,
     "metadata": {},
     "output_type": "execute_result"
    }
   ],
   "source": [
    "Imax,MREF"
   ]
  },
  {
   "cell_type": "markdown",
   "metadata": {},
   "source": [
    "These are the references of maximum current and mass which give the minimum average relative error in the scaling law."
   ]
  },
  {
   "cell_type": "markdown",
   "metadata": {},
   "source": [
    "$r^*=I^{(*1/1.5)}$"
   ]
  },
  {
   "cell_type": "code",
   "execution_count": 4,
   "metadata": {},
   "outputs": [],
   "source": [
    "from matplotlib import pyplot as mp\n",
    "from matplotlib import pyplot as plt\n",
    "import pandas as pd\n",
    "import numpy as np\n"
   ]
  },
  {
   "cell_type": "code",
   "execution_count": 5,
   "metadata": {},
   "outputs": [
    {
     "data": {
      "text/plain": [
       "Text(0, 0.5, 'r [mm]')"
      ]
     },
     "execution_count": 5,
     "metadata": {},
     "output_type": "execute_result"
    },
    {
     "data": {
      "image/png": "[encoded data removed]",
      "text/plain": [
       "<Figure size 432x288 with 1 Axes>"
      ]
     },
     "metadata": {
      "needs_background": "light"
     },
     "output_type": "display_data"
    }
   ],
   "source": [
    "\n",
    "path='./Data/'\n",
    "df = pd.read_csv(path+'ScalingLawsCables.csv',sep=';',encoding = 'unicode_escape')\n",
    "\n",
    "# plt.rc('text', usetex=True)\n",
    "# plt.rc('font', family='serif')\n",
    "\n",
    "r_ref=5.2#[mm]\n",
    "I_ref=120#[A]\n",
    "M_ref=0.19028501#[kg]\n",
    "\n",
    "plt.plot(df['Imax[A]'], df['diameter[mm]'],'o')\n",
    "plt.plot(I_ref, r_ref,'^r',label='Reference point')\n",
    "\n",
    "I=df['Imax[A]']\n",
    "\n",
    "r=r_ref*(I/I_ref)**(1/1.5)\n",
    "\n",
    "plt.plot(I,r)\n",
    "\n",
    "#Here we plot\n",
    "plt.grid(True,which=\"both\",ls=\"-\")\n",
    "plt.legend()\n",
    "plt.xlabel('I [A]',fontsize=14)\n",
    "plt.ylabel('r [mm]',fontsize=14)\n",
    "\n",
    "# mp.savefig('rI.pdf',dpi=1200, format='pdf')"
   ]
  },
  {
   "cell_type": "markdown",
   "metadata": {},
   "source": [
    "$M^*=I^{*2/1.5}$"
   ]
  },
  {
   "cell_type": "code",
   "execution_count": 6,
   "metadata": {},
   "outputs": [
    {
     "data": {
      "text/plain": [
       "Text(0, 0.5, '$\\\\frac{M}{L}$ [kg/m]')"
      ]
     },
     "execution_count": 6,
     "metadata": {},
     "output_type": "execute_result"
    },
    {
     "data": {
      "image/png": "[encoded data removed]",
      "text/plain": [
       "<Figure size 432x288 with 1 Axes>"
      ]
     },
     "metadata": {
      "needs_background": "light"
     },
     "output_type": "display_data"
    }
   ],
   "source": [
    "path='./Data/'\n",
    "df = pd.read_csv(path+'ScalingLawsCables.csv',sep=';',encoding = 'unicode_escape')\n",
    "\n",
    "\n",
    "# plt.rc('text', usetex=True)\n",
    "# plt.rc('font', family='serif')\n",
    "\n",
    "\n",
    "r_ref=5.2#[mm]\n",
    "I_ref=120#[A]\n",
    "M_ref=0.19028501#[kg]\n",
    "\n",
    "plt.plot(df['Imax[A]'], df['Mass[kg]'],'o')\n",
    "plt.plot(I_ref, M_ref,'^r',label='Reference point')\n",
    "\n",
    "\n",
    "I=df['Imax[A]']\n",
    "\n",
    "M=M_ref*(I/I_ref)**(2/1.5)\n",
    "\n",
    "plt.plot(I,M)\n",
    "\n",
    "#Here we plot\n",
    "#Labelling\n",
    "#ax1.loglog()\n",
    "plt.grid(True,which=\"both\",ls=\"-\")\n",
    "plt.legend()\n",
    "#ax1.set_title('M=I^(2/1.5) ')\n",
    "plt.xlabel('I [A]',fontsize=14)\n",
    "plt.ylabel(r'$\\frac{M}{L}$ [kg/m]',fontsize=14)\n",
    "\n",
    "# plt.savefig('MI.pdf',dpi=1200, format='pdf')"
   ]
  },
  {
   "cell_type": "code",
   "execution_count": null,
   "metadata": {},
   "outputs": [],
   "source": []
  }
 ],
 "metadata": {
  "kernelspec": {
   "display_name": "Python 3",
   "language": "python",
   "name": "python3"
  },
  "language_info": {
   "codemirror_mode": {
    "name": "ipython",
    "version": 3
   },
   "file_extension": ".py",
   "mimetype": "text/x-python",
   "name": "python",
   "nbconvert_exporter": "python",
   "pygments_lexer": "ipython3",
   "version": "3.7.5"
  }
 },
 "nbformat": 4,
 "nbformat_minor": 2
}
