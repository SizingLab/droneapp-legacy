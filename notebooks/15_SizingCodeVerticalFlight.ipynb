{
 "cells": [
  {
   "cell_type": "markdown",
   "metadata": {
    "slideshow": {
     "slide_type": "slide"
    }
   },
   "source": [
    "<img src=\"./pictures/DroneApp_logo.png\" style=\"float:right; max-width: 180px; display: inline\" alt=\"INSA\" />\n",
    "<img src=\"./pictures/logo_sizinglab.png\" style=\"float:right; max-width: 100px; display: inline\" alt=\"INSA\" />"
   ]
  },
  {
   "cell_type": "markdown",
   "metadata": {
    "slideshow": {
     "slide_type": "slide"
    }
   },
   "source": [
    "# Sizing of a multi-rotor drone\n",
    "\n",
    "*Written by Marc Budinger, Aitor Ochotorena (INSA Toulouse) and Scott Delbecq (ISAE-SUPAERO), Toulouse, France.*"
   ]
  },
  {
   "cell_type": "markdown",
   "metadata": {},
   "source": [
    "The objective of this notebook is to select the best compromise of components (propeller, motor, ESC, battery) of a multi-rotor drone for given specifiations.\n",
    "\n",
    "**Scipy** and **math** packages will be used for this notebook for the optimization algorithms of python.\n",
    "\n",
    "**widgets** provides an interactive layout to display the results."
   ]
  },
  {
   "cell_type": "code",
   "execution_count": 1,
   "metadata": {},
   "outputs": [],
   "source": [
    "import scipy\n",
    "import scipy.optimize\n",
    "\n",
    "from math import pi\n",
    "from math import sqrt\n",
    "from math import sin\n",
    "\n",
    "import numpy as np\n",
    "import pandas as pd\n",
    "\n",
    "import ipywidgets as widgets\n",
    "from ipywidgets import interactive\n",
    "from IPython.display import display\n",
    "\n",
    "pd.options.display.float_format = '{:,.2f}'.format"
   ]
  },
  {
   "cell_type": "markdown",
   "metadata": {},
   "source": [
    "## Contents\n",
    "1. [Sizing the propeller for vertical climb speed ](#section_1)\n",
    "2. [Architecture defintion and design assumptions](#section_2)\n",
    "3. [Sizing code](#section_3)\n",
    "4. [Optimization problem](#section_4)"
   ]
  },
  {
   "cell_type": "markdown",
   "metadata": {},
   "source": [
    "<a id='section_1'></a>"
   ]
  },
  {
   "cell_type": "markdown",
   "metadata": {},
   "source": [
    "## Sizing propeller to vertical climb speed scenario"
   ]
  },
  {
   "cell_type": "markdown",
   "metadata": {},
   "source": [
    "This exercise targets to minimize the propeller torque for vertical climb speed scenario. This Notebook shows the role of the design variables as well as the constraints in an optimization problem. \n",
    "\n",
    "\n",
    "Let us say that $Q_{pro,cl}$ is the climb torque to minimize. \n",
    "\n",
    "For the vertical climb, advance ratio ($J=\\frac{V_{cl}}{n_{cl}   D_{pro}}$) is a key parameter to estimate the vertical speed. \n",
    "\n",
    "Given that $D_{pro}$ and $V_{cl}$ are known from the specifications of the problem, we face a problem with one equation and two undetermined parameters.\n",
    "\n",
    "**STRATEGY:** One of these parameters is going to be defined within a design range (e.g. J) and thus, the rest of calculations are done. This particular case is called **underconstraint singularity**.\n",
    "\n",
    "Finally, estimated parameter is compared to the real value through the constraint. \n",
    "\n",
    "The sizing code is defined here in a function which can give:\n",
    "- an evaluation of the objective: here minimize the torque in climb scenario\n",
    "- an evaluation of the constraints: \n",
    "\n",
    "\n",
    "\n",
    "<math>\\begin{align}\n",
    "&\\underset{\\mathbf{x}}{\\operatorname{minimize}}& & Q_{pro,cl}(\\mathbf{x}) \\\\\n",
    "&\\operatorname{subject\\ to}\n",
    "& & 5\\% \\leq  V_{cl}-J n_{cl}   D_{pro} \\leq 0 \\\\\n",
    "\\end{align}</math>\n",
    "\n",
    "where it is expected that the product $J n_{cl}   D_{pro}$ calculated does not differ more than a 5\\%.\n",
    "\n",
    "Here is an non-exhaustive XDSM diagram of the whole multirotor sizing code:\n",
    "\n",
    "![XDSM](pictures/xdsm_multirotor_mdo.png)\n",
    "\n",
    "More details in the setting up of sizing code can be found in the  [following paper](https://www.researchgate.net/profile/Marc_Budinger/publication/277933677_Computer-aided_definition_of_sizing_procedures_and_optimization_problems_of_mechatronic_systems/links/55969de508ae793d137c7ea5/Computer-aided-definition-of-sizing-procedures-and-optimization-problems-of-mechatronic-systems.pdf):  \n",
    "\n",
    "> Reysset, A., Budinger, M., & Maré, J. C. (2015). Computer-aided definition of sizing procedures and optimization problems of mechatronic systems. Concurrent Engineering, 23(4), 320-332.\n"
   ]
  },
  {
   "cell_type": "markdown",
   "metadata": {},
   "source": [
    "<a id='section_2'></a>"
   ]
  },
  {
   "cell_type": "markdown",
   "metadata": {},
   "source": [
    "## Architecture defintion and design assumptions"
   ]
  },
  {
   "cell_type": "code",
   "execution_count": 2,
   "metadata": {},
   "outputs": [],
   "source": [
    "Mtotal = 1.35 # [kg] mass of the drone \n",
    "\n",
    "rho_air=1.18# [kg/m^3] Air density\n",
    "\n",
    "C_D=1.3 #[-]drag coefficient\n",
    "\n",
    "pitch=4.5*0.0254#[m] propeller pitch\n",
    "\n",
    "Dpro=10*0.0254#[m] propeller diameter\n",
    "\n",
    "k_maxthrust= 3 #Ratio max thrust-hover [-]\n",
    "\n",
    "A_top=0.045 #[m^2] top surface\n",
    "\n",
    "N_arm = 4 # [-] number of arm\n",
    "\n",
    "N_pro_arm = 2 # [-] number of propeller per arm (1 or 2)\n",
    "\n",
    "N_pro = N_pro_arm * N_arm # [-] Propellers number\n",
    "\n",
    "V_cl = 5 # [m/s] max vertical speed\n",
    "\n",
    "bounds=[(0.01,0.5)]#J"
   ]
  },
  {
   "cell_type": "markdown",
   "metadata": {},
   "source": [
    "<a id='section_3'></a>"
   ]
  },
  {
   "cell_type": "markdown",
   "metadata": {},
   "source": [
    "## Sizing code"
   ]
  },
  {
   "cell_type": "code",
   "execution_count": 3,
   "metadata": {
    "slideshow": {
     "slide_type": "slide"
    }
   },
   "outputs": [],
   "source": [
    "# -----------------------\n",
    "# sizing code\n",
    "# -----------------------\n",
    "# inputs: \n",
    "# - param: optimisation variables vector (reduction ratio, oversizing coefficient)\n",
    "# - arg: selection of output  \n",
    "# output: \n",
    "# - objective if arg='Obj', problem characteristics if arg='Prt', constraints other else\n",
    "\n",
    "def SizingCode(param, arg):\n",
    "\n",
    "# Design variables\n",
    "# ---\n",
    "    J = param[0] # advance ratio\n",
    "\n",
    "# Hover, Climbing & Take-Off thrust \n",
    "# ---\n",
    "    \n",
    "    F_pro_hov=Mtotal*(9.81)/N_pro # [N] Thrust per propeller for hover\n",
    "    \n",
    "    F_pro_to=F_pro_hov*(k_maxthrust) # [N] Max Thrust per propeller   \n",
    "    \n",
    "    F_pro_cl=(Mtotal*9.81+0.5*rho_air*(C_D)*(A_top)*(V_cl)**2)/N_pro # [N] Thrust per propeller for climbing\n",
    "    \n",
    "# Propeller models\n",
    "# ---\n",
    "\n",
    "    # Statics APC MR\n",
    "    \n",
    "    beta=pitch/Dpro # [-] Ratio pitch-to-diameter\n",
    "    \n",
    "    C_t_sta=4.27e-02 + 1.44e-01 * beta # Thrust coef with T=C_T.rho.n^2.D^4\n",
    "    C_p_sta=-1.48e-03 + 9.72e-02 * beta  # Power coef with P=C_p.rho.n^3.D^5\n",
    "    \n",
    "    # Dynamics APC MR\n",
    "\n",
    "    C_t_dyn=0.02791-0.06543*J+0.11867*beta+0.27334*beta**2-0.28852*beta**3+0.02104*J**3-0.23504*J**2+0.18677*beta*J**2 # thrust coef for APC props in dynamics\n",
    "    C_p_dyn=0.01813-0.06218*beta+0.00343*J+0.35712*beta**2-0.23774*beta**3+0.07549*beta*J-0.1235*J**2 # power coef for APC props in dynamics\n",
    "\n",
    "# Propeller mass\n",
    "# ---\n",
    "\n",
    "    Dpro_ref=11*.0254 # [m] diameter\n",
    "    Mpro_ref=0.53*0.0283 # [kg] mass\n",
    "\n",
    "    Mpro=Mpro_ref*(Dpro/Dpro_ref)**3 # [kg] Propeller mass\n",
    "\n",
    "#Rotational speed \n",
    "# ---\n",
    "\n",
    "    n_pro_hover=sqrt(F_pro_hov/(C_t_sta*(rho_air)*Dpro**4)) # [Hz] hover speed\n",
    "    Wpro_hover=n_pro_hover*2*3.14 # [rad/s] Propeller speed    \n",
    "\n",
    "    n_pro_to=sqrt(F_pro_to/(C_t_sta*(rho_air)*Dpro**4)) # [Hz] climbing speed\n",
    "    Wpro_to=n_pro_to*2*3.14 # [rad/s] Propeller speed\n",
    "\n",
    "    n_pro_cl=sqrt(F_pro_cl/(C_t_dyn*(rho_air)*Dpro**4)) # [Hz] climbing speed\n",
    "    Wpro_cl=n_pro_cl*2*3.14 # [rad/s] Propeller speed\n",
    "        \n",
    "\n",
    "# Propeller selection with take-off scenario\n",
    "        \n",
    "    Ppro_to=C_p_sta*(rho_air)*n_pro_to**3*Dpro**5# [W] Power per propeller\n",
    "    Qpro_to=Ppro_to/Wpro_to # [N.m] Propeller torque\n",
    "\n",
    "# Propeller torque& speed for hover\n",
    "    \n",
    "    Ppro_hover=C_p_sta*(rho_air)*n_pro_hover**3*Dpro**5# [W] Power per propeller\n",
    "    Qpro_hover=Ppro_hover/Wpro_hover # [N.m] Propeller torque    \n",
    "\n",
    "# Propeller torque& speed for climbing\n",
    "   \n",
    "    Ppro_cl=C_p_sta*(rho_air)*n_pro_to**3*Dpro**5# [W] Power per propeller\n",
    "    Qpro_cl=Ppro_cl/Wpro_cl # [N.m] Propeller torque\n",
    "\n",
    "\n",
    "# Objective and Constraints sum up\n",
    "# ---\n",
    "    Qpro_cl # minimize torque in climbing \n",
    "\n",
    "    constraints = [(-J*n_pro_cl*Dpro+V_cl),\n",
    "                    (0.05+J*n_pro_cl*Dpro-V_cl)]\n",
    "\n",
    "    # Run algorithm slsqp\n",
    "    if arg == 'Obj':\n",
    "        return Qpro_cl # for torque optimisation\n",
    "\n",
    "     # Run algorithm differential evolution\n",
    "    elif arg == 'ObjP':\n",
    "        P = 0. # Penalisation nulle\n",
    "        for C in constraints: \n",
    "            if (C < 0.): \n",
    "                P = P-1e9*C\n",
    "        return Qpro_cl + P # for torque optimisation       \n",
    "\n",
    "    elif arg=='Prt':\n",
    "\n",
    "        col_names = ['Type', 'Name', 'Value', 'Unit', 'Comment']\n",
    "\n",
    "        df = pd.DataFrame()\n",
    "        df = df.append([{'Type': 'Optimization', 'Name': 'J', 'Value': J, 'Unit': '[-]', 'Comment': 'advance ratio '}])[col_names]\n",
    "        df = df.append([{'Type': 'Optimization', 'Name': 'Const 0', 'Value': constraints[0], 'Unit': '[-]', 'Comment': '(V_cl-J*n_pro_cl*Dpro)'}])[col_names]\n",
    "        df = df.append([{'Type': 'Optimization', 'Name': 'Const 1',  'Value': constraints[1], 'Unit': '[-]', 'Comment': '-V_cl+J*n_pro_cl*Dpro+0.05'}])[col_names]\n",
    "        df = df.append([{'Type': 'Optimization', 'Name': 'Objective',  'Value': Qpro_cl, 'Unit': '[kg]', 'Comment': 'Torque vertical climb'}])[col_names]\n",
    "        df = df.append([{'Type': 'Propeller', 'Name': 'beta', 'Value': beta, 'Unit': '[-]', 'Comment': 'Ratio pitch to diameter'}])[col_names]\n",
    "        df = df.append([{'Type': 'Propeller', 'Name': 'pitch', 'Value': pitch, 'Unit': '[m]', 'Comment': 'Pitch'}])[col_names]\n",
    "        df = df.append([{'Type': 'Propeller', 'Name': 'F_pro_to', 'Value': F_pro_to, 'Unit': '[N]', 'Comment': 'Thrust for 1 propeller during Take Off'}])[col_names]\n",
    "        df = df.append([{'Type': 'Propeller', 'Name': 'F_pro_cl', 'Value': F_pro_cl, 'Unit': '[N]', 'Comment': 'Thrust for 1 propeller during Climbing'}])[col_names]\n",
    "        df = df.append([{'Type': 'Propeller', 'Name': 'F_pro_hov', 'Value': F_pro_hov, 'Unit': '[N]', 'Comment': 'Thrust for 1 propeller during Hover'}])[col_names]\n",
    "        df = df.append([{'Type': 'Propeller', 'Name': 'rho_air', 'Value': rho_air, 'Unit': '[kg/m^3]', 'Comment': 'Air density'}])[col_names]\n",
    "        df = df.append([{'Type': 'Propeller', 'Name': 'Dpro_ref', 'Value': Dpro_ref, 'Unit': '[m]', 'Comment': 'Reference propeller diameter'}])[col_names]\n",
    "        df = df.append([{'Type': 'Propeller', 'Name': 'M_pro_ref', 'Value': Mpro_ref, 'Unit': '[kg]', 'Comment': 'Reference propeller mass'}])[col_names]\n",
    "        df = df.append([{'Type': 'Propeller', 'Name': 'C_t_sta', 'Value': C_t_sta, 'Unit': '[-]', 'Comment': 'Static thrust coefficient of the propeller'}])[col_names]\n",
    "        df = df.append([{'Type': 'Propeller', 'Name': 'C_p_sta', 'Value': C_p_sta, 'Unit': '[-]', 'Comment': 'Static power coefficient of the propeller'}])[col_names]\n",
    "        df = df.append([{'Type': 'Propeller', 'Name': 'C_t_dyn', 'Value': C_t_dyn, 'Unit': '[-]', 'Comment': 'Dynamic thrust coefficient of the propeller'}])[col_names]\n",
    "        df = df.append([{'Type': 'Propeller', 'Name': 'C_p_dyn', 'Value': C_p_dyn, 'Unit': '[-]', 'Comment': 'Dynamic power coefficient of the propeller'}])[col_names]\n",
    "        df = df.append([{'Type': 'Propeller', 'Name': 'D_pro', 'Value': Dpro, 'Unit': '[m]', 'Comment': 'Diameter of the propeller'}])[col_names]\n",
    "        df = df.append([{'Type': 'Propeller', 'Name': 'n_pro_to', 'Value': n_pro_to, 'Unit': '[Hz]', 'Comment': 'Rev speed of the propeller during takeoff'}])[col_names]\n",
    "        df = df.append([{'Type': 'Propeller', 'Name': 'n_pro_hov', 'Value': n_pro_hover, 'Unit': '[Hz]', 'Comment': 'Rev speed of the propeller during hover'}])[col_names]\n",
    "        df = df.append([{'Type': 'Propeller', 'Name': 'n_pro_cl', 'Value': n_pro_cl, 'Unit': '[Hz]', 'Comment': 'Rev speed of the propeller during climb'}])[col_names]\n",
    "        df = df.append([{'Type': 'Propeller', 'Name': 'P_pro_to', 'Value': Ppro_to, 'Unit': '[W]', 'Comment': 'Power on the mechanical shaft of the propeller during takeoff'}])[col_names]\n",
    "        df = df.append([{'Type': 'Propeller', 'Name': 'P_pro_hov', 'Value': Ppro_hover, 'Unit': '[W]', 'Comment': 'Power on the mechanical shaft of the propeller during hover'}])[col_names]\n",
    "        df = df.append([{'Type': 'Propeller', 'Name': 'P_pro_cl', 'Value': Ppro_cl, 'Unit': '[W]', 'Comment': 'Power on the mechanical shaft of the propeller during climb'}])[col_names]\n",
    "        df = df.append([{'Type': 'Propeller', 'Name': 'M_pro', 'Value': Mpro, 'Unit': '[kg]', 'Comment': 'Mass of the propeller'}])[col_names]\n",
    "        df = df.append([{'Type': 'Propeller', 'Name': 'Omega_pro_to', 'Value': Wpro_to, 'Unit': '[rad/s]', 'Comment': 'Rev speed of the propeller during takeoff'}])[col_names]\n",
    "        df = df.append([{'Type': 'Propeller', 'Name': 'Omega_pro_hov', 'Value': Wpro_hover, 'Unit': '[rad/s]', 'Comment': 'Rev speed of the propeller during hover'}])[col_names]\n",
    "        df = df.append([{'Type': 'Propeller', 'Name': 'Omega_pro_cl', 'Value': Wpro_cl, 'Unit': '[rad/s]', 'Comment': 'Rev speed of the propeller during climb'}])[col_names]\n",
    "        df = df.append([{'Type': 'Propeller', 'Name': 'Qpro_hov', 'Value': Qpro_hover, 'Unit': '[N.m]', 'Comment': 'Torque on the mechanical shaft of the propeller during hover'}])[col_names]\n",
    "        df = df.append([{'Type': 'Propeller', 'Name': 'Qpro_to', 'Value': Qpro_to, 'Unit': '[N.m]', 'Comment': 'Torque on the mechanical shaft of the propeller during takeoff'}])[col_names]\n",
    "        df = df.append([{'Type': 'Propeller', 'Name': 'Qpro_cl', 'Value': Qpro_cl, 'Unit': '[N.m]', 'Comment': 'Torque on the mechanical shaft of the propeller during climb'}])[col_names]\n",
    "        df = df.append([{'Type': 'Specifications', 'Name': 'M_total', 'Value': Mtotal, 'Unit': '[kg]', 'Comment': 'Total mass'}])[col_names]\n",
    "        df = df.append([{'Type': 'Specifications', 'Name': 'N_pro', 'Value': N_pro, 'Unit': '[-]', 'Comment': 'Number of propellers '}])[col_names]\n",
    "        df = df.append([{'Type': 'Specifications', 'Name': 'N_pro_arm', 'Value': N_pro_arm, 'Unit': '[-]', 'Comment': 'Number of propellers per arm '}])[col_names]\n",
    "\n",
    "        items = sorted(df['Type'].unique().tolist())\n",
    "        def f(Type):\n",
    "            return df[df['Type']==Type] \n",
    "        widgets.interact(f, Type=items)\n",
    "        return f\n",
    "             \n",
    "    else:\n",
    "        return constraints\n"
   ]
  },
  {
   "cell_type": "markdown",
   "metadata": {},
   "source": [
    "<a id='section_4'></a>"
   ]
  },
  {
   "cell_type": "markdown",
   "metadata": {
    "slideshow": {
     "slide_type": "slide"
    }
   },
   "source": [
    "## Optimization problem\n"
   ]
  },
  {
   "cell_type": "markdown",
   "metadata": {},
   "source": [
    "We will now use the [optimization algorithms](https://docs.scipy.org/doc/scipy/reference/optimize.html) of the Scipy package to solve and optimize the configuration. We can use the SLSQP algorithm without explicit expression of the gradient (Jacobian) or a differential evolution optimization to have a more exhaustive calculation. A course on Multidisplinary Gradient optimization algorithms and gradient optimization algorithm is given [here](http://mdolab.engin.umich.edu/sites/default/files/Martins-MDO-course-notes.pdf):\n",
    "> Joaquim R. R. A. Martins (2012). A Short Course on Multidisciplinary Design Optimization. University of Michigan\n"
   ]
  },
  {
   "cell_type": "markdown",
   "metadata": {},
   "source": [
    "The first step is to give an initial value of optimisation variables:"
   ]
  },
  {
   "cell_type": "code",
   "execution_count": 4,
   "metadata": {},
   "outputs": [],
   "source": [
    "# Optimisation variables\n",
    "J = .01 # advance ratio\n",
    "\n",
    "# Vector of parameters\n",
    "parameters = np.array([J])"
   ]
  },
  {
   "cell_type": "markdown",
   "metadata": {
    "slideshow": {
     "slide_type": "slide"
    }
   },
   "source": [
    "We can print of the characterisitcs of the problem before optimization with the initial vector of optimization variables. Through the droplist menu, an interactive display of the parameters grouped by their type of variable is given:"
   ]
  },
  {
   "cell_type": "code",
   "execution_count": 5,
   "metadata": {},
   "outputs": [
    {
     "name": "stdout",
     "output_type": "stream",
     "text": [
      "-----------------------------------------------\n",
      "Initial characteristics before optimization :\n"
     ]
    },
    {
     "data": {
      "application/vnd.jupyter.widget-view+json": {
       "model_id": "dde59489bd674da1979ab2fd0058f14a",
       "version_major": 2,
       "version_minor": 0
      },
      "text/plain": [
       "interactive(children=(Dropdown(description='Type', options=('Optimization', 'Propeller', 'Specifications'), va…"
      ]
     },
     "metadata": {},
     "output_type": "display_data"
    },
    {
     "name": "stdout",
     "output_type": "stream",
     "text": [
      "-----------------------------------------------\n"
     ]
    }
   ],
   "source": [
    "# Initial characteristics before optimization \n",
    "print(\"-----------------------------------------------\")\n",
    "print(\"Initial characteristics before optimization :\")\n",
    "SizingCode(parameters,'Prt')\n",
    "print(\"-----------------------------------------------\")"
   ]
  },
  {
   "cell_type": "markdown",
   "metadata": {
    "slideshow": {
     "slide_type": "slide"
    }
   },
   "source": [
    "Then we can solve the problem and print of the optimized solution:"
   ]
  },
  {
   "cell_type": "code",
   "execution_count": 6,
   "metadata": {},
   "outputs": [
    {
     "name": "stdout",
     "output_type": "stream",
     "text": [
      "-----------------------------------------------\n",
      "Final characteristics after optimization :\n"
     ]
    },
    {
     "data": {
      "application/vnd.jupyter.widget-view+json": {
       "model_id": "b4285d6f13e446ee8edfac21e4df0e1f",
       "version_major": 2,
       "version_minor": 0
      },
      "text/plain": [
       "interactive(children=(Dropdown(description='Type', options=('Optimization', 'Propeller', 'Specifications'), va…"
      ]
     },
     "metadata": {},
     "output_type": "display_data"
    },
    {
     "name": "stdout",
     "output_type": "stream",
     "text": [
      "-----------------------------------------------\n"
     ]
    }
   ],
   "source": [
    "# Optimization with SLSQP algorithm\n",
    "contrainte = lambda x: SizingCode(x, 'Const')\n",
    "objectif = lambda x: SizingCode(x, 'Obj')\n",
    "objectifP = lambda x: SizingCode(x, 'ObjP')\n",
    "\n",
    "SLSQP = False # Optimization algorithm choice\n",
    "\n",
    "if SLSQP == True:\n",
    "    # SLSQP omptimisation\n",
    "    result = scipy.optimize.fmin_slsqp(func=objectif, x0=parameters, \n",
    "                                   bounds=[(0.01,0.5)],\n",
    "                                   f_ieqcons=contrainte, \n",
    "                                   iter=1500, acc=1e-12)\n",
    "else:\n",
    "    # Differential evolution omptimisation\n",
    "    result = scipy.optimize.differential_evolution(func=objectifP,\n",
    "                                   bounds=[(0.01,0.5)],\n",
    "                                   tol=1e-12)\n",
    "\n",
    "# Final characteristics after optimization \n",
    "print(\"-----------------------------------------------\")\n",
    "print(\"Final characteristics after optimization :\")\n",
    "\n",
    "if SLSQP == True:\n",
    "    SizingCode(result,'Obj')\n",
    "    SizingCode(result, 'Prt')\n",
    "else:\n",
    "    SizingCode(result.x,'Obj')\n",
    "    SizingCode(result.x, 'Prt')\n",
    "print(\"-----------------------------------------------\")\n",
    "\n"
   ]
  },
  {
   "cell_type": "code",
   "execution_count": 7,
   "metadata": {},
   "outputs": [
    {
     "data": {
      "text/plain": [
       "(1,)"
      ]
     },
     "execution_count": 7,
     "metadata": {},
     "output_type": "execute_result"
    }
   ],
   "source": [
    "parameters.shape\n"
   ]
  },
  {
   "cell_type": "code",
   "execution_count": null,
   "metadata": {},
   "outputs": [],
   "source": []
  }
 ],
 "metadata": {
  "kernelspec": {
   "display_name": "Python 3",
   "language": "python",
   "name": "python3"
  },
  "language_info": {
   "codemirror_mode": {
    "name": "ipython",
    "version": 3
   },
   "file_extension": ".py",
   "mimetype": "text/x-python",
   "name": "python",
   "nbconvert_exporter": "python",
   "pygments_lexer": "ipython3",
   "version": "3.7.1"
  }
 },
 "nbformat": 4,
 "nbformat_minor": 4
}
