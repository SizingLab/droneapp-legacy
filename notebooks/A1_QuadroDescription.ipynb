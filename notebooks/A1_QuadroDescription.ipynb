{
 "cells": [
  {
   "cell_type": "markdown",
   "metadata": {},
   "source": [
    "<img src=\"./pictures/logo_sizinglab.png\" style=\"float:right; max-width: 60px; display: inline\" alt=\"SizingLab\" /></a>"
   ]
  },
  {
   "cell_type": "markdown",
   "metadata": {},
   "source": [
    "# Appendix 1: Multi-rotor drone reference \n",
    "\n",
    "Technical informations about the [MK-Quadro](http://wiki.mikrokopter.de/MK-Quadro) drone of Mikrokopter are summarized here.\n",
    "\n",
    "![Quadro](./pictures/MikroQuadro.jpg)"
   ]
  },
  {
   "cell_type": "markdown",
   "metadata": {},
   "source": [
    "### Main characteristics\n",
    "\n",
    "Global informations:\n",
    "* Total mass ready to take off: 1350 g\n",
    "* Carrying capacity: 1300 g\n",
    "\n",
    "Batteries:\n",
    "* LIPO 4S (4*3.7V) 3300mAh\n",
    "* mass = 329g\n",
    "\n",
    "Motors: \n",
    "* Motor position: 0.225 m\n",
    "* Roxxy 2827‐35\n",
    "\n",
    "Characteristic | Value\n",
    "--- | --- \n",
    "Poles pair number| 7  \n",
    "Load current | 6‐9A (DC)  \n",
    "Max current | 10A (DC)  \n",
    "Speed constant Kv | 760 tr/min/V  \n",
    "Mechanical power | 110 W  \n",
    "Max thrust | 820 g \n",
    "| *function of propeller choice  *\n",
    "Dimensions | 28.8 x 29 mm  \n",
    "Max efficiency | 76 %  \n",
    "mass | 65 g  \n",
    "Resistance | R = 0.26 ohm  \n",
    "Inertia | J= 2.5e-5 kg.m²  \n",
    "\n",
    "Propellers: \n",
    "* dimensions: 10 inch diameter * 4.5 pitch\n",
    "* mass: 15 g\n",
    "* Thrust coefficient:  Kw =1.799e-5 N/(rad/s)^2\n",
    "* Torque coefficient:  Mw = 3.054e-7 N.m/(rad/s)^2\n",
    "    \n"
   ]
  }
 ],
 "metadata": {
  "kernelspec": {
   "display_name": "Python 3",
   "language": "python",
   "name": "python3"
  },
  "language_info": {
   "codemirror_mode": {
    "name": "ipython",
    "version": 3
   },
   "file_extension": ".py",
   "mimetype": "text/x-python",
   "name": "python",
   "nbconvert_exporter": "python",
   "pygments_lexer": "ipython3",
   "version": "3.6.5"
  }
 },
 "nbformat": 4,
 "nbformat_minor": 2
}
