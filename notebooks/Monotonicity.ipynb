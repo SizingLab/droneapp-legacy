{
 "cells": [
  {
   "cell_type": "code",
   "execution_count": 1,
   "metadata": {},
   "outputs": [],
   "source": [
    "import math\n",
    "import intervals as I\n",
    "\n",
    "import numpy as np\n",
    "from pyDOE import *\n",
    "\n",
    "\n",
    "\n",
    "def is_increasing(expression,Var,Bounds,listvars):\n",
    "    return compute_min_and_max(expression, lambda x: x > 0,Var,Bounds,listvars)\n",
    "\n",
    "def is_decreasing(expression,Var,Bounds,listvars):\n",
    "    return compute_min_and_max(expression, lambda x: x < 0,Var,Bounds,listvars)\n",
    "\n",
    "def compute_min_and_max(expression, predicate,Var,Bounds,listvars):\n",
    "    min_value, max_value = float(\"inf\"), float(\"-inf\")\n",
    "    samples = 100\n",
    "    \n",
    "    #1: DoE for the bounds \n",
    "    #------------        \n",
    "    border_start=[row[0] for row in Bounds] #lower limit bounds\n",
    "    border_final=[row[1] for row in Bounds] #upper limit bounds\n",
    "    diff=[row[1]-row[0] for row in Bounds]\n",
    "\n",
    "    design=lhs(len(border_start), samples) # doe for X-samples distributed along 0 and 1.\n",
    "\n",
    "    doe = [vec *diff+border_start for vec in design] # doe transformed to our array of bounds \n",
    "\n",
    "    #2: Differentiate the expression to study monotonicity \n",
    "    #------------        \n",
    "    expression=expression.diff(Var) #derivative of expression\n",
    "    if expression==0: # if no variable affected,then return false\n",
    "        return 'ZERO';\n",
    "\n",
    "    #3 table of values and verify interval\n",
    "    for vector in doe: # value table\n",
    "        res=expression.subs(zip(listvars, vector)) #sustituting vars for a range comprised between start and end\n",
    "        if min_value > res: min_value = res\n",
    "        if max_value < res: max_value = res\n",
    "        interval=I.closed(min_value,max_value) #closed to consider the 1. derivative of an equation of the form a*X\n",
    "    #print(interval)\n",
    "    return predicate(interval)"
   ]
  },
  {
   "cell_type": "code",
   "execution_count": null,
   "metadata": {},
   "outputs": [],
   "source": []
  }
 ],
 "metadata": {
  "kernelspec": {
   "display_name": "Python 3",
   "language": "python",
   "name": "python3"
  },
  "language_info": {
   "codemirror_mode": {
    "name": "ipython",
    "version": 3
   },
   "file_extension": ".py",
   "mimetype": "text/x-python",
   "name": "python",
   "nbconvert_exporter": "python",
   "pygments_lexer": "ipython3",
   "version": "3.7.4"
  }
 },
 "nbformat": 4,
 "nbformat_minor": 2
}
