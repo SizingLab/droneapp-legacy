{
 "cells": [
  {
   "cell_type": "markdown",
   "metadata": {
    "slideshow": {
     "slide_type": "slide"
    }
   },
   "source": [
    "<img src=\"./pictures/logo-insa.png\" style=\"float:right; max-width: 60px; display: inline\" alt=\"INSA\" /></a>"
   ]
  },
  {
   "cell_type": "markdown",
   "metadata": {
    "slideshow": {
     "slide_type": "slide"
    }
   },
   "source": [
    "# Frame selection\n",
    "*Written by Marc Budinger, INSA Toulouse, France*"
   ]
  },
  {
   "cell_type": "markdown",
   "metadata": {
    "slideshow": {
     "slide_type": "slide"
    }
   },
   "source": [
    "## Design graph \n",
    "\n",
    "The following diagram represents the design graph of the frame selection. \n",
    "\n",
    "\n",
    "![DesignGraph](pictures/FrameDesignGraph.png)\n",
    "\n",
    "> **Questions:**\n",
    "* Give the main sizing problems you are able to detect.\n",
    "* Propose one or multiple solutions (which can request equation manipulation, addition of design variables, addition of constraints) \n",
    "* Orientate the arrows\n",
    "* Give equations order, inputs/outputs at each step of this part of sizing procedure\n",
    "\n"
   ]
  },
  {
   "cell_type": "markdown",
   "metadata": {},
   "source": [
    "### Sizing code and optimization\n",
    "\n",
    "> Exercice: propose a sizing code for the selection of the frame.\n"
   ]
  },
  {
   "cell_type": "code",
   "execution_count": 4,
   "metadata": {},
   "outputs": [],
   "source": [
    "from utils.model_standard import CoreModel\n",
    "from utils.model_serializer import ModelSerializer"
   ]
  },
  {
   "cell_type": "code",
   "execution_count": 33,
   "metadata": {},
   "outputs": [],
   "source": [
    "import math\n",
    "from math import pi\n",
    "import scipy\n",
    "\n",
    "class FrameModel(CoreModel):\n",
    "    \"\"\"\n",
    "    Frame model class.\n",
    "    ----------\n",
    "    \"\"\"\n",
    "\n",
    "    def __init__(self, **kwargs):\n",
    "        super(FrameModel, self).__init__(**kwargs)\n",
    "        self.initialization()\n",
    "        self.execute()\n",
    "        self._update()\n",
    "\n",
    "    def initialization(self):\n",
    "        \n",
    "        # Input variables\n",
    "        # ---------------\n",
    "        # Narm [-] Arms number\n",
    "        # Dpro [m] Propeller diameter \n",
    "        # Np_arm [-] Number of propellers per arm (1 or 2)\n",
    "        # Tpro_takeoff [N] Thrust for one propeller during take off\n",
    "        # k_frame [-] ratio thickness e of tube / diameter of tube\n",
    "        inputs = {'Narm': 4.0, 'Dpro': 1.0, 'Np_arm': 4.0, 'Tpro_takeoff': 1.0, 'k_frame': 0.1}\n",
    "        self.set_inputs(inputs)\n",
    "        \n",
    "        # Input parameters\n",
    "\n",
    "        # Static stress\n",
    "        # Sigma_max=200e6/4 # [Pa] Alu max stress (2 reduction for dynamic, 2 reduction for stress concentration)\n",
    "        Sigma_max=280e6/4 # [Pa] Composite max stress (2 reduction for dynamic, 2 reduction for stress concentration)\n",
    "        \n",
    "        inputs = {'Sigma_max': Sigma_max}\n",
    "        self.set_inputs(inputs)\n",
    "        \n",
    "        # Declare outputs\n",
    "        # ---------------\n",
    "        # sep [rad] interior angle separation between propellers\n",
    "        # Lb [m] length of the arm\n",
    "        # Dfra [m] external diameter of the beam (tube)\n",
    "        # Efra [m] thickness of the tube d=D-2*e \n",
    "        # Mfra [kg] mass of the frame (1 beam only) (composite 1700 kg/m^3)\n",
    "        outputs = ['sep', 'Lb', 'Dfra', 'Efra', 'Mfra']   \n",
    "        self.declare_outputs(outputs)\n",
    "\n",
    "    def execute(self):\n",
    "        \n",
    "        # Get input values\n",
    "        Narm, Dpro, Np_arm, Tpro_takeoff, k_frame = self.get_values(['Narm', 'Dpro', 'Np_arm', 'Tpro_takeoff', 'k_frame'])\n",
    "        Sigma_max = self.get_values(['Sigma_max'])\n",
    "\n",
    "        # Do some calculation...\n",
    "    \n",
    "        outputs = {'sep': sep, 'Lb': Lb, 'Dfra': Dfra, 'Efra': Efra, 'Mfra': Mfra}\n",
    "        self.set_outputs(outputs)\n",
    "                \n",
    "    def __str__(self):\n",
    "        \n",
    "        s =((\"* Frame informations: \\n\") +\n",
    "            (\"** Global: \\n\") + \n",
    "            (\"    Frame mass = %.2f kg\" %(self.get_values(['Mfra'])) + \"\\n\") +\n",
    "            (\"** Geometry: \\n\") +\n",
    "            (\"    Beam diameter = %.2f mm\" %(self.get_values(['Dfra'])*1000) + \"\\n\") + \n",
    "            (\"    Thickness = %.2f mm\" % (self.get_values(['Efra'])*1000) + \"\\n\") + \n",
    "            (\"    Length of the arm = %.2f mm\" % (self.get_values(['Lb'])*1000) + \"\\n\") +\n",
    "            (\"    Interior angle / separation between propellers = %.2f °\" % (self.get_values(['sep'])*180/pi)+ \"\\n\")\n",
    "           )\n",
    "        return s\n",
    "        "
   ]
  },
  {
   "cell_type": "code",
   "execution_count": 34,
   "metadata": {},
   "outputs": [
    {
     "name": "stdout",
     "output_type": "stream",
     "text": [
      "* Frame informations: \n",
      "** Global: \n",
      "    Frame mass = 0.03 kg\n",
      "** Geometry: \n",
      "    Beam diameter = 8.87 mm\n",
      "    Thickness = 0.89 mm\n",
      "    Length of the arm = 707.11 mm\n",
      "    Interior angle / separation between propellers = 90.00 °\n",
      "\n"
     ]
    }
   ],
   "source": [
    "frame_model = FrameModel()\n",
    "\n",
    "print(frame_model)\n",
    "\n",
    "ms = ModelSerializer()\n",
    "path = './models_student/'\n",
    "file_name = 'frame_model'\n",
    "ms.save_model(frame_model, path + file_name)"
   ]
  },
  {
   "cell_type": "code",
   "execution_count": 35,
   "metadata": {},
   "outputs": [
    {
     "name": "stdout",
     "output_type": "stream",
     "text": [
      "* Frame informations: \n",
      "** Global: \n",
      "    Frame mass = 0.03 kg\n",
      "** Geometry: \n",
      "    Beam diameter = 8.87 mm\n",
      "    Thickness = 0.89 mm\n",
      "    Length of the arm = 707.11 mm\n",
      "    Interior angle / separation between propellers = 90.00 °\n",
      "\n",
      "* Frame informations: \n",
      "** Global: \n",
      "    Frame mass = 0.23 kg\n",
      "** Geometry: \n",
      "    Beam diameter = 25.93 mm\n",
      "    Thickness = 2.59 mm\n",
      "    Length of the arm = 707.11 mm\n",
      "    Interior angle / separation between propellers = 90.00 °\n",
      "\n"
     ]
    }
   ],
   "source": [
    "print(frame_model)\n",
    "\n",
    "inputs = {'Tpro_takeoff': 25.0}\n",
    "\n",
    "frame_model.evaluate(inputs, [])\n",
    "\n",
    "print(frame_model)"
   ]
  },
  {
   "cell_type": "code",
   "execution_count": null,
   "metadata": {},
   "outputs": [],
   "source": []
  },
  {
   "cell_type": "code",
   "execution_count": null,
   "metadata": {},
   "outputs": [],
   "source": []
  }
 ],
 "metadata": {
  "celltoolbar": "Slideshow",
  "kernelspec": {
   "display_name": "Python 3",
   "language": "python",
   "name": "python3"
  },
  "language_info": {
   "codemirror_mode": {
    "name": "ipython",
    "version": 3
   },
   "file_extension": ".py",
   "mimetype": "text/x-python",
   "name": "python",
   "nbconvert_exporter": "python",
   "pygments_lexer": "ipython3",
   "version": "3.6.4"
  }
 },
 "nbformat": 4,
 "nbformat_minor": 2
}
