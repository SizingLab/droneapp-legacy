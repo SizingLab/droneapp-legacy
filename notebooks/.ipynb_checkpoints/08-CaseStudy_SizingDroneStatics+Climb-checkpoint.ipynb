{
 "cells": [
  {
   "cell_type": "markdown",
   "metadata": {},
   "source": [
    "<img src=\"./pictures/DroneApp_logo.png\" style=\"float:right; max-width: 180px; display: inline\" alt=\"INSA\" /></a>\n",
    "<img src=\"./pictures/logo_sizinglab.png\" style=\"float:right; max-width: 100px; display: inline\" alt=\"INSA\" /></a>"
   ]
  },
  {
   "cell_type": "markdown",
   "metadata": {},
   "source": [
    "# Sizing of a multi-rotor drone for hover, take-off and climb scenario\n",
    "*Written by Marc Budinger, Aitor Ochotorena (INSA Toulouse) and Scott Delbecq (ISAE-Supaero)*"
   ]
  },
  {
   "cell_type": "markdown",
   "metadata": {},
   "source": [
    "Previous Notebooks have led us to calculate the lift and power requirements of the drone for the hovering flight and maximum vertical acceleration. Until this point the drone has been optimally sized to withstand static scenarios. In the next part, we will additionally consider the effect of the **maximum climb** as dynamic scenarios.\n",
    "\n",
    "For this purpose, the basic [sizing code](07_SystemSizingCodeOptimization_basic.ipynb) for the static scenarios will be adapted to satisfy the additional mission of maximum climb rate. To consider this scenario, further approaches are made. These are detailed in :\n",
    "\n",
    "* [Sizing Code Vertical Flight](07_SizingCodeVerticalFlight.ipynb)\n"
   ]
  },
  {
   "cell_type": "markdown",
   "metadata": {},
   "source": [
    "### Case study\n",
    "To complete the new system sizing code additional constraints need to be set:\n",
    "\n",
    "*Hovering flight*\n",
    "- Nominal torque, $Tmot$, will be equal to or greater than the motor torque in hovering flight, $Tmot_{hov}$ (g1).\n",
    "*Transitory vertical acceleration*\n",
    "\\textbf{Transitory vertical acceleration}\n",
    "\n",
    "- Maximum torque, $T_{mot,max}$, will be equal to or higher than the motor torque under the conditions of maximum transient vertical acceleration, $T_{mot,to}$ ($g_2$).\n",
    "- Voltage provided by the battery, $U_{bat}$, will satisfy the motor voltage demand under the conditions of maximum transient vertical acceleration, $U_{mot,to}$ ($g_3$).\n",
    "- Voltage provided by the battery, $U_{bat}$, will satisfy the ESC voltage demand under conditions of maximum transient vertical acceleration, $U_{ESC}$ ($g_4$).\n",
    "- Maximum battery power , $P_{bat}$, will satisfy the motors power demand under the conditions of maximum transient vertical acceleration, $P_{mot,to,total}$ ($g_5$).\n",
    "- Power provided by the ESC, $P_{ESC}$, will satisfy the power demand under the conditions of maximum transient vertical acceleration, $P_{ESC,to}$ ($g_6$).\n",
    "- Product of speed and diameter under the conditions of maximum transient vertical acceleration, $nD$, will not overpass the speed limit provided by the propeller manufacturer, $nD_{max}$ ($g_7$).\n",
    "- No mechanical load greater than the one permitted by the arm material, $\\sigma_{max}$, shall be exceeded under the conditions of maximum transient vertical acceleration ($g_8$).\n",
    "\n",
    "*Maximum climb rate*\n",
    "\n",
    "- Maximum torque, $T_{mot,max}$, will be equal to or higher than the propeller torque under the conditions of highest climbing rate, $T_{mot,cl}$ ($g_9$).\n",
    "-  Voltage provided by the battery, $U_{bat}$, will satisfy the motor voltage demand under the conditions of highest climbing rate, $U_{mot,cl}$ ($g_{10}$).\n",
    "- Voltage provided by the battery, $U_{bat}$, will satisfy the ESC voltage demand under the conditions of highest climbing rate , $U_{ESC}$ ($g_3$).\n",
    "- Maximum battery power, $P_{bat}$, will satisfy the motors power demand under the conditions of highest climbing rate, $P_{mot,cl,total}$ ($g_{11}$).\n",
    "- Power provided by the ESC, $P_{ESC}$, will satisfy the power demand under the conditions of highest climbing rate, $P_{ESC,cl}$ ($g_{12}$).\n",
    "- Product of speed and diameter under the conditions of highest climbing rate, $n_{pro,cl}D_{pro}$, will not overpass the speed limit provided by the propeller manufacturer, $nD_{max}$ ($g_{13}$).  \n",
    "\n",
    "Since the implementation of equality constraints may engender numerical difficulties for the optimization algorithm, an approach to solve the algebraic loop for the equation of vertical climb rate:\n",
    "\n",
    "$$V_{cl}-J n_{pro,cl}  D_{pro}=0$$\n",
    "\n",
    "is to break out the expression into two inequalities ($g_{14},g_{15}$) resulting into an absolute error of  5$\\%$.  \\\\\n",
    "\n",
    "*Geometry*\n",
    "- The arms will have a minimum length, $L_{arm}$, such that the propellers do not overlap for a regular motor layout ($g_{16}$). \n"
   ]
  },
  {
   "cell_type": "markdown",
   "metadata": {},
   "source": [
    "### Reduction to necessary constraints / Monotonicity study"
   ]
  },
  {
   "cell_type": "markdown",
   "metadata": {},
   "source": [
    "In optimization, the reduction of the problem to the necessary conditions/constraints enables to reduce the complexity of the problem, the calculation time and to find out possible incorrect formulations. In this sense, the monotonicity analysis can lead us to find out active constraints (if they are satisfied as an equality at that point) and thus, transform them as equations in the sizing code.\n",
    "\n",
    "A practical analysis is carried out on the drone sizing code to identify the active constraints.\n",
    "\n",
    "* [Monotonicity Analysis](A3_MonotonicityTable.ipynb)\n",
    "\n",
    "Through this analysis, the number of constraints has been reduced from 16 to 14.\n",
    "\n",
    "The complexity of the problem can be further reduced if we apply strategies and substitution of model-dependent design variables by sizing coefficients valid for a wide range of models. These strategies are approached in the different modules:\n",
    "* [Propeller selection](06a_PropellerSelection.ipynb)\n",
    "* [Motor selection](06b_MotorSelection.ipynb)\n",
    "* [Battery and ESC selection](06c_BatteryESCSelection.ipynb)\n",
    "* [Frame definition](06d_FrameSelection.ipynb)\n"
   ]
  },
  {
   "cell_type": "markdown",
   "metadata": {},
   "source": [
    "### Overall sizing optimization"
   ]
  },
  {
   "cell_type": "markdown",
   "metadata": {},
   "source": [
    "One of the goals of this paper is to demonstrate how the application of the previous strategies may lead to a reduction of the problem complexity and the resolution time for the same or a better solution. Thus, three algorithms are developed which\n",
    "are based on the different modifications proposed:"
   ]
  },
  {
   "cell_type": "markdown",
   "metadata": {},
   "source": [
    "||Algorithm A|Algorithm B|Algorithm C|\n",
    "|--|--|--|--|\n",
    "|Description|based on the initial constraints and design variables|after application of MP1|MP1+global sizing coefficients|\n",
    "|Link|[Go to Notebook](07a-s1000-EvolutionaryAlgorithm-Climb,TO,Hover-All_Inequalities.ipynb)|[Go to Notebook](07b-s1000-EvolutionaryAlgorithm-Climb,TO,Hover-FM1.ipynb)|[Go to Notebook](07c-s1000-EvolutionaryAlgorithm-Climb,TO,Hover_new.ipynb)|\n",
    "|# of constraints|18|16|13|\n",
    "|# of design Vars|12|10|10|"
   ]
  },
  {
   "cell_type": "code",
   "execution_count": null,
   "metadata": {},
   "outputs": [],
   "source": []
  }
 ],
 "metadata": {
  "kernelspec": {
   "display_name": "Python 3",
   "language": "python",
   "name": "python3"
  },
  "language_info": {
   "codemirror_mode": {
    "name": "ipython",
    "version": 3
   },
   "file_extension": ".py",
   "mimetype": "text/x-python",
   "name": "python",
   "nbconvert_exporter": "python",
   "pygments_lexer": "ipython3",
   "version": "3.7.1"
  }
 },
 "nbformat": 4,
 "nbformat_minor": 2
}
