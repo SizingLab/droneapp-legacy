{
 "cells": [
  {
   "cell_type": "markdown",
   "metadata": {
    "slideshow": {
     "slide_type": "slide"
    }
   },
   "source": [
    "<img src=\"./pictures/logo-insa.png\" style=\"float:right; max-width: 60px; display: inline\" alt=\"INSA\" /></a>"
   ]
  },
  {
   "cell_type": "markdown",
   "metadata": {
    "slideshow": {
     "slide_type": "slide"
    }
   },
   "source": [
    "# Sizing of a multi-rotor drone\n",
    "\n",
    "*Written by Marc Budinger, INSA Toulouse, France*"
   ]
  },
  {
   "cell_type": "markdown",
   "metadata": {},
   "source": [
    "The objective of this notebook is to select the best compromise of components (propeller, motor, ESC, battery) of a multi-rotor drone for given specifiations.\n",
    "\n",
    "**Scipy** and **math** packages will be used for this notebook in order to illustrate the optimization algorithms of python."
   ]
  },
  {
   "cell_type": "code",
   "execution_count": 1,
   "metadata": {},
   "outputs": [],
   "source": [
    "import scipy\n",
    "import scipy.optimize\n",
    "from math import pi\n",
    "from math import sqrt\n",
    "import math\n",
    "import timeit"
   ]
  },
  {
   "cell_type": "markdown",
   "metadata": {
    "slideshow": {
     "slide_type": "slide"
    }
   },
   "source": [
    "## Sizing code"
   ]
  },
  {
   "cell_type": "markdown",
   "metadata": {
    "slideshow": {
     "slide_type": "slide"
    }
   },
   "source": [
    "The set of equations of a sizing code can generate typical issues such : \n",
    "- Underconstrained set of equations: the lacking equations can come from additional scenarios, estimation models or additional sizing variable.   \n",
    "- overconstrained equations often due to the selection of a component on multiple critera: the adding of over-sizing coefficients and constraints in the optimization problem can generally fix this issue   \n",
    "- algebraic loops often due to selection criteria requiring informations generally available after the selection \n",
    "\n",
    "Concerning overconstraints components, we have here:\n",
    "- Brushless motors with multiple torque and voltage constraints (hover and transient vertical displacement) \n",
    "\n",
    "Multiple algebraic loops appears in the sizing problem:\n",
    "- The thrust depends of the total mass which depend of components required for generating this thrust\n",
    "\n",
    "The final optimization problem depends thus of these parameters:\n",
    "- $\\beta=pitch/diameter$ ratio to define the propeller\n",
    "- $k_M$ over sizing coefficient on the load mass to estimate the final total mass\n",
    "- $k_{mot}$ over sizing coeffcient on the motor torque to estimate the max torque with the hover flight conditions\n",
    "- $k_{speed}$ over sizing coeffcient on the motor speed to take into account voltage limits during hover or take-off flight \n"
   ]
  },
  {
   "cell_type": "markdown",
   "metadata": {
    "slideshow": {
     "slide_type": "slide"
    }
   },
   "source": [
    "More details in the setting up of sizing code can be found in the  [following paper](https://www.researchgate.net/profile/Marc_Budinger/publication/277933677_Computer-aided_definition_of_sizing_procedures_and_optimization_problems_of_mechatronic_systems/links/55969de508ae793d137c7ea5/Computer-aided-definition-of-sizing-procedures-and-optimization-problems-of-mechatronic-systems.pdf):  \n",
    "\n",
    "> Reysset, A., Budinger, M., & Maré, J. C. (2015). Computer-aided definition of sizing procedures and optimization problems of mechatronic systems. Concurrent Engineering, 23(4), 320-332.\n",
    "\n",
    "The sizing code is defined here in a function which can give:\n",
    "- an evaluation of the objective: here the total mass\n",
    "- an evaluation of the constraints: \n"
   ]
  },
  {
   "cell_type": "markdown",
   "metadata": {
    "slideshow": {
     "slide_type": "slide"
    }
   },
   "source": [
    "## Objectives and specifications\n",
    "\n",
    "Main specifications :\n",
    "- a load (video, control card) of mass $M_{load}$.  \n",
    "- an autonomy $t_{hf}$ for the hover flight.\n",
    "- an acceleration to take off $a_{to}$.\n"
   ]
  },
  {
   "cell_type": "code",
   "execution_count": 1,
   "metadata": {
    "slideshow": {
     "slide_type": "slide"
    }
   },
   "outputs": [],
   "source": [
    "# Specifications\n",
    "\n",
    "# Load\n",
    "M_load=125 # [kg] load mass\n",
    "\n",
    "# Acceleration take off\n",
    "a_to= 1*9.81 # [m/s²] acceleration\n",
    "\n",
    "# Autonomy\n",
    "t_h=25 # [min] time of hover fligth\n",
    "\n",
    "# Objectif\n",
    "MaxTime=True # Objective"
   ]
  },
  {
   "cell_type": "markdown",
   "metadata": {},
   "source": [
    "## Architecture defintion and design assumptions"
   ]
  },
  {
   "cell_type": "code",
   "execution_count": 2,
   "metadata": {},
   "outputs": [],
   "source": [
    "# Architecture of the multi-rotor drone (4,6, 8 arms, ...)\n",
    "Narm=4 # [-] number of arm\n",
    "Np_arm=2 # [-] number of propeller per arm (1 or 2)\n",
    "Npro=Np_arm*Narm # [-] Propellers number"
   ]
  },
  {
   "cell_type": "code",
   "execution_count": 3,
   "metadata": {},
   "outputs": [],
   "source": [
    "from utils.model_serializer import ModelSerializer\n",
    "from utils.model_standard import CoreModel"
   ]
  },
  {
   "cell_type": "code",
   "execution_count": 4,
   "metadata": {},
   "outputs": [
    {
     "ename": "FileNotFoundError",
     "evalue": "[Errno 2] No such file or directory: './models_student/motor_model.mdl'",
     "output_type": "error",
     "traceback": [
      "\u001b[1;31m---------------------------------------------------------------------------\u001b[0m",
      "\u001b[1;31mFileNotFoundError\u001b[0m                         Traceback (most recent call last)",
      "\u001b[1;32m<ipython-input-4-7c38fcd6fad9>\u001b[0m in \u001b[0;36m<module>\u001b[1;34m()\u001b[0m\n\u001b[0;32m      2\u001b[0m \u001b[0mpath\u001b[0m \u001b[1;33m=\u001b[0m \u001b[1;34m'./models_student/'\u001b[0m\u001b[1;33m\u001b[0m\u001b[0m\n\u001b[0;32m      3\u001b[0m \u001b[0mfile_name\u001b[0m \u001b[1;33m=\u001b[0m \u001b[1;34m'motor_model'\u001b[0m\u001b[1;33m\u001b[0m\u001b[0m\n\u001b[1;32m----> 4\u001b[1;33m \u001b[0mmotor_model\u001b[0m \u001b[1;33m=\u001b[0m \u001b[0mms\u001b[0m\u001b[1;33m.\u001b[0m\u001b[0mload_model\u001b[0m\u001b[1;33m(\u001b[0m\u001b[0mpath\u001b[0m \u001b[1;33m+\u001b[0m \u001b[0mfile_name\u001b[0m\u001b[1;33m)\u001b[0m\u001b[1;33m\u001b[0m\u001b[0m\n\u001b[0m\u001b[0;32m      5\u001b[0m \u001b[0mfile_name\u001b[0m \u001b[1;33m=\u001b[0m \u001b[1;34m'propeller_model'\u001b[0m\u001b[1;33m\u001b[0m\u001b[0m\n\u001b[0;32m      6\u001b[0m \u001b[0mpropeller_model\u001b[0m \u001b[1;33m=\u001b[0m \u001b[0mms\u001b[0m\u001b[1;33m.\u001b[0m\u001b[0mload_model\u001b[0m\u001b[1;33m(\u001b[0m\u001b[0mpath\u001b[0m \u001b[1;33m+\u001b[0m \u001b[0mfile_name\u001b[0m\u001b[1;33m)\u001b[0m\u001b[1;33m\u001b[0m\u001b[0m\n",
      "\u001b[1;32m~\\Documents\\GitHub\\SizingLab\\study_cases\\multi_rotor\\utils\\model_serializer.py\u001b[0m in \u001b[0;36mload_model\u001b[1;34m(file_name)\u001b[0m\n\u001b[0;32m     23\u001b[0m     \u001b[1;33m@\u001b[0m\u001b[0mstaticmethod\u001b[0m\u001b[1;33m\u001b[0m\u001b[0m\n\u001b[0;32m     24\u001b[0m     \u001b[1;32mdef\u001b[0m \u001b[0mload_model\u001b[0m\u001b[1;33m(\u001b[0m\u001b[0mfile_name\u001b[0m\u001b[1;33m)\u001b[0m\u001b[1;33m:\u001b[0m\u001b[1;33m\u001b[0m\u001b[0m\n\u001b[1;32m---> 25\u001b[1;33m         \u001b[1;32mwith\u001b[0m \u001b[0mopen\u001b[0m\u001b[1;33m(\u001b[0m\u001b[0mfile_name\u001b[0m \u001b[1;33m+\u001b[0m \u001b[1;34m'.mdl'\u001b[0m\u001b[1;33m,\u001b[0m \u001b[1;34m'rb'\u001b[0m\u001b[1;33m)\u001b[0m \u001b[1;32mas\u001b[0m \u001b[0mfile\u001b[0m\u001b[1;33m:\u001b[0m\u001b[1;33m\u001b[0m\u001b[0m\n\u001b[0m\u001b[0;32m     26\u001b[0m            \u001b[0mmodel\u001b[0m \u001b[1;33m=\u001b[0m  \u001b[0mcloudpickle\u001b[0m\u001b[1;33m.\u001b[0m\u001b[0mload\u001b[0m\u001b[1;33m(\u001b[0m\u001b[0mfile\u001b[0m\u001b[1;33m)\u001b[0m\u001b[1;33m\u001b[0m\u001b[0m\n\u001b[0;32m     27\u001b[0m         \u001b[1;32mreturn\u001b[0m \u001b[0mmodel\u001b[0m\u001b[1;33m\u001b[0m\u001b[0m\n",
      "\u001b[1;31mFileNotFoundError\u001b[0m: [Errno 2] No such file or directory: './models_student/motor_model.mdl'"
     ]
    }
   ],
   "source": [
    "ms = ModelSerializer()\n",
    "path = './models_student/'\n",
    "file_name = 'motor_model'\n",
    "motor_model = ms.load_model(path + file_name)\n",
    "file_name = 'propeller_model'\n",
    "propeller_model = ms.load_model(path + file_name)\n",
    "file_name = 'battery_model'\n",
    "battery_model = ms.load_model(path + file_name)\n",
    "file_name = 'frame_model'\n",
    "frame_model = ms.load_model(path + file_name)"
   ]
  },
  {
   "cell_type": "code",
   "execution_count": 19,
   "metadata": {
    "slideshow": {
     "slide_type": "slide"
    }
   },
   "outputs": [],
   "source": [
    "# -----------------------\n",
    "# sizing code\n",
    "# -----------------------\n",
    "# inputs: \n",
    "# - param: optimisation variables vector (reduction ratio, oversizing coefficient)\n",
    "# - arg: selection of output  \n",
    "# output: \n",
    "# - objective if arg='Obj', problem characteristics if arg='Prt', constraints other else\n",
    "\n",
    "def SizingCode(param, arg):\n",
    "# Design variables\n",
    "# ---\n",
    "    beta=param[0] # pitch/diameter ratio of the propeller\n",
    "    k_M=param[1] # over sizing coefficient on the load mass \n",
    "    k_mot=param[2] # over sizing coefficient on the motor torque\n",
    "    k_speed_mot=param[3] # over sizing coefficient on the motor speed\n",
    "    k_ND=param[4] # slow down propeller coef : ND = kNDmax / k_ND\n",
    "    k_frame=param[5] # aspect ratio e/c (thickness/side) for the beam of the frame\n",
    "    k_Mb=param[6] # over sizing coefficient on the battery load mass \n",
    "    k_vb=param[7] # over sizing coefficient for the battery voltage\n",
    "    \n",
    "# Hover & Take-Off thrust \n",
    "# ---\n",
    "    Mtotal=k_M*M_load # [kg] Estimation of the total mass (or equivalent weight of dynamic scenario)\n",
    "    \n",
    "    Tpro_hover=Mtotal*(9.81)/Npro # [N] Thrust per propeller for hover\n",
    "    Tpro_takeoff=Mtotal*(9.81+a_to)/Npro # [N] Thrust per propeller for take-off\n",
    "\n",
    "# Propeller selection\n",
    "# ---\n",
    "    inputs = {'k_ND': k_ND, 'beta': beta, 'Tpro_takeoff': Tpro_takeoff, 'Tpro_hover': Tpro_hover}\n",
    "    \n",
    "    outputs = ['Dpro', 'n_pro_takeoff', 'Wpro_takeoff', 'Mpro', 'Ppro_takeoff', 'Qpro_takeoff', 'P_el_hover', 'n_pro_hover', 'Wpro_hover', 'Ppro_hover', 'Qpro_hover']\n",
    "    \n",
    "    Dpro, n_pro_takeoff, Wpro_takeoff, Mpro, Ppro_takeoff, Qpro_takeoff, P_el_hover, n_pro_hover, Wpro_hover, Ppro_hover, Qpro_hover = propeller_model.evaluate(inputs, outputs)\n",
    "    \n",
    "    # Battery voltage estimation with propeller power\n",
    "    V_bat_est=k_vb*1.84*(Ppro_takeoff)**(0.36) # [V] battery voltage estimation\n",
    "        \n",
    "# Motor selection & scaling laws\n",
    "# --- \n",
    "    inputs = {'k_mot': k_mot, 'k_speed_mot': k_speed_mot, 'V_bat_est': V_bat_est, 'Qpro_takeoff': Qpro_takeoff, 'Wpro_takeoff': Wpro_takeoff, \\\n",
    "              'Qpro_hover': Qpro_hover, 'Wpro_hover': Wpro_hover}\n",
    "    \n",
    "    outputs = ['Tmot', 'Tmot_max', 'Mmot', 'Ktmot', 'Rmot', 'Tfmot', 'Imot_hover', 'Umot_hover', 'P_el_hover', 'Imot_takeoff', 'Umot_takeoff', 'P_el_takeoff']\n",
    "    \n",
    "    \n",
    "    Tmot, Tmot_max, Mmot, Ktmot, Rmot, Tfmot, Imot_hover, Umot_hover, P_el_hover, Imot_takeoff, Umot_takeoff, P_el_takeoff = motor_model.evaluate(inputs, outputs)\n",
    "    \n",
    "# Battery selection & scaling laws  \n",
    "# --- \n",
    "    inputs = {'V_bat_est': V_bat_est, 'k_Mb': k_Mb, 'M_load': M_load, 'P_el_hover': P_el_hover, 'P_el_takeoff':P_el_takeoff, 'Umot_takeoff':Umot_takeoff, 'Npro': Npro}\n",
    "    \n",
    "    outputs = ['Ncel', 'V_bat', 'Mbat', 'Ebat', 'C_bat', 'I_bat', 't_hf', 'P_esc', 'Mesc', 'Vesc']\n",
    "    \n",
    "    Ncel, V_bat, Mbat, Ebat, C_bat, I_bat, t_hf, P_esc, Mesc, Vesc = battery_model.evaluate(inputs, outputs)\n",
    "\n",
    "         \n",
    "# Frame\n",
    "# ---\n",
    "    inputs = {'Narm': Narm, 'Dpro': Dpro, 'Np_arm': Np_arm, 'Tpro_takeoff': Tpro_takeoff, 'k_frame': k_frame}\n",
    "    \n",
    "    outputs = ['sep', 'Lb', 'Dfra', 'Efra', 'Mfra']\n",
    "    \n",
    "    sep, Lb, Dfra, Efra, Mfra = frame_model.evaluate(inputs, outputs)\n",
    "        \n",
    "      \n",
    "# Objective and Constraints sum up\n",
    "# ---\n",
    "    Mtotal_final = (Mesc+Mpro+Mmot)*Npro+M_load+Mbat+Mfra*Narm\n",
    "    #Tmot_hover=Tfmot+Qpro \n",
    "    #k_surf_real=(pi*Dpro**2/4-Afra)/(pi*Dpro**2/4)\n",
    "\n",
    "    if MaxTime==True:\n",
    "        constraints = [Mtotal-Mtotal_final,V_bat-Umot_takeoff, Tmot_max-Qpro_takeoff, V_bat-Vesc]\n",
    "    else:\n",
    "        constraints = [Mtotal-Mtotal_final,V_bat-Umot_takeoff, Tmot_max-Qpro_takeoff, V_bat-Vesc, t_hf-t_h]\n",
    "        \n",
    "# Objective and contraints\n",
    "    if arg=='Obj':\n",
    "        if MaxTime==True:\n",
    "            return 1/t_hf # for time maximisation\n",
    "        else:\n",
    "            return Mtotal_final # for mass optimisation \n",
    " # Objective and contraints\n",
    "    if arg=='ObjP':\n",
    "        P=0 # Penalisation nulle\n",
    "        for C in constraints: \n",
    "            if (C<0.): \n",
    "                P=P-1e9*C\n",
    "        if MaxTime==True:\n",
    "            return 1/t_hf+P # for time maximisation\n",
    "        else:\n",
    "            return Mtotal_final+P # for mass optimisation       \n",
    "    elif arg=='Prt':\n",
    "        print(\"* Specifications:\")\n",
    "        print(\"           Mass of load : %.2f kg\"% M_load)\n",
    "        print(\"           Take off acceleration : %.2f g\"%(a_to/9.81))\n",
    "        print(\"* Optimisation objective:\")\n",
    "        print(\"           Max Autonomy : %.1f min\"%t_hf)\n",
    "        print(\"* Optimisation variables:\")\n",
    "        print(\"           beta angle consisting of pitch /diameter = %.2f\"% beta)\n",
    "        print(\"           oversizing coefficient on the load mass k_M = %.2f\"% k_M)\n",
    "        print(\"           Ratio for battery mass = %.2f\"%k_Mb)\n",
    "        print(\"           oversizing coefficient on the motor torque k_mot = %.2f\"%k_mot)\n",
    "        print(\"           oversizing coefficient on the motor speed k_speed_mot = %.2f\"%k_speed_mot)\n",
    "        print(\"           undersizing coefficient on the propeller speed k_ND = %.2f\"%(k_ND))\n",
    "        print(\"           aspect ratio thickness/side k_frame = %.2f\"%k_frame)\n",
    "        print(\"           over sizing coefficient on the battery load mass = %.2f\"%k_Mb)\n",
    "        print(\"           over sizing coefficient for the battery voltage = %.2f\"%k_vb) \n",
    "        print(\"* Architecture description:\")\n",
    "        print(\"           Numbers of arms = \",Narm)        \n",
    "        print(\"           Numbers of propellers = \",Npro)        \n",
    "        print(\"\")\n",
    "        print(\"* Mass values:\")\n",
    "        print(\"           Total mass: %.3f kg\"%(Mtotal_final))\n",
    "        print(\"           Propeller mass (1x): %.3f kg\"%(Mpro))\n",
    "        print(\"           Motor mass (1x): %.3f kg\"%(Mmot))\n",
    "        print(\"           Battery mass: %.3f kg\"%(Mbat))\n",
    "        print(\"           ESC mass per propeller : %.3f kg\"%(Mesc))\n",
    "        print(\"           Arm mass (1x) : %.3f kg\"%(Mfra))\n",
    "        print(\"\")\n",
    "        print(frame_model)   \n",
    "        print(\"\")\n",
    "        print(propeller_model)\n",
    "        print(\"\")\n",
    "        print(motor_model)\n",
    "        print(\"\")\n",
    "        print(battery_model)\n",
    "        print(\"\")\n",
    "        print(\"* Constraints (should be >0):\")\n",
    "        print(\"           Estimated mass - Total final mass=%.2f kg \" %constraints[0])\n",
    "        print(\"           V_bat-Umot_takeoff = %.3f V\"%constraints[1])   \n",
    "        print(\"           Tmot_max-Qpro_takeoff = %.3f N.m\"%constraints[2])\n",
    "        print(\"           Vbat-Vesc = %.3f V\"%constraints[3])\n",
    "        if MaxTime==False:\n",
    "            print(\"           T_h-T_hf = %.3f min\"%constraints[4])\n",
    "    else:\n",
    "        return constraints\n"
   ]
  },
  {
   "cell_type": "markdown",
   "metadata": {
    "slideshow": {
     "slide_type": "slide"
    }
   },
   "source": [
    "## Optimization problem\n"
   ]
  },
  {
   "cell_type": "markdown",
   "metadata": {},
   "source": [
    "We will now use the [optimization algorithms](https://docs.scipy.org/doc/scipy/reference/optimize.html) of the Scipy package to solve and optimize the configuration. We use here the SLSQP algorithm without explicit expression of the gradient (Jacobian). A course on Multidisplinary Gradient optimization algorithms and gradient optimization algorithm is given [here](http://mdolab.engin.umich.edu/sites/default/files/Martins-MDO-course-notes.pdf):\n",
    "> Joaquim R. R. A. Martins (2012). A Short Course on Multidisciplinary Design Optimization. University of Michigan\n"
   ]
  },
  {
   "cell_type": "markdown",
   "metadata": {},
   "source": [
    "The first step is to give an initial value of optimisation variables:"
   ]
  },
  {
   "cell_type": "code",
   "execution_count": 20,
   "metadata": {},
   "outputs": [],
   "source": [
    "# Optimisation variables\n",
    "beta=.33 # pitch/diameter ratio of the propeller\n",
    "k_M=3.2 # over sizing coefficient on the load mass \n",
    "k_mot=1 # over sizing coefficient on the motor torque\n",
    "k_speed_mot=1.2 # adaption winding coef on the motor speed\n",
    "k_ND=1 # reduction of product speed.diameter on the propeller\n",
    "k_frame=.01 # aspect ratio e/c (thickness/side) for the beam of the frame\n",
    "k_Mb=1 # ratio battery/load mass\n",
    "k_vb=1 # oversizing coefficient for voltage evaluation\n",
    "\n",
    "# Vector of parameters\n",
    "parameters = scipy.array((beta,k_M,k_mot,k_speed_mot,k_ND, k_frame, k_Mb, k_vb))\n"
   ]
  },
  {
   "cell_type": "markdown",
   "metadata": {
    "slideshow": {
     "slide_type": "slide"
    }
   },
   "source": [
    "We can print of the characterisitcs of the problem before optimization with the intitial vector of optimization variables:"
   ]
  },
  {
   "cell_type": "code",
   "execution_count": 21,
   "metadata": {},
   "outputs": [
    {
     "name": "stdout",
     "output_type": "stream",
     "text": [
      "-----------------------------------------------\n",
      "Initial characteristics before optimization :\n",
      "* Specifications:\n",
      "           Mass of load : 125.00 kg\n",
      "           Take off acceleration : 1.00 g\n",
      "* Optimisation objective:\n",
      "           Max Autonomy : 24.5 min\n",
      "* Optimisation variables:\n",
      "           beta angle consisting of pitch /diameter = 0.33\n",
      "           oversizing coefficient on the load mass k_M = 3.20\n",
      "           Ratio for battery mass = 1.00\n",
      "           oversizing coefficient on the motor torque k_mot = 1.00\n",
      "           oversizing coefficient on the motor speed k_speed_mot = 1.20\n",
      "           undersizing coefficient on the propeller speed k_ND = 1.00\n",
      "           aspect ratio thickness/side k_frame = 0.01\n",
      "           over sizing coefficient on the battery load mass = 1.00\n",
      "           over sizing coefficient for the battery voltage = 1.00\n",
      "* Architecture description:\n",
      "           Numbers of arms =  4\n",
      "           Numbers of propellers =  8\n",
      "\n",
      "* Mass values:\n",
      "           Total mass: 344.399 kg\n",
      "           Propeller mass (1x): 0.896 kg\n",
      "           Motor mass (1x): 8.969 kg\n",
      "           Battery mass: 125.000 kg\n",
      "           ESC mass per propeller : 0.659 kg\n",
      "           Arm mass (1x) : 2.551 kg\n",
      "\n",
      "* Frame informations: \n",
      "** Global: \n",
      "    Frame mass = 2.55 kg\n",
      "** Geometry: \n",
      "    Beam diameter = 177.75 mm\n",
      "    Thickness = 1.78 mm\n",
      "    Length of the arm = 1527.06 mm\n",
      "    Interior angle / separation between propellers = 90.00 °\n",
      "\n",
      "\n",
      "* Propellers informations: \n",
      "** Global: \n",
      "    NxD takeoff = 105000 RPMxInch\n",
      "    Diameter Dpro = 2.2 m or 85.02 in\n",
      "    Pitch  = 0.71 m or 28.06 in\n",
      "    Propeller mass (1x): 0.896 kg\n",
      "** Aerodynamics: \n",
      "    Power coefficient C_p: - for statics: 0.0306 \n",
      "    Thrust coefficient C_t: - for statics: 0.0902 \n",
      "** Rotational speeds: \n",
      "    - for hover: 873 RPM \n",
      "    - for vertical acceleration: 1235 RPM \n",
      "\n",
      "\n",
      "* Motors informations: \n",
      "** Global: \n",
      "    Continuous torque: 57.202 N.m\n",
      "    Max torque: 69.460 N.m\n",
      "    Motor mass: 8.969  kg\n",
      "** Voltage: \n",
      "    Motor voltage Umot: 41.804 V\n",
      "    Transient voltage in vertical + Acceleration (2g): U_ver: 63.41 V\n",
      "** Current: \n",
      "    Motor current Hover: 153.32 A\n",
      "    Transient current in vertical + Acceleration (2g): I_ver: 305.40 A\n",
      "\n",
      "\n",
      "* Battery informations: \n",
      "** Global: \n",
      "    Battery capacity = 371.62 A.h\n",
      "    Battery voltage = 59.20 V\n",
      "    Battery voltage estimated= 58.34 V\n",
      "    Battery current (hover) estimated= 911.73 A\n",
      "* ESC informations: \n",
      "** Global: \n",
      "    ESC power estimated= 17817.90 W\n",
      "    ESC mass estimated= 0.66 kg\n",
      "    ESC voltage estimated= 62.39 V\n",
      "\n",
      "\n",
      "* Constraints (should be >0):\n",
      "           Estimated mass - Total final mass=55.60 kg \n",
      "           V_bat-Umot_takeoff = -4.209 V\n",
      "           Tmot_max-Qpro_takeoff = -44.944 N.m\n",
      "           Vbat-Vesc = -3.192 V\n",
      "-----------------------------------------------\n"
     ]
    }
   ],
   "source": [
    "# Initial characteristics before optimization \n",
    "print(\"-----------------------------------------------\")\n",
    "print(\"Initial characteristics before optimization :\")\n",
    "\n",
    "SizingCode(parameters, 'Prt')\n",
    "\n",
    "print(\"-----------------------------------------------\")\n"
   ]
  },
  {
   "cell_type": "markdown",
   "metadata": {
    "slideshow": {
     "slide_type": "slide"
    }
   },
   "source": [
    "Then we can solve the problem and print of the optimized solution:"
   ]
  },
  {
   "cell_type": "code",
   "execution_count": 22,
   "metadata": {},
   "outputs": [
    {
     "name": "stdout",
     "output_type": "stream",
     "text": [
      "-----------------------------------------------\n",
      "Final characteristics after optimization :\n",
      "* Specifications:\n",
      "           Mass of load : 125.00 kg\n",
      "           Take off acceleration : 1.00 g\n",
      "* Optimisation objective:\n",
      "           Max Autonomy : 38.3 min\n",
      "* Optimisation variables:\n",
      "           beta angle consisting of pitch /diameter = 0.30\n",
      "           oversizing coefficient on the load mass k_M = 7.79\n",
      "           Ratio for battery mass = 3.28\n",
      "           oversizing coefficient on the motor torque k_mot = 1.65\n",
      "           oversizing coefficient on the motor speed k_speed_mot = 1.09\n",
      "           undersizing coefficient on the propeller speed k_ND = 1.00\n",
      "           aspect ratio thickness/side k_frame = 0.05\n",
      "           over sizing coefficient on the battery load mass = 3.28\n",
      "           over sizing coefficient for the battery voltage = 1.13\n",
      "* Architecture description:\n",
      "           Numbers of arms =  4\n",
      "           Numbers of propellers =  8\n",
      "\n",
      "* Mass values:\n",
      "           Total mass: 973.565 kg\n",
      "           Propeller mass (1x): 2.291 kg\n",
      "           Motor mass (1x): 42.199 kg\n",
      "           Battery mass: 409.741 kg\n",
      "           ESC mass per propeller : 1.388 kg\n",
      "           Arm mass (1x) : 17.950 kg\n",
      "\n",
      "* Frame informations: \n",
      "** Global: \n",
      "    Frame mass = 17.95 kg\n",
      "** Geometry: \n",
      "    Beam diameter = 170.23 mm\n",
      "    Thickness = 8.51 mm\n",
      "    Length of the arm = 2441.54 mm\n",
      "    Interior angle / separation between propellers = 90.00 °\n",
      "\n",
      "\n",
      "* Propellers informations: \n",
      "** Global: \n",
      "    NxD takeoff = 104999 RPMxInch\n",
      "    Diameter Dpro = 3.5 m or 135.94 in\n",
      "    Pitch  = 1 m or 40.78 in\n",
      "    Propeller mass (1x): 2.291 kg\n",
      "** Aerodynamics: \n",
      "    Power coefficient C_p: - for statics: 0.0277 \n",
      "    Thrust coefficient C_t: - for statics: 0.0859 \n",
      "** Rotational speeds: \n",
      "    - for hover: 546 RPM \n",
      "    - for vertical acceleration: 772 RPM \n",
      "\n",
      "\n",
      "* Motors informations: \n",
      "** Global: \n",
      "    Continuous torque: 348.390 N.m\n",
      "    Max torque: 423.045 N.m\n",
      "    Motor mass: 42.199  kg\n",
      "** Voltage: \n",
      "    Motor voltage Umot: 63.123 V\n",
      "    Transient voltage in vertical + Acceleration (2g): U_ver: 92.48 V\n",
      "** Current: \n",
      "    Motor current Hover: 212.30 A\n",
      "    Transient current in vertical + Acceleration (2g): I_ver: 422.41 A\n",
      "\n",
      "\n",
      "* Battery informations: \n",
      "** Global: \n",
      "    Battery capacity = 779.62 A.h\n",
      "    Battery voltage = 92.50 V\n",
      "    Battery voltage estimated= 88.81 V\n",
      "    Battery current (hover) estimated= 1220.00 A\n",
      "* ESC informations: \n",
      "** Global: \n",
      "    ESC power estimated= 37512.62 W\n",
      "    ESC mass estimated= 1.39 kg\n",
      "    ESC voltage estimated= 81.57 V\n",
      "\n",
      "\n",
      "* Constraints (should be >0):\n",
      "           Estimated mass - Total final mass=0.00 kg \n",
      "           V_bat-Umot_takeoff = 0.022 V\n",
      "           Tmot_max-Qpro_takeoff = 0.007 N.m\n",
      "           Vbat-Vesc = 10.932 V\n",
      "-----------------------------------------------\n"
     ]
    }
   ],
   "source": [
    "# optimization with SLSQP algorithm\n",
    "contrainte=lambda x: SizingCode(x, 'Const')\n",
    "objectif=lambda x: SizingCode(x, 'Obj')\n",
    "objectifP=lambda x: SizingCode(x, 'ObjP')\n",
    "\n",
    "SLSQP=False # Optimization algorithm choice\n",
    "\n",
    "if SLSQP==True:\n",
    "    # SLSQP omptimisation\n",
    "    result = scipy.optimize.fmin_slsqp(func=objectif, x0=parameters, \n",
    "                                   bounds=[(0.3,0.6),(1,10),(1,10),(1,10),(1,10),(0.05,.5),(.2,15),(1,5)],\n",
    "                                   f_ieqcons=contrainte, iter=1500, acc=1e-12)\n",
    "else:\n",
    "    # Differential evolution omptimisation\n",
    "    result = scipy.optimize.differential_evolution(func=objectifP,\n",
    "                                   bounds=[(0.3,0.6),(1,10),(1,10),(1,10),(1,10),(0.05,.5),(.2,15),(1,5)],\n",
    "                                   tol=1e-12)\n",
    "\n",
    "# Final characteristics after optimization \n",
    "print(\"-----------------------------------------------\")\n",
    "print(\"Final characteristics after optimization :\")\n",
    "\n",
    "if SLSQP==True:\n",
    "    SizingCode(result, 'Prt')\n",
    "else:\n",
    "    SizingCode(result.x, 'Prt')\n",
    "print(\"-----------------------------------------------\")\n",
    "\n"
   ]
  },
  {
   "cell_type": "code",
   "execution_count": null,
   "metadata": {},
   "outputs": [],
   "source": []
  },
  {
   "cell_type": "code",
   "execution_count": null,
   "metadata": {},
   "outputs": [],
   "source": []
  },
  {
   "cell_type": "code",
   "execution_count": null,
   "metadata": {},
   "outputs": [],
   "source": []
  },
  {
   "cell_type": "code",
   "execution_count": null,
   "metadata": {},
   "outputs": [],
   "source": []
  }
 ],
 "metadata": {
  "kernelspec": {
   "display_name": "Python 3",
   "language": "python",
   "name": "python3"
  },
  "language_info": {
   "codemirror_mode": {
    "name": "ipython",
    "version": 3
   },
   "file_extension": ".py",
   "mimetype": "text/x-python",
   "name": "python",
   "nbconvert_exporter": "python",
   "pygments_lexer": "ipython3",
   "version": "3.6.4"
  }
 },
 "nbformat": 4,
 "nbformat_minor": 2
}
