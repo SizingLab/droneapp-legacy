{
 "cells": [
  {
   "cell_type": "markdown",
   "metadata": {
    "slideshow": {
     "slide_type": "slide"
    }
   },
   "source": [
    "<img src=\"./pictures/logo-insa.png\" style=\"float:right; max-width: 60px; display: inline\" alt=\"INSA\" /></a>"
   ]
  },
  {
   "cell_type": "markdown",
   "metadata": {
    "slideshow": {
     "slide_type": "slide"
    }
   },
   "source": [
    "# Motor selection\n",
    "*Written by Marc Budinger, INSA Toulouse, France*"
   ]
  },
  {
   "cell_type": "markdown",
   "metadata": {
    "slideshow": {
     "slide_type": "slide"
    }
   },
   "source": [
    "## Design graph \n",
    "\n",
    "The following diagram represents the design graph of the motor’s selection. The mean speed/thrust (Ωmoy & Tmoy), the max speed/thrust (Ωmax & Tmax) and the battery voltage are assumed to be known here.\n",
    "\n",
    "![DesignGraph](pictures/MotorDesignGraph.png)\n",
    "\n",
    "> **Questions:**\n",
    "* Give the 2 main sizing problems you are able to detect here.\n",
    "* Propose one or multiple solutions (which can request equation manipulation, addition of design variables, addition of constraints) \n",
    "* Orientate the arrows and write equations order, inputs/outputs at each step of this part of sizing procedure, additional constraints\n"
   ]
  },
  {
   "cell_type": "markdown",
   "metadata": {},
   "source": [
    "### Sizing code and optimization\n",
    "\n",
    "> Exercice: propose a sizing code for the selection of a motor.\n"
   ]
  },
  {
   "cell_type": "code",
   "execution_count": 1,
   "metadata": {},
   "outputs": [],
   "source": [
    "from utils.model_standard import CoreModel\n",
    "from utils.model_serializer import ModelSerializer"
   ]
  },
  {
   "cell_type": "code",
   "execution_count": 4,
   "metadata": {},
   "outputs": [],
   "source": [
    "class MotorModel(CoreModel):\n",
    "    \"\"\"\n",
    "    Motor model class.\n",
    "    ----------\n",
    "    \"\"\"\n",
    "\n",
    "    def __init__(self, **kwargs):\n",
    "        super(MotorModel, self).__init__(**kwargs)\n",
    "        self.initialization()\n",
    "        self.execute()\n",
    "        self._update()\n",
    "\n",
    "    def initialization(self):\n",
    "        \n",
    "        # Input variables\n",
    "        # ---------------\n",
    "        # k_mot [-] Oversizing coefficient (torque) for the motor\n",
    "        # k_speed_mot [-] Adaptation coefficient for the K evaluation (>1)\n",
    "        # V_bat_est [V] Battery voltage value (estimation)\n",
    "        # Qpro_takeoff [N.m] Propeller Torque during take-off\n",
    "        # Wpro_takeoff [rad/s] Propeller speed during take-off\n",
    "        # Qpro_hover [N.m] Propoller torque  during hover\n",
    "        # Wpro_hover [rad/s] Propeller speed during hover\n",
    "        inputs = {'k_mot': 1.0, 'k_speed_mot': 1.0, 'V_bat_est': 4.0, 'Qpro_takeoff': 1.0, 'Wpro_takeoff': 1.0, 'Qpro_hover': 1.0, 'Wpro_hover': 1.0}\n",
    "        self.set_inputs(inputs)\n",
    "        \n",
    "        # Input parameters\n",
    "        \n",
    "        # Motor reference\n",
    "        # Ref : AXI 5325/16 GOLD LINE\n",
    "        Tmot_ref=2.32  # [N.m] rated torque\n",
    "        Tmot_max_ref=85/70*Tmot_ref # [N.m] max torque\n",
    "        Rmot_ref=0.03  # [Ohm] resistance\n",
    "        Mmot_ref=0.575 # [kg] mass\n",
    "        Ktmot_ref=0.03 # [N.m/A] torque coefficient\n",
    "        Tfmot_ref=0.03 # [N.m] friction torque (zero load, nominal speed)\n",
    "               \n",
    "        inputs = {'Tmot_ref': Tmot_ref, 'Rmot_ref': Rmot_ref, 'Mmot_ref': Mmot_ref, 'Ktmot_ref': Ktmot_ref, 'Tfmot_ref': Tfmot_ref, 'Tmot_max_ref': Tmot_max_ref}\n",
    "        self.set_inputs(inputs)\n",
    "        \n",
    "               \n",
    "        # Declare outputs\n",
    "        # ----------------\n",
    "        # Tmot [N.m] Continuous of the selected motor torque\n",
    "        # Tmot_max [N.m] Max torque possible of the selected motor\n",
    "        # Mmot [kg] Mass of the motor\n",
    "        # Ktmot [N/A] Torque constant of the motor\n",
    "        # Rmot [Ohm] Resistance of the motor\n",
    "        # Tfmot [N.m] Friction torque of the motor\n",
    "        # Imot_hover [A] Motor current for hover\n",
    "        # Umot_hover [V] Motor voltage for hover\n",
    "        # P_el_hover [W] Electrical power for hover\n",
    "        # Imot_takeoff [A] Motor current for take off\n",
    "        # Umot_takeoff [V] Motor voltage for take off\n",
    "        # P_el_takeoff [W] Electrical power for take off\n",
    "        outputs = ['Tmot', 'Tmot_max', 'Mmot', 'Ktmot', 'Rmot', 'Tfmot', 'Imot_hover', 'Umot_hover', 'P_el_hover', 'Imot_takeoff', 'Umot_takeoff', 'P_el_takeoff']   \n",
    "        self.declare_outputs(outputs)\n",
    "\n",
    "    def execute(self):\n",
    "        \n",
    "        # Get input values\n",
    "        k_mot, k_speed_mot, V_bat_est = self.get_values(['k_mot', 'k_speed_mot', 'V_bat_est'])\n",
    "        Qpro_takeoff, Wpro_takeoff, Qpro_hover, Wpro_hover = self.get_values(['Qpro_takeoff', 'Wpro_takeoff', 'Qpro_hover', 'Wpro_hover'])\n",
    "        Tmot_ref, Rmot_ref, Mmot_ref, Ktmot_ref, Tfmot_ref, Tmot_max_ref = self.get_values(['Tmot_ref', 'Rmot_ref', 'Mmot_ref', 'Ktmot_ref', 'Tfmot_ref', 'Tmot_max_ref'])\n",
    "        \n",
    "        # Do some calculation...\n",
    "    \n",
    "            \n",
    "        outputs = {'Tmot': Tmot, 'Tmot_max': Tmot_max, 'Mmot': Mmot, 'Ktmot': Ktmot, 'Rmot': Rmot, 'Tfmot': Tfmot}\n",
    "        self.set_outputs(outputs)\n",
    "        \n",
    "        outputs = {'Imot_hover': Imot_hover, 'Umot_hover': Umot_hover, 'P_el_hover': P_el_hover}\n",
    "        self.set_outputs(outputs)\n",
    "        \n",
    "        outputs = {'Imot_takeoff': Imot_takeoff, 'Umot_takeoff': Umot_takeoff, 'P_el_takeoff': P_el_takeoff}\n",
    "        self.set_outputs(outputs)\n",
    "        \n",
    "    def __str__(self):\n",
    "        \n",
    "        s =((\"* Motors informations: \\n\") +\n",
    "            (\"** Global: \\n\") + \n",
    "            (\"    Continuous torque: %.3f N.m\"%(self.get_values(['Tmot'])) + \"\\n\") +\n",
    "            (\"    Max torque: %.3f N.m\"%(self.get_values(['Tmot_max'])) + \"\\n\") +\n",
    "            (\"    Motor mass: %.3f  kg\"%(self.get_values(['Mmot'])) + \"\\n\") + \n",
    "            (\"** Voltage: \\n\") +\n",
    "            (\"    Motor voltage Umot: %.3f V\"%(self.get_values(['Umot_hover'])) + \"\\n\") +\n",
    "            (\"    Transient voltage in vertical + Acceleration (2g): U_ver: %.2f V\"%(self.get_values(['Umot_takeoff'])) + \"\\n\") +\n",
    "            (\"** Current: \\n\") +\n",
    "            (\"    Motor current Hover: %.2f A\"%(self.get_values(['Imot_hover'])) + \"\\n\") +\n",
    "            (\"    Transient current in vertical + Acceleration (2g): I_ver: %.2f A\"%(self.get_values(['Imot_takeoff'])) + \"\\n\")\n",
    "           )\n",
    "        return s\n",
    "        "
   ]
  },
  {
   "cell_type": "code",
   "execution_count": 6,
   "metadata": {},
   "outputs": [
    {
     "name": "stdout",
     "output_type": "stream",
     "text": [
      "* Motors informations: \n",
      "** Global: \n",
      "    Continuous torque: 1.000 N.m\n",
      "    Max torque: 1.214 N.m\n",
      "    Motor mass: 0.280  kg\n",
      "** Voltage: \n",
      "    Motor voltage Umot: 454.145 V\n",
      "    Transient voltage in vertical + Acceleration (2g): U_ver: 454.14 V\n",
      "** Current: \n",
      "    Motor current Hover: 0.25 A\n",
      "    Transient current in vertical + Acceleration (2g): I_ver: 0.25 A\n",
      "\n"
     ]
    }
   ],
   "source": [
    "motor_model = MotorModel()\n",
    "\n",
    "print(motor_model)\n",
    "\n",
    "ms = ModelSerializer()\n",
    "path = './models_student/'\n",
    "file_name = 'motor_model'\n",
    "ms.save_model(motor_model, path + file_name)"
   ]
  },
  {
   "cell_type": "code",
   "execution_count": 6,
   "metadata": {},
   "outputs": [
    {
     "name": "stdout",
     "output_type": "stream",
     "text": [
      "* Motors informations: \n",
      "** Global: \n",
      "    Continuous torque: 2.000 N.m\n",
      "    Max torque: 2.429 N.m\n",
      "    Motor mass: 0.506  kg\n",
      "** Voltage: \n",
      "    Motor voltage Umot: 338.003 V\n",
      "    Transient voltage in vertical + Acceleration (2g): U_ver: 173.18 V\n",
      "** Current: \n",
      "    Motor current Hover: 0.51 A\n",
      "    Transient current in vertical + Acceleration (2g): I_ver: 0.26 A\n",
      "\n"
     ]
    }
   ],
   "source": [
    "print(motor_model)\n",
    "\n",
    "inputs = {'Qpro_hover': 2.0}\n",
    "\n",
    "motor_model.evaluate(inputs, [])\n",
    "\n",
    "print(motor_model)"
   ]
  },
  {
   "cell_type": "code",
   "execution_count": null,
   "metadata": {},
   "outputs": [],
   "source": []
  },
  {
   "cell_type": "code",
   "execution_count": null,
   "metadata": {},
   "outputs": [],
   "source": []
  }
 ],
 "metadata": {
  "celltoolbar": "Slideshow",
  "kernelspec": {
   "display_name": "Python 3",
   "language": "python",
   "name": "python3"
  },
  "language_info": {
   "codemirror_mode": {
    "name": "ipython",
    "version": 3
   },
   "file_extension": ".py",
   "mimetype": "text/x-python",
   "name": "python",
   "nbconvert_exporter": "python",
   "pygments_lexer": "ipython3",
   "version": "3.6.4"
  }
 },
 "nbformat": 4,
 "nbformat_minor": 2
}
