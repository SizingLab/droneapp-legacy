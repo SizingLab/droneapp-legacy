{
 "cells": [
  {
   "cell_type": "markdown",
   "metadata": {
    "slideshow": {
     "slide_type": "slide"
    }
   },
   "source": [
    "<img src=\"./pictures/DroneApp_logo.png\" style=\"float:right; max-width: 180px; display: inline\" alt=\"INSA\" /></a>\n",
    "<img src=\"./pictures/logo_sizinglab.png\" style=\"float:right; max-width: 100px; display: inline\" alt=\"INSA\" /></a>"
   ]
  },
  {
   "cell_type": "markdown",
   "metadata": {
    "slideshow": {
     "slide_type": "slide"
    }
   },
   "source": [
    "# Sizing models for multi-rotor definition \n",
    "*Written by Marc Budinger, Aitor Ochotorena (INSA Toulouse) and Scott Delbecq (ISAE-SUPAERO), Toulouse, France.*"
   ]
  },
  {
   "cell_type": "markdown",
   "metadata": {},
   "source": [
    "## Global sizing procedure with XDSM representation\n",
    "\n",
    "The following diagram represents the XDSM graph of the global sizing process of the multi-rotor. \n",
    "\n",
    "![XDSM](pictures/xdsm_multirotor_base.png)\n",
    "\n",
    "> **Questions:**\n",
    "* Give the main sizing problems you are able to detect.\n",
    "* Propose one or multiple solutions (which can request equation manipulation, addition of design variables, addition of constraints) "
   ]
  },
  {
   "cell_type": "markdown",
   "metadata": {},
   "source": [
    "### Solution using the Normalized Variable Hybrid formulation\n",
    "\n",
    "The following diagram represents the XDSM graph of the global sizing process of the multi-rotor with the NVH formulation to achieve the MultiDisciplinary Analysis (MDA). \n",
    "\n",
    "![XDSM](pictures/xdsm_multirotor_mda.png)\n",
    "\n",
    "It consists in addition an oversizing coefficent $k_{os} \\quad [1-10]$ as a design variable and additional inequality constraint $M_{total_{load}} \\geq M_{tot}$. This way, we make sure that the drone is capable of lifting the load and itself. As we are minimizing the total mass $M_{tot}$ the oversizing coefficient $k_{os}$ will tend to be as small as possible and thus the inequality constraint will be equivalent to an equality constraint ($M_{total_{load}} = M_{tot}$). This is one way of solving an algebraic loop, other methods use numerical solvers or other optimizer-based formulations.\n",
    "\n",
    "The quadrotor sizing problem contains other solvability issues such as overconstrained singularities. Try to utilize the NVH formulation to solve them."
   ]
  },
  {
   "cell_type": "markdown",
   "metadata": {},
   "source": [
    "## Collaborative work\n",
    "\n",
    "The goal now is to work in a collaborative manner to quickly implement the global sizing procedure.\n",
    "You will work in teams and in each team will work on a sub-part:\n",
    "* [Propeller selection](06a_PropellerSelection.ipynb)\n",
    "* [Motor selection](06b_MotorSelection.ipynb)\n",
    "* [Battery and ESC selection](06c_BatteryESCSelection.ipynb)\n",
    "* [Frame definition](06d_FrameSelection.ipynb)\n",
    "\n",
    "In each of the following notebooks you will complete the code of a sizing brick that will be defined by already selected inputs and outputs. Thank you for respecting them to ensure a successful final assembly of these bricks in the complete optimization problem."
   ]
  },
  {
   "cell_type": "markdown",
   "metadata": {
    "slideshow": {
     "slide_type": "slide"
    }
   },
   "source": [
    "#### Main problems to be solved\n",
    "\n",
    "In general, the establishment of a sizing procedure involves the resolution of the following 3 problems:\n",
    "* a set of equations sub-constrained by the addition of a design variable in the optimization problem;\n",
    "* an over-constrained variable by adding a design variable (multiplier) and the transfer of the excess equation(s) in the constrained part of the optimization problem;\n",
    "* an algebraic loop by the use of a simplified equation weighted by a multiplying coefficient and a constraint representing the initial equation.\n"
   ]
  },
  {
   "cell_type": "markdown",
   "metadata": {
    "slideshow": {
     "slide_type": "slide"
    }
   },
   "source": [
    "#### Caution for the optimizer\n",
    "\n",
    "Where possible:\n",
    "* the design variables must take the form of a normalized variable around 1 (oversize coef. for example) or easily bounded to facilitate the work of the optimizer.\n",
    "* the constraints must take the form of inequality and not of equality which often introduce numerical difficulties. The optimization of the objective (for example the total mass) will certainly force some (active) constraints to come to an end. "
   ]
  },
  {
   "cell_type": "code",
   "execution_count": null,
   "metadata": {},
   "outputs": [],
   "source": []
  }
 ],
 "metadata": {
  "kernelspec": {
   "display_name": "Python 3",
   "language": "python",
   "name": "python3"
  },
  "language_info": {
   "codemirror_mode": {
    "name": "ipython",
    "version": 3
   },
   "file_extension": ".py",
   "mimetype": "text/x-python",
   "name": "python",
   "nbconvert_exporter": "python",
   "pygments_lexer": "ipython3",
   "version": "3.7.1"
  }
 },
 "nbformat": 4,
 "nbformat_minor": 2
}
