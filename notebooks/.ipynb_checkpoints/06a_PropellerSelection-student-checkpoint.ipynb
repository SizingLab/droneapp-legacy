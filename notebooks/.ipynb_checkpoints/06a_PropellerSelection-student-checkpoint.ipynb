{
 "cells": [
  {
   "cell_type": "markdown",
   "metadata": {
    "slideshow": {
     "slide_type": "slide"
    }
   },
   "source": [
    "<img src=\"./pictures/logo-insa.png\" style=\"float:right; max-width: 60px; display: inline\" alt=\"INSA\" /></a>"
   ]
  },
  {
   "cell_type": "markdown",
   "metadata": {
    "slideshow": {
     "slide_type": "slide"
    }
   },
   "source": [
    "# Propeller selection\n",
    "*Written by Marc Budinger, INSA Toulouse, France*"
   ]
  },
  {
   "cell_type": "markdown",
   "metadata": {
    "slideshow": {
     "slide_type": "slide"
    }
   },
   "source": [
    "## Design graph \n",
    "\n",
    "The following diagram represents the design graph of the propeller’s selection. The max thrust is assumed to be known here.\n",
    "\n",
    "\n",
    "![DesignGraph](pictures/PropellerDesignGraph.png)\n",
    "\n",
    "> **Questions:**\n",
    "* Give the main sizing problems you are able to detect.\n",
    "* Propose one or multiple solutions (which can request equation manipulation, addition of design variables, addition of constraints) \n",
    "* Orientate the arrows\n",
    "* Give equations order, inputs/outputs at each step of this part of sizing procedure\n",
    "\n"
   ]
  },
  {
   "cell_type": "markdown",
   "metadata": {},
   "source": [
    "### Sizing code and optimization\n",
    "\n",
    "> Exercice: propose a sizing code for the selection of a propeller.\n"
   ]
  },
  {
   "cell_type": "code",
   "execution_count": 4,
   "metadata": {},
   "outputs": [],
   "source": [
    "from utils.model_standard import CoreModel\n",
    "from utils.model_serializer import ModelSerializer"
   ]
  },
  {
   "cell_type": "code",
   "execution_count": 5,
   "metadata": {},
   "outputs": [],
   "source": [
    "class PropellerModel(CoreModel):\n",
    "    \"\"\"\n",
    "    Propeller model class.\n",
    "    ----------\n",
    "    \"\"\"\n",
    "\n",
    "    def __init__(self, **kwargs):\n",
    "        super(PropellerModel, self).__init__(**kwargs)\n",
    "        self.initialization()\n",
    "        self.execute()\n",
    "        self._update()\n",
    "\n",
    "    def initialization(self):\n",
    "        \n",
    "        # Input variables\n",
    "        # k_ND [-] ratio ND/NDmax\n",
    "        # Tpro_takeoff [N] Thrust for 1 propeller during Take Off\n",
    "        # Tpro_hover [N] Thrust for 1 propeller during Hover\n",
    "        inputs = {'k_ND': 1.0, 'beta': 0.5, 'Tpro_takeoff': 15.0, 'Tpro_hover': 5.0}\n",
    "        self.set_inputs(inputs)\n",
    "        \n",
    "        # Input parameters\n",
    "        \n",
    "        # Propeller selection\n",
    "        # ---\n",
    "        rho_air=1.18 # [kg/m^3] air density \n",
    "        NDmax=105000/60*.0254 # [Hz.m] max speed limit (N.D max)\n",
    "        Dpro_ref=11*.0254 # [m] diameter\n",
    "        Mpro_ref=0.53*0.0283 # [kg] mass\n",
    "        \n",
    "        inputs = {'rho_air': rho_air, 'NDmax': NDmax, 'Dpro_ref': Dpro_ref, 'Mpro_ref': Mpro_ref}\n",
    "        self.set_inputs(inputs)\n",
    "               \n",
    "        # Declare outputs\n",
    "        # -------------------\n",
    "        # C_t [-] Thrust coefficient of the propeller\n",
    "        # C_p [-] Power coefficient of the propeller\n",
    "        # Dpro [Dpro] Diameter of the propeller\n",
    "        # n_pro_takeoff [rev/s or Hz] Rev speed of the propeller during Take Off\n",
    "        # Wpro_takeoff [rad/s] Rev speed of the propeller during Take Off\n",
    "        # Mpro [kg] Mass of the propeller\n",
    "        # Ppro_takeoff [W] Power, mechanical shaft of the propeller, during Take Off\n",
    "        # Qpro_takeoff [N.m] Torque, mechanical shaft of the propeller, during Take Off\n",
    "        # P_el_hover [Dpro] Diameter of the propeller\n",
    "        # n_pro_hover [rev/s or Hz] Rev speed of the propeller during Hover\n",
    "        # Wpro_hover [rad/s] ev speed of the propeller during Hover\n",
    "        # Ppro_hover [W] Power, mechanical shaft of the propeller, during Hover\n",
    "        # Qpro_hover [N.m] Torque, mechanical shaft of the propeller, during Hover\n",
    "        outputs = ['C_t', 'C_p', 'Dpro', 'n_pro_takeoff', 'Wpro_takeoff', 'Mpro', 'Ppro_takeoff', 'Qpro_takeoff', 'P_el_hover', 'n_pro_hover', 'Wpro_hover', 'Ppro_hover', 'Qpro_hover']   \n",
    "        self.declare_outputs(outputs)\n",
    "\n",
    "    def execute(self):\n",
    "        \n",
    "        # Get input values\n",
    "        k_ND, beta, Tpro_takeoff, Tpro_hover = self.get_values(['k_ND', 'beta', 'Tpro_takeoff', 'Tpro_hover'])\n",
    "        \n",
    "        rho_air, NDmax, Dpro_ref, Mpro_ref = self.get_values(['rho_air', 'NDmax', 'Dpro_ref', 'Mpro_ref'])\n",
    "\n",
    "        \n",
    "        # Do some calculation...\n",
    "            \n",
    "        outputs = {'C_t': C_t, 'C_p': C_p, 'Dpro': Dpro, 'n_pro_takeoff': n_pro_takeoff, 'Wpro_takeoff': Wpro_takeoff, 'Mpro': Mpro}\n",
    "        self.set_outputs(outputs)\n",
    "        \n",
    "        outputs = {'Ppro_takeoff': Ppro_takeoff, 'Qpro_takeoff': Qpro_takeoff}\n",
    "        self.set_outputs(outputs)\n",
    "        \n",
    "        outputs = {'n_pro_hover': n_pro_hover, 'Wpro_hover': Wpro_hover, 'Ppro_hover': Ppro_hover, 'Qpro_hover': Qpro_hover}\n",
    "        self.set_outputs(outputs)\n",
    "        \n",
    "    def __str__(self):\n",
    "        \n",
    "        s =((\"* Propellers informations: \\n\") +\n",
    "            (\"** Global: \\n\") + \n",
    "            (\"    NxD takeoff = %.0f RPMxInch\"%(self.get_values(['n_pro_takeoff'])*60*self.get_values(['Dpro'])/.0254) + \"\\n\") +\n",
    "            (\"    Diameter Dpro = %.2g m or %.2f in\"%((self.get_values(['Dpro']), self.get_values(['Dpro'])/.0254)) + \"\\n\") +\n",
    "            (\"    Pitch  = %.2g m or %.2f in\"%(self.get_values(['beta'])*self.get_values(['Dpro']), self.get_values(['beta'])*self.get_values(['Dpro'])/.0254) + \"\\n\") +\n",
    "            (\"    Propeller mass (1x): %.3f kg\"%(self.get_values(['Mpro'])) + \"\\n\") +\n",
    "            (\"** Aerodynamics: \\n\") +\n",
    "            (\"    Power coefficient C_p: - for statics: %.4f \"%(self.get_values(['C_p'])) + \"\\n\") +\n",
    "            (\"    Thrust coefficient C_t: - for statics: %.4f \"%(self.get_values(['C_t']))+ \"\\n\") +\n",
    "            (\"** Rotational speeds: \\n\") +\n",
    "            (\"    - for hover: %.0f RPM \"%(self.get_values(['Wpro_hover'])*60/2/pi) + \"\\n\") +\n",
    "            (\"    - for vertical acceleration: %.0f RPM \"%(self.get_values(['Wpro_takeoff'])*60/2/3.14) + \"\\n\")\n",
    "           )\n",
    "        return s\n",
    "        "
   ]
  },
  {
   "cell_type": "code",
   "execution_count": 6,
   "metadata": {},
   "outputs": [
    {
     "ename": "NameError",
     "evalue": "name 'C_t' is not defined",
     "output_type": "error",
     "traceback": [
      "\u001b[1;31m---------------------------------------------------------------------------\u001b[0m",
      "\u001b[1;31mNameError\u001b[0m                                 Traceback (most recent call last)",
      "\u001b[1;32m<ipython-input-6-531c5302e570>\u001b[0m in \u001b[0;36m<module>\u001b[1;34m()\u001b[0m\n\u001b[1;32m----> 1\u001b[1;33m \u001b[0mpropeller_model\u001b[0m \u001b[1;33m=\u001b[0m \u001b[0mPropellerModel\u001b[0m\u001b[1;33m(\u001b[0m\u001b[1;33m)\u001b[0m\u001b[1;33m\u001b[0m\u001b[0m\n\u001b[0m\u001b[0;32m      2\u001b[0m \u001b[1;33m\u001b[0m\u001b[0m\n\u001b[0;32m      3\u001b[0m \u001b[0mprint\u001b[0m\u001b[1;33m(\u001b[0m\u001b[0mpropeller_model\u001b[0m\u001b[1;33m)\u001b[0m\u001b[1;33m\u001b[0m\u001b[0m\n\u001b[0;32m      4\u001b[0m \u001b[1;33m\u001b[0m\u001b[0m\n\u001b[0;32m      5\u001b[0m \u001b[0mms\u001b[0m \u001b[1;33m=\u001b[0m \u001b[0mModelSerializer\u001b[0m\u001b[1;33m(\u001b[0m\u001b[1;33m)\u001b[0m\u001b[1;33m\u001b[0m\u001b[0m\n",
      "\u001b[1;32m<ipython-input-5-bb8201996b4d>\u001b[0m in \u001b[0;36m__init__\u001b[1;34m(self, **kwargs)\u001b[0m\n\u001b[0;32m      8\u001b[0m         \u001b[0msuper\u001b[0m\u001b[1;33m(\u001b[0m\u001b[0mPropellerModel\u001b[0m\u001b[1;33m,\u001b[0m \u001b[0mself\u001b[0m\u001b[1;33m)\u001b[0m\u001b[1;33m.\u001b[0m\u001b[0m__init__\u001b[0m\u001b[1;33m(\u001b[0m\u001b[1;33m**\u001b[0m\u001b[0mkwargs\u001b[0m\u001b[1;33m)\u001b[0m\u001b[1;33m\u001b[0m\u001b[0m\n\u001b[0;32m      9\u001b[0m         \u001b[0mself\u001b[0m\u001b[1;33m.\u001b[0m\u001b[0minitialization\u001b[0m\u001b[1;33m(\u001b[0m\u001b[1;33m)\u001b[0m\u001b[1;33m\u001b[0m\u001b[0m\n\u001b[1;32m---> 10\u001b[1;33m         \u001b[0mself\u001b[0m\u001b[1;33m.\u001b[0m\u001b[0mexecute\u001b[0m\u001b[1;33m(\u001b[0m\u001b[1;33m)\u001b[0m\u001b[1;33m\u001b[0m\u001b[0m\n\u001b[0m\u001b[0;32m     11\u001b[0m         \u001b[0mself\u001b[0m\u001b[1;33m.\u001b[0m\u001b[0m_update\u001b[0m\u001b[1;33m(\u001b[0m\u001b[1;33m)\u001b[0m\u001b[1;33m\u001b[0m\u001b[0m\n\u001b[0;32m     12\u001b[0m \u001b[1;33m\u001b[0m\u001b[0m\n",
      "\u001b[1;32m<ipython-input-5-bb8201996b4d>\u001b[0m in \u001b[0;36mexecute\u001b[1;34m(self)\u001b[0m\n\u001b[0;32m     59\u001b[0m         \u001b[1;31m# Do some calculation...\u001b[0m\u001b[1;33m\u001b[0m\u001b[1;33m\u001b[0m\u001b[0m\n\u001b[0;32m     60\u001b[0m \u001b[1;33m\u001b[0m\u001b[0m\n\u001b[1;32m---> 61\u001b[1;33m         \u001b[0moutputs\u001b[0m \u001b[1;33m=\u001b[0m \u001b[1;33m{\u001b[0m\u001b[1;34m'C_t'\u001b[0m\u001b[1;33m:\u001b[0m \u001b[0mC_t\u001b[0m\u001b[1;33m,\u001b[0m \u001b[1;34m'C_p'\u001b[0m\u001b[1;33m:\u001b[0m \u001b[0mC_p\u001b[0m\u001b[1;33m,\u001b[0m \u001b[1;34m'Dpro'\u001b[0m\u001b[1;33m:\u001b[0m \u001b[0mDpro\u001b[0m\u001b[1;33m,\u001b[0m \u001b[1;34m'n_pro_takeoff'\u001b[0m\u001b[1;33m:\u001b[0m \u001b[0mn_pro_takeoff\u001b[0m\u001b[1;33m,\u001b[0m \u001b[1;34m'Wpro_takeoff'\u001b[0m\u001b[1;33m:\u001b[0m \u001b[0mWpro_takeoff\u001b[0m\u001b[1;33m,\u001b[0m \u001b[1;34m'Mpro'\u001b[0m\u001b[1;33m:\u001b[0m \u001b[0mMpro\u001b[0m\u001b[1;33m}\u001b[0m\u001b[1;33m\u001b[0m\u001b[0m\n\u001b[0m\u001b[0;32m     62\u001b[0m         \u001b[0mself\u001b[0m\u001b[1;33m.\u001b[0m\u001b[0mset_outputs\u001b[0m\u001b[1;33m(\u001b[0m\u001b[0moutputs\u001b[0m\u001b[1;33m)\u001b[0m\u001b[1;33m\u001b[0m\u001b[0m\n\u001b[0;32m     63\u001b[0m \u001b[1;33m\u001b[0m\u001b[0m\n",
      "\u001b[1;31mNameError\u001b[0m: name 'C_t' is not defined"
     ]
    }
   ],
   "source": [
    "propeller_model = PropellerModel()\n",
    "\n",
    "print(propeller_model)\n",
    "\n",
    "ms = ModelSerializer()\n",
    "path = './models_student/'\n",
    "file_name = 'propeller_model'\n",
    "ms.save_model(propeller_model, path + file_name)\n",
    "    "
   ]
  },
  {
   "cell_type": "code",
   "execution_count": 7,
   "metadata": {},
   "outputs": [
    {
     "ename": "NameError",
     "evalue": "name 'propeller_model' is not defined",
     "output_type": "error",
     "traceback": [
      "\u001b[1;31m---------------------------------------------------------------------------\u001b[0m",
      "\u001b[1;31mNameError\u001b[0m                                 Traceback (most recent call last)",
      "\u001b[1;32m<ipython-input-7-3aefe4597390>\u001b[0m in \u001b[0;36m<module>\u001b[1;34m()\u001b[0m\n\u001b[1;32m----> 1\u001b[1;33m \u001b[0mprint\u001b[0m\u001b[1;33m(\u001b[0m\u001b[0mpropeller_model\u001b[0m\u001b[1;33m)\u001b[0m\u001b[1;33m\u001b[0m\u001b[0m\n\u001b[0m\u001b[0;32m      2\u001b[0m \u001b[1;33m\u001b[0m\u001b[0m\n\u001b[0;32m      3\u001b[0m \u001b[0minputs\u001b[0m \u001b[1;33m=\u001b[0m \u001b[1;33m{\u001b[0m\u001b[1;34m'Tpro_takeoff'\u001b[0m\u001b[1;33m:\u001b[0m \u001b[1;36m25.0\u001b[0m\u001b[1;33m}\u001b[0m\u001b[1;33m\u001b[0m\u001b[0m\n\u001b[0;32m      4\u001b[0m \u001b[1;33m\u001b[0m\u001b[0m\n\u001b[0;32m      5\u001b[0m \u001b[0mpropeller_model\u001b[0m\u001b[1;33m.\u001b[0m\u001b[0mevaluate\u001b[0m\u001b[1;33m(\u001b[0m\u001b[0minputs\u001b[0m\u001b[1;33m,\u001b[0m \u001b[1;33m[\u001b[0m\u001b[1;33m]\u001b[0m\u001b[1;33m)\u001b[0m\u001b[1;33m\u001b[0m\u001b[0m\n",
      "\u001b[1;31mNameError\u001b[0m: name 'propeller_model' is not defined"
     ]
    }
   ],
   "source": [
    "print(propeller_model)\n",
    "\n",
    "inputs = {'Tpro_takeoff': 25.0}\n",
    "\n",
    "propeller_model.evaluate(inputs, [])\n",
    "\n",
    "print(propeller_model)"
   ]
  },
  {
   "cell_type": "code",
   "execution_count": null,
   "metadata": {},
   "outputs": [],
   "source": []
  },
  {
   "cell_type": "code",
   "execution_count": null,
   "metadata": {},
   "outputs": [],
   "source": []
  }
 ],
 "metadata": {
  "celltoolbar": "Slideshow",
  "kernelspec": {
   "display_name": "Python 3",
   "language": "python",
   "name": "python3"
  },
  "language_info": {
   "codemirror_mode": {
    "name": "ipython",
    "version": 3
   },
   "file_extension": ".py",
   "mimetype": "text/x-python",
   "name": "python",
   "nbconvert_exporter": "python",
   "pygments_lexer": "ipython3",
   "version": "3.6.4"
  }
 },
 "nbformat": 4,
 "nbformat_minor": 2
}
