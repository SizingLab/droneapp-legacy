{
 "cells": [
  {
   "cell_type": "markdown",
   "metadata": {},
   "source": [
    "<img src=\"./pictures/DroneApp_logo.png\" style=\"float:right; max-width: 180px; display: inline\" alt=\"INSA\" />\n",
    "<img src=\"./pictures/logo_sizinglab.png\" style=\"float:right; max-width: 100px; display: inline\" alt=\"INSA\" />"
   ]
  },
  {
   "cell_type": "markdown",
   "metadata": {},
   "source": [
    "# Case study and architecture presentation\n",
    "\n",
    "*Written by Marc Budinger (INSA Toulouse) and Scott Delbecq (ISAE-SUPAERO), Toulouse, France.*\n",
    "\n",
    "Before sizing a system, it is important to define all the constraints that could have an influence on the design. It is therefore advisable to list meticulously:\n",
    "- the power components to size in the architecture \n",
    "- criteria and parameters useful for the selection of components \n",
    "- system usage scenarios that can a effect the selection of components\n",
    "\n",
    "This is the target of this notebook."
   ]
  },
  {
   "cell_type": "markdown",
   "metadata": {},
   "source": [
    "### Multi-rotor drone: a complete mechatronic system\n",
    "\n",
    "The multi-rotor concept is not new and dates from the first helicopter work. During the 1920s, George de Bothezat (United States, 1922) and Etienne Oehmichen (France, 1924)  built helicopters with fours rotors at the end of intersecting beams. However, mechanical power transmission and control were relatively complex.\n",
    "\n",
    "\n",
    "*Helicopter in the 1920s (left George de_Bothezat prototype, right Etienne Oehmichen prototype) \n",
    "\n",
    "![George de_Bothezat](./pictures/De_Bothezat_Flying_Octopus.jpg)\n",
    "![Etienne Oehmichen](./pictures/helico_4_helices_etienne_oehmichen_1924.jpg)\n",
    "\n",
    "Today, thanks the development of:\n",
    "- powerful brushless motors, the power transmission is simplified\n",
    "- MEMS sensors (gyrometer, accelerometer) and microcontrollers enable control in a very small footprint\n",
    "\n",
    "multi-rotor becomes a reality for from transport micro to human body.\n",
    "\n",
    "*Micro and mini drones*  \n",
    "![Micro Quadcopter](./pictures/microquadcopter.jpg)\n",
    "![Mikrokopter_Quadro](./pictures/mikropter_quadro.jpg)  \n",
    "\n",
    "*Ehang 184 and Volcopter passengers drones*  \n",
    "![Ehang 184](./pictures/ehang184.jpg)\n",
    "![Volocopter](./pictures/volocopter.jpg)  \n",
    "\n",
    "\n",
    "\n",
    "\n",
    "The multi-rotor drones can be defined as mechatronic systems with the use of mechanical, electro-mechanical, computer science and electronics disciplines. \n",
    "\n",
    "You can find [here](https://quadcopterarena.com/the-history-of-drones-and-quadcopters/) an introduction to the history of Unmanned Aerial Vehicles, the quad-copters best features and their utilizations and applications.\n"
   ]
  },
  {
   "cell_type": "markdown",
   "metadata": {},
   "source": [
    "### Anatomy of a drone\n",
    "\n",
    "The  diagram of the drone components and the listing of drone component parts presented below comes from an article called anatomy of a drone by [MakeZine](https://makezine.com/2014/01/07/anatomy-of-a-drone/). The main components are: \n",
    "* A. **STANDARD PROP**: The same “tractor” propeller used on standard front-engine R/C airplanes.  \n",
    "* B. **“PUSHER” PROP**: These contra-rotating props exactly cancel out motor torques during stationary level flight. Opposite pitch gives downdraft.  \n",
    "* C. **MOTOR**: Usually a brushless electric “outrunner” type, which is more efficient, more reliable, and quieter than a brushed motor.  \n",
    "* D. **MOTOR MOUNT**: Sometimes built into combination fittings with landing struts.  \n",
    "* E. **LANDING GEAR**: Designs that need high ground clearance may adopt helicopter-style skids mounted directly to the body, while designs with no hanging payload may omit landing gear altogether.  \n",
    "* F. **BOOM**: Shorter booms increase maneuverability, while longer booms increase stability. Booms must be tough to hold up in a crash while interfering with prop downdraft as little as possible.  \n",
    "* G. **MAIN BODY**: Central “hub” from which booms radiate like spokes on a wheel. Houses battery, avionics, cameras, and sensors.  \n",
    "* H. **ELECTRONIC SPEED CONTROLLER (ESC)**: Converts DC battery power into 3-phase AC for driving brushless motors.  \n",
    "* I. **FLIGHT CONTROLLER**: Interprets input from receiver, GPS module, battery monitor, and onboard sensors. Regulates motor speeds, via ESCs, to provide steering, as well as triggering cameras or other payloads. Controls autopilot and other autonomous functions.  \n",
    "* J. **GPS MODULE**: Often combines GPS receiver and magnetometer to provide latitude, longitude, elevation, and compass heading from a single device.  \n",
    "* K. **RECEIVER**: Often a standard R/C radio receiver unit. The minimum number of channels needed to control a quad is 4, but 5 is usually recommended.  \n",
    "* L. **ANTENNA**: Depending on your receiver, may be a loose wire whip or helical “rubber ducky” type.  \n",
    "* M. **BATTERY**: Lithium polymer (LiPo) batteries offer the best combination of energy density, power density, and lifetime on the market.  \n",
    "* N. **BATTERY MONITOR**: Provides in-flight power level monitoring to flight controller.  \n",
    "\n",
    "*Drone anatomy*  \n",
    "![anatomy-of-a-drone](./pictures/anatomy-of-a-drone.png)\n",
    "\n",
    "The load is often a camera system:  \n",
    "* O. **GIMBAL**: Pivoting mount that rotates about 1, 2, or 3 axes to provide stabilization and pointing of cameras or other sensors.  \n",
    "* P. **GIMBAL MOTOR**: Brushless DC motors can be used for direct-drive angular positioning, too, which requires specially-wound coils and dedicated control circuitry that have only recently become commercially available.  \n",
    "* Q. **GIMBAL CONTROLLER**: Allows control of direct-drive brushless gimbal motors as if they were standard hobby servos.  \n",
    "* R. **CAMERA**: GoPro or other compact HD video unit with onboard storage. Real-time streaming is possible with special equipment.  \n"
   ]
  }
 ],
 "metadata": {
  "kernelspec": {
   "display_name": "Python 3",
   "language": "python",
   "name": "python3"
  },
  "language_info": {
   "codemirror_mode": {
    "name": "ipython",
    "version": 3
   },
   "file_extension": ".py",
   "mimetype": "text/x-python",
   "name": "python",
   "nbconvert_exporter": "python",
   "pygments_lexer": "ipython3",
   "version": "3.7.5"
  }
 },
 "nbformat": 4,
 "nbformat_minor": 2
}
