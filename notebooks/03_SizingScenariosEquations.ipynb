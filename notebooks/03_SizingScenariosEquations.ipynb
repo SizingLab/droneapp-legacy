{
 "cells": [
  {
   "cell_type": "markdown",
   "metadata": {},
   "source": [
    "<img src=\"./pictures/DroneApp_logo.png\" style=\"float:right; max-width: 180px; display: inline\" alt=\"INSA\" />\n",
    "<img src=\"./pictures/logo_sizinglab.png\" style=\"float:right; max-width: 100px; display: inline\" alt=\"INSA\" />"
   ]
  },
  {
   "cell_type": "markdown",
   "metadata": {},
   "source": [
    "# Equations of sizing scenarios\n",
    "\n",
    "*Written by Marc Budinger (INSA Toulouse) and Scott Delbecq (ISAE-SUPAERO), Toulouse, France.*\n",
    "\n",
    "The purpose of this notebook is to illustrate on an existing drone example the main equations to be taken into account during the sizing. The selected drone is the [MK-Quadro](http://wiki.mikrokopter.de/MK-Quadro) drone of Mikrokopter. The technical informations about the MK-quadro drone can be found in [Appendix 1](A1_QuadroDescription.ipynb) or on the website of [MikroKopter](http://wiki.mikrokopter.de/en/FlightTime) company.\n",
    "\n",
    "*MK-Quadro from MikroKopter company*  \n",
    "![Quadro](./pictures/MikroQuadro.jpg)\n"
   ]
  },
  {
   "cell_type": "markdown",
   "metadata": {},
   "source": [
    "### Propellers fundamental equations\n",
    "\n",
    "Propellers can be described in an ideal manner by the [disk momentum theory](https://fenix.tecnico.ulisboa.pt/downloadFile/282093452028191/3-Momentum%20Theory%20in%20hover.pdf). The [dimensional analysis]([https://web.mit.edu/16.unified/www/FALL/thermodynamics/notes/node86.html#SECTION06374000000000000000]) theory enables to describe with more details the propeller performances thanks to aerodynamic coefficients:\n",
    "- The thrust: $T = C_{T,h} \\rho \\Omega^2 A R^2=C_{T,p} \\rho n^2 D^4$  which gives $ = k_{TD} \\Omega^2$ for a given propeller and a given diameter\n",
    "- The power: $P = C_{P,h} \\rho \\Omega^3 A R^3=C_{P,p} \\rho n^3 D^5 $ which gives the power $P=k_{PD}\\Omega^3$ or the torque $M = k_{PD} \\Omega^2$ for a given propeller and a given diameter\n",
    "\n",
    "**Remark:** Be carefull, litterature shows 2 notations:\n",
    "* the propeller notation with $n$ the propeller speed in [rev/s], $D$ the diameter in [m], $\\rho$  the air density in [$kg/m^3$]\n",
    "* the helicopter notation with $\\Omega$ the propeller speed in [rad/s], $R$ the radius in [m], $A$ the disk area in [$m^2$], $\\rho$  the air density in [$kg/m^3$]\n",
    "\n",
    "> Exercice: compare the characteristics of the following [APC propellers](https://www.apcprop.com/files/PER3_10x45MR.dat) to those of the MikroKopter MK-Quadro ([GWS](https://gwsus.com/english/dealer/dealer_gwsusa.htm)).\n",
    "\n",
    "Characteristics  | APC Propeller | GWS Propeller\n",
    "-- | -- | --\n",
    "Diameter [inch] | 10 | 10 \n",
    "Pitch [inch] | 4.5 | 4.5 \n",
    "Thrust coef $C_t$ [-] | 0.1125 | \n",
    "Power coef $C_p$ [-]  | 0.0254 | \n",
    "Thrust coef $k_{TD}$ [$\\frac{N}{(rad/s)^2}$] | | $1.799.10^{-5}$\n",
    "Torque coefficient $k_{PD}$ [$\\frac{N}{(rad/s)^2}$] | | $3.054.10^{-7}$\n",
    "\n",
    "with: $1$ $inch = 0.0254$ $m$, $\\rho=1.18$ $kg/m^3$ \n"
   ]
  },
  {
   "cell_type": "code",
   "execution_count": 1,
   "metadata": {},
   "outputs": [
    {
     "name": "stdout",
     "output_type": "stream",
     "text": [
      "-- APC\n",
      "Thrust coefficient K_TD derived from APC Ct coefficient: 1.40e-05 N/(rad/s)^2\n",
      "Thrust coefficient K_PD derived from APC Ct coefficient: 2.22e-07 N/(rad/s)^2\n",
      "-- GWS\n",
      "Thrust coefficient C_t derived from GWS K_TD coefficient: 1.45e-01\n",
      "Thrust coefficient C_p derived from GWS K_PD coefficient: 6.07e-02\n"
     ]
    }
   ],
   "source": [
    "from math import pi\n",
    "\n",
    "D_pro = 10. * 0.0254 # [m] Propeller diameter\n",
    "rho_air = 1.18 # [kg/m^3] Air mass volumic (25°C)\n",
    "\n",
    "# APC coefficients                                                      \n",
    "C_t = 0.1125 # [-] Thrust coefficient, propeller notation\n",
    "C_p = 0.0441 # [-] Power coefficient, propeller notation\n",
    "\n",
    "K_TD_APC = C_t * rho_air * D_pro**4. / (2*pi)**2. # [N/(rad/s)^2] Thrust coefficient\n",
    "K_PD_APC = C_p * rho_air * D_pro**5. / (2*pi)**3. # [N/(rad/s)^2] Torque coefficient\n",
    "\n",
    "print(\"-- APC\")\n",
    "print(\"Thrust coefficient K_TD derived from APC Ct coefficient: %.2e N/(rad/s)^2\"%K_TD_APC)\n",
    "print(\"Thrust coefficient K_PD derived from APC Ct coefficient: %.2e N/(rad/s)^2\"%K_PD_APC)\n",
    "\n",
    "# GWS coefficients \n",
    "C_t_GWS = 1.799e-5 / (rho_air * D_pro**4. / (2*pi)**2.) # [-] Thrust coefficient\n",
    "C_p_GWS = 3.054e-7 / (rho_air * D_pro**5. / (2*pi)**3.) # [-] Thrust coefficient\n",
    "\n",
    "print(\"-- GWS\")\n",
    "print(\"Thrust coefficient C_t derived from GWS K_TD coefficient: %.2e\"%C_t_GWS)\n",
    "print(\"Thrust coefficient C_p derived from GWS K_PD coefficient: %.2e\"%C_p_GWS)"
   ]
  },
  {
   "cell_type": "markdown",
   "metadata": {},
   "source": [
    "### Hover flight scenario\n",
    "\n",
    "The flight conditions in static hover are no forward speed, no vertical speed. This scenario influences in a very important way the autonomy of the vehicle. The thrust generated by propellers have to compensate the global weight of the drone and the load.\n",
    "\n",
    "*Hover flight (V=0)*  \n",
    "![Disk momentum](./pictures/disk_momentum_hover.jpg)\n",
    "\n",
    "> Questions: with the given technical informations, calculate the requested thrust for each propeller for a no load hover flight.\n",
    "\n",
    "Characteristics  | MK-MikroKopter drone\n",
    "-- | -- \n",
    "Total mass ready to take off |  1350 g\n",
    "Number of propellers | 4"
   ]
  },
  {
   "cell_type": "code",
   "execution_count": 2,
   "metadata": {},
   "outputs": [],
   "source": [
    "from math import sqrt\n",
    "\n",
    "# Hover scenario\n",
    "# ------------ \n",
    "M_total = 1.35 # [kg] mass of the drone \n",
    "N_pro = 4 # [-] number of propellers\n",
    "D_pro = 2.54e-2*10 # [m] propeller diameter\n",
    "F_pro = M_total * 9.81 / N_pro # [N] Thrust per propeller"
   ]
  },
  {
   "cell_type": "markdown",
   "metadata": {},
   "source": [
    "> Questions: with the technical informations of GWS propellers calculate the propeller torque, speed and the mechanical power.\n"
   ]
  },
  {
   "cell_type": "code",
   "execution_count": 3,
   "metadata": {},
   "outputs": [
    {
     "name": "stdout",
     "output_type": "stream",
     "text": [
      "----------------\n",
      "Propeller speed: 429.00 rad/s or 4099 RPM\n",
      "Propeller torque: 0.06 N.m \n",
      "Propeller power: 24.11 W \n"
     ]
    }
   ],
   "source": [
    "# Propeller characteristics\n",
    "# -----------------------------\n",
    "\n",
    "K_w_pro =1.799e-5 # [N/(rad/s)^2] thrust coef\n",
    "M_w_pro = 3.054e-7 # [N.m/(rad/s)^2] torque coef\n",
    "\n",
    "# to be compared to the ones calculated with regression\n",
    "# GWS 10*4.5\n",
    "\n",
    "D_pro = 10 * .0254 #[m] diameter\n",
    "\n",
    "# Torque and RPM of motors\n",
    "# -----------------------\n",
    "\n",
    "omega_pro = sqrt(F_pro/K_w_pro) # [rad/s] Propeller Speed\n",
    "\n",
    "T_pro = M_w_pro * omega_pro**2.  # [N.m] Propeller torque\n",
    "\n",
    "print(\"----------------\")\n",
    "print(\"Propeller speed: %.2f rad/s or %.0f RPM\"%(omega_pro, omega_pro/2./3.14*60.))\n",
    "print(\"Propeller torque: %.2f N.m \"%(T_pro))\n",
    "print(\"Propeller power: %.2f W \"%(T_pro * omega_pro))"
   ]
  },
  {
   "cell_type": "markdown",
   "metadata": {},
   "source": [
    "> Questions: with the following technical informations calculate the motor voltage and current, the autonomy of the drone if we assume an efficiency of 95% for electronic speed controllers (ESC) and a depth of discharge of 80% for the battery.\n",
    "\n",
    "Component |Characteristic | Value\n",
    "--- | --- | --- \n",
    "Motor | Poles pair number| 7  \n",
    "| Load current | 6‐9A (DC)  \n",
    "| Max current | 10A (DC)  \n",
    "| Speed constant Kv | 760 tr/min/V  \n",
    "| Mechanical power | 110 W  \n",
    "| Dimensions | 28.8 x 29 mm  \n",
    "| Max efficiency | 76 %  \n",
    "| mass | 65 g  \n",
    "| Resistance | R = 0.26 ohm  \n",
    "| Inertia | J= 2.5e-5 kg.m²  \n",
    "Battery| Voltage | LIPO 4S (4*3.7V)\n",
    "| Capacity | 3300mAh\n",
    "| mass | 329g\n"
   ]
  },
  {
   "cell_type": "code",
   "execution_count": 9,
   "metadata": {},
   "outputs": [
    {
     "name": "stdout",
     "output_type": "stream",
     "text": [
      "----------------\n",
      "Motor current: 4.47 A \n",
      "Motor voltage: 6.55 V \n",
      "----------------\n",
      "Battery voltage: 14.80 V \n",
      "Autonomy of the battery : 19.0 min\n"
     ]
    }
   ],
   "source": [
    "# Voltage / current calculation\n",
    "# -----------------------------\n",
    "# Torque coeff and electrical resistance\n",
    "K_mot=(1./760.) * 60./2./pi # [V/(rad/s)] Motor torque coeff\n",
    "R_mot = 0.26 # [Ohm] Motor resistance\n",
    "\n",
    "# Voltage / current calculation\n",
    "I_mot = T_pro / K_mot # [A] Current of the motor\n",
    "U_mot = R_mot * I_mot + omega_pro * K_mot # [V] Voltage of the motor\n",
    "\n",
    "print(\"----------------\")\n",
    "print(\"Motor current: %.2f A \"% I_mot)\n",
    "print(\"Motor voltage: %.2f V \"% U_mot)\n",
    "\n",
    "# Autonomy of the battery\n",
    "U_bat = 4.*3.7 # [V] Voltage of the battery\n",
    "C_bat = 3.3 # [A.h] Capacity  of the battery\n",
    "\n",
    "\n",
    "nu_esc = 0.95 # [-] Efficiency of the ESC\n",
    "I_bat = (U_mot * I_mot * N_pro) / nu_esc / U_bat # Battery de-rating current\n",
    "\n",
    "soc_min = 0.2 # Minimum state of charge (SOC) to respect\n",
    "t_hov = (1. - soc_min) * C_bat / I_bat # [h] Autonomy of the battery\n",
    "\n",
    "print(\"----------------\")\n",
    "print(\"Battery voltage: %.2f V \" % U_bat)\n",
    "print(\"Autonomy of the battery : %.1f min\" % (t_hov * 60.))"
   ]
  },
  {
   "cell_type": "markdown",
   "metadata": {},
   "source": [
    "### Take off flight scenario\n",
    "The take off flight scenario is a high power mission segment. This scenario is considered as part of the static scenarios and provides the vehicle with the initial thrust to lift the vehicle. No vertical speed is considered so far.\n",
    "\n",
    "In this sense, the maximum thrust will be defined as $F_{to}=F_{hover}\\cdot k_{max,thrust}$, where $k_{max,thrust}$ is the ratio between max thrust and hover thrust, which is always greater than one.\n",
    "\n",
    "Propeller diameter or frame stress will be designed to withstand some transitory extreme criteria, such as the maximum thrust."
   ]
  },
  {
   "cell_type": "markdown",
   "metadata": {},
   "source": [
    "### Vertical climb scenario\n",
    "For the vertical climb scenario we consider the effect of the air climb speed for the drone design. \n",
    "\n",
    "For this mission, the climb thrust will be defined as: $F_{cl}=\\frac{1}{2}\\cdot C_X\\cdot A_{top} \\cdot \\rho \\cdot V_{cl}^2$\n",
    "\n",
    "with $C_X$ as drag coefficient, $A_{top} $ as top surface (these both parameters defined by the drone geometry), $\\rho$ as the air density and $V_{cl}$, as the climb speed.\n",
    "\n",
    "For the vertical climb, advance ratio ($J=\\frac{V_{cl}}{n_{cl}   D_{pro}}$) is a key parameter to estimate the vertical speed. \n"
   ]
  },
  {
   "cell_type": "code",
   "execution_count": null,
   "metadata": {},
   "outputs": [],
   "source": []
  }
 ],
 "metadata": {
  "kernelspec": {
   "display_name": "Python 3",
   "language": "python",
   "name": "python3"
  },
  "language_info": {
   "codemirror_mode": {
    "name": "ipython",
    "version": 3
   },
   "file_extension": ".py",
   "mimetype": "text/x-python",
   "name": "python",
   "nbconvert_exporter": "python",
   "pygments_lexer": "ipython3",
   "version": "3.7.5"
  }
 },
 "nbformat": 4,
 "nbformat_minor": 2
}
