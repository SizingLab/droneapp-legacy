{
 "cells": [
  {
   "cell_type": "markdown",
   "metadata": {
    "slideshow": {
     "slide_type": "slide"
    }
   },
   "source": [
    "<img src=\"./pictures/DroneApp_logo.png\" style=\"float:right; max-width: 180px; display: inline\" alt=\"INSA\" />\n",
    "<img src=\"./pictures/logo_sizinglab.png\" style=\"float:right; max-width: 100px; display: inline\" alt=\"INSA\" />"
   ]

  },
  {
   "cell_type": "markdown",
   "metadata": {
    "slideshow": {
     "slide_type": "slide"
    }
   },
   "source": [
    "# Motor selection\n",
    "*Written by Marc Budinger (INSA Toulouse) and Scott Delbecq (ISAE-SUPAERO), Toulouse, France.*"
   ]
  },
  {
   "cell_type": "markdown",
   "metadata": {},
   "source": [
    "**Sympy** package permits us to work with symbolic calculation."
   ]
  },
  {
   "cell_type": "code",
   "execution_count": 1,
   "metadata": {},
   "outputs": [],
   "source": [
    "from math import pi\n",
    "\n",
    "from sympy import Symbol\n",
    "from sympy import *"
   ]
  },
  {
   "cell_type": "markdown",
   "metadata": {
    "slideshow": {
     "slide_type": "slide"
    }
   },
   "source": [
    "## Design graph \n",
    "\n",
    "The following diagram represents the design graph of the motor’s selection. The mean speed/thrust (Ωmoy & Tmoy), the max speed/thrust (Ωmax & Tmax) and the battery voltage are assumed to be known here.\n",
    "\n",
    "![DesignGraph](pictures/MotorDesignGraph.png)\n",
    "\n",
    "> **Questions:**\n",
    "* Give the 2 main sizing problems you are able to detect here.\n",
    "* Propose one or multiple solutions (which can request equation manipulation, addition of design variables, addition of constraints) \n",
    "* Orientate the arrows and write equations order, inputs/outputs at each step of this part of sizing procedure, additional constraints\n"
   ]
  },
  {
   "cell_type": "markdown",
   "metadata": {},
   "source": [
    "### Sizing code and optimization\n",
    "\n",
    "> Exercice: propose a sizing code for the selection of a motor.\n"
   ]
  },
  {
   "cell_type": "code",
   "execution_count": null,
   "metadata": {},
   "outputs": [],
   "source": [
    "# Specifications\n",
    "\n",
    "# Reference parameters for scaling laws\n",
    "# Motor reference\n",
    "# Ref : AXI 5325/16 GOLD LINE\n",
    "T_nom_mot_ref = 2.32  # [N.m] rated torque\n",
    "T_max_mot_ref = 85./70.*T_nom_mot_ref # [N.m] max torque\n",
    "R_mot_ref = 0.03  # [Ohm] resistance\n",
    "M_mot_ref = 0.575 # [kg] mass\n",
    "K_mot_ref = 0.03 # [N.m/A] torque coefficient\n",
    "T_mot_fr_ref = 0.03 # [N.m] friction torque (zero load, nominal speed)\n",
    "\n",
    "# Assumption\n",
    "T_pro_to=1.0#[N.m] Propeller Torque during takeoff\n",
    "Omega_pro_to=1.0#[rad/s] Propeller speed during takeoff\n",
    "T_pro_hov=1.0#[N.m] Propeller Torque during hover\n",
    "Omega_pro_hov=1.0#[rad/s] Propeller speed during hover\n",
    "U_bat_est= 4.0#[V] Battery voltage value (estimation)\n"
   ]
  },
  {
   "cell_type": "markdown",
   "metadata": {},
   "source": [
    "Define the design variables as a symbol under `variableExample= Symbol('variableExample')`"
   ]
  },
  {
   "cell_type": "code",
   "execution_count": 2,
   "metadata": {},
   "outputs": [],
   "source": [
    "#Design variables\n",
    "k_mot=Symbol('k_mot')#[-] over sizing coefficient on the motor torque (1,400)\n",
    "k_speed_mot=Symbol('k_speed_mot')#[-] over sizing coefficient on the motor speed (1,10)"
   ]
  },
  {
   "cell_type": "code",
   "execution_count": null,
   "metadata": {},
   "outputs": [],
   "source": [
    "#Equations:\n",
    "#-----\n",
    "T_nom_mot = k_mot * T_pro_hov   # [N.m] Motor nominal torque per propeller\n",
    "\n",
    "M_mot = M_mot_ref * (T_nom_mot/T_nom_mot_ref)**(3./3.5) # [kg] Motor mass\n",
    "\n",
    "# Selection with take-off speed\n",
    "K_mot = U_bat_est / (k_speed_mot*Omega_pro_to) # [N.m/A] or [V/(rad/s)] Kt motor\n",
    "\n",
    "R_mot = R_mot_ref * (T_nom_mot/T_nom_mot_ref)**(-5./3.5)*(K_mot/K_mot_ref)**2.  # [Ohm] motor resistance\n",
    "T_mot_fr = T_mot_fr_ref * (T_nom_mot/T_nom_mot_ref)**(3./3.5) # [N.m] Friction torque\n",
    "T_max_mot = T_max_mot_ref * (T_nom_mot/T_nom_mot_ref)\n",
    "\n",
    "# Hover current and voltage\n",
    "I_mot_hov = (T_pro_hov+T_mot_fr) / K_mot # [I] Current of the motor per propeller\n",
    "U_mot_hov = R_mot*I_mot_hov + Omega_pro_hov*K_mot # [V] Voltage of the motor per propeller\n",
    "P_el_mot_hov = U_mot_hov*I_mot_hov # [W] Hover : electrical power\n",
    "\n",
    "# Takeoff current and voltage\n",
    "I_mot_to = (T_pro_to+T_mot_fr) / K_mot # [I] Current of the motor per propeller\n",
    "U_mot_to = R_mot*I_mot_to + Omega_pro_to*K_mot # [V] Voltage of the motor per propeller\n",
    "P_el_mot_to = U_mot_to*I_mot_to # [W] Takeoff : electrical power"
   ]
  }
 ],
 "metadata": {
  "kernelspec": {
   "display_name": "Python 3",
   "language": "python",
   "name": "python3"
  },
  "language_info": {
   "codemirror_mode": {
    "name": "ipython",
    "version": 3
   },
   "file_extension": ".py",
   "mimetype": "text/x-python",
   "name": "python",
   "nbconvert_exporter": "python",
   "pygments_lexer": "ipython3",
   "version": "3.7.1"
  }
 },
 "nbformat": 4,
 "nbformat_minor": 2
}
