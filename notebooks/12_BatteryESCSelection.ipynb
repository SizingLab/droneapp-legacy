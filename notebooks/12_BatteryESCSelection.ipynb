{
 "cells": [
  {
   "cell_type": "markdown",
   "metadata": {
    "slideshow": {
     "slide_type": "slide"
    }
   },
   "source": [
    "<img src=\"./pictures/DroneApp_logo.png\" style=\"float:right; max-width: 180px; display: inline\" alt=\"INSA\" />\n",
    "<img src=\"./pictures/logo_sizinglab.png\" style=\"float:right; max-width: 100px; display: inline\" alt=\"INSA\" />"
   ]
  },
  {
   "cell_type": "markdown",
   "metadata": {
    "slideshow": {
     "slide_type": "slide"
    }
   },
   "source": [
    "# Battery and ESC selection\n",
    "*Written by Marc Budinger (INSA Toulouse) and Scott Delbecq (ISAE-SUPAERO), Toulouse, France.*"
   ]
  },
  {
   "cell_type": "markdown",
   "metadata": {},
   "source": [
    "**Sympy** package permits us to work with symbolic calculation."
   ]
  },
  {
   "cell_type": "code",
   "execution_count": 13,
   "metadata": {},
   "outputs": [],
   "source": [
    "import math\n",
    "\n",
    "from sympy import Symbol\n",
    "from sympy import *"
   ]
  },
  {
   "cell_type": "markdown",
   "metadata": {
    "slideshow": {
     "slide_type": "slide"
    }
   },
   "source": [
    "## Design graph \n",
    "\n",
    "The following diagram represents the design graph of the battery and ESC selection.\n",
    "\n",
    "\n",
    "![DesignGraph](pictures/ESCBatteryDesignGraph.png)\n",
    "\n",
    "> **Questions:**\n",
    "* Recall the main equations to take into account during ESC and battery selection\n",
    "* Orientate the arrows\n",
    "* Give equations order, inputs/outputs at each step of this part of sizing procedure\n",
    "\n"
   ]
  },
  {
   "cell_type": "markdown",
   "metadata": {},
   "source": [
    "### Sizing code and optimization\n",
    "\n",
    "> Exercice: propose a sizing code for the selection of a battery and ESC.\n"
   ]
  },
  {
   "cell_type": "code",
   "execution_count": 10,
   "metadata": {},
   "outputs": [],
   "source": [
    "# Specifications\n",
    "N_pro=4.0#[-] Number of propellers\n",
    "M_pay=10.0#[kg] Payload mass\n",
    "\n",
    "# Reference parameters for scaling laws\n",
    "# Ref : MK-quadro\n",
    "M_bat_ref = .329 # [kg] mass\n",
    "E_bat_ref = 220.*3600.*.329 # [J]\n",
    "\n",
    "# Ref : Turnigy K_Force 70HV \n",
    "P_esc_ref = 3108. # [W] Power\n",
    "M_esc_ref = .115 # [kg] Mass\n",
    "\n",
    "# Assumption\n",
    "U_bat_est=4.0#[V] Battery voltage estimation\n",
    "P_el_mot_hov=10.0#[W] Electrical power consumption for one motor during hover\n",
    "P_el_mot_to=10.0#[W] Electrical power consumption for one motor during takeoff\n",
    "U_mot_to=4.0#[V] Motor voltage during takeoff"
   ]
  },
  {
   "cell_type": "markdown",
   "metadata": {},
   "source": [
    "Define the design variables as a symbol under `variableExample= Symbol('variableExample')`"
   ]
  },
  {
   "cell_type": "code",
   "execution_count": 15,
   "metadata": {},
   "outputs": [],
   "source": [
    "#Design variables\n",
    "k_mb=Symbol('k_mb')#[-]sizing coefficient on the battery load mass (0.1,100)"
   ]
  },
  {
   "cell_type": "code",
   "execution_count": 14,
   "metadata": {},
   "outputs": [],
   "source": [
    "# -----------------------\n",
    "# equations\n",
    "# -----------------------\n",
    "N_s_bat = math.ceil(U_bat_est/3.7) # [-] Cell number, round (up value)\n",
    "U_bat = 3.7 * N_s_bat # [V] Battery voltage\n",
    "\n",
    "M_bat = k_mb * M_pay # [kg] Battery mass\n",
    "\n",
    "# Hover --> autonomy\n",
    "E_bat = E_bat_ref * M_bat/M_bat_ref*.8 # [J] Energy  of the battery (.8 coefficient because 80% use only of the total capacity)\n",
    "C_bat = E_bat/U_bat # [A.s] Capacity  of the battery \n",
    "I_bat = (P_el_mot_hov * N_pro) /.95/U_bat # [A] Current of the battery\n",
    "t_hov = C_bat/I_bat/60. # [min] Hover time \n",
    "\n",
    "# ESC\n",
    "P_esc = P_el_mot_to * U_bat_est / U_mot_to # [W] power electronic power (corner power or apparent power)\n",
    "M_esc = M_esc_ref * (P_esc/P_esc_ref) # [kg] Mass ESC\n",
    "V_esc = 1.84 * P_esc**0.36 # [V] ESC voltage        "
   ]
  }
 ],
 "metadata": {
  "kernelspec": {
   "display_name": "Python 3",
   "language": "python",
   "name": "python3"
  },
  "language_info": {
   "codemirror_mode": {
    "name": "ipython",
    "version": 3
   },
   "file_extension": ".py",
   "mimetype": "text/x-python",
   "name": "python",
   "nbconvert_exporter": "python",
   "pygments_lexer": "ipython3",
   "version": "3.7.5"
  }
 },
 "nbformat": 4,
 "nbformat_minor": 2
}
