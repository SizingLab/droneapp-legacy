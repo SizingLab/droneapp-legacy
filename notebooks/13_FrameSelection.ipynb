{
 "cells": [
  {
   "cell_type": "markdown",
   "metadata": {
    "slideshow": {
     "slide_type": "slide"
    }
   },
   "source": [
    "<img src=\"./pictures/DroneApp_logo.png\" style=\"float:right; max-width: 180px; display: inline\" alt=\"INSA\" />\n",
    "<img src=\"./pictures/logo_sizinglab.png\" style=\"float:right; max-width: 100px; display: inline\" alt=\"INSA\" />"
   ]

  },
  {
   "cell_type": "markdown",
   "metadata": {
    "slideshow": {
     "slide_type": "slide"
    }
   },
   "source": [
    "# Frame selection\n",
    "*Written by Marc Budinger (INSA Toulouse) and Scott Delbecq (ISAE-SUPAERO), Toulouse, France.*"
   ]
  },
  {
   "cell_type": "markdown",
   "metadata": {},
   "source": [
    "**Sympy** package permits us to work with symbolic calculation."
   ]
  },
  {
   "cell_type": "code",
   "execution_count": 4,
   "metadata": {},
   "outputs": [],
   "source": [
    "from math import pi\n",
    "\n",
    "from sympy import Symbol\n",
    "from sympy import *"
   ]
  },
  {
   "cell_type": "markdown",
   "metadata": {
    "slideshow": {
     "slide_type": "slide"
    }
   },
   "source": [
    "## Design graph \n",
    "\n",
    "The following diagram represents the design graph of the frame selection. \n",
    "\n",
    "\n",
    "![DesignGraph](pictures/FrameDesignGraph.png)\n",
    "\n",
    "> **Questions:**\n",
    "* Give the main sizing problems you are able to detect.\n",
    "* Propose one or multiple solutions (which can request equation manipulation, addition of design variables, addition of constraints) \n",
    "* Orientate the arrows\n",
    "* Give equations order, inputs/outputs at each step of this part of sizing procedure\n",
    "\n"
   ]
  },
  {
   "cell_type": "markdown",
   "metadata": {},
   "source": [
    "### Sizing code and optimization\n",
    "\n",
    "> Exercice: propose a sizing code for the selection of the frame.\n"
   ]
  },
  {
   "cell_type": "code",
   "execution_count": 5,
   "metadata": {},
   "outputs": [],
   "source": [
    "# Specifications\n",
    "N_arm=4.0#[-] Number of arms\n",
    "N_pro_arm=1.0#[-] Number of propellers per arm (1 or 2)\n",
    "\n",
    "# Reference parameters for scaling laws\n",
    "sigma_max = 280e6/4. # [Pa] Composite max stress (2 reduction for dynamic, 2 reduction for stress concentration)\n",
    "rho_s = 1700. # [kg/m3] Volumic mass of aluminum\n",
    "\n",
    "# Assumption\n",
    "D_pro=0.3#[m] Propeller diameter\n",
    "F_pro_to=1.0#[N] Thrust for one propeller during take off\n"
   ]
  },
  {
   "cell_type": "markdown",
   "metadata": {},
   "source": [
    "Define the design variables as a symbol under `variableExample= Symbol('variableExample')`"
   ]
  },
  {
   "cell_type": "code",
   "execution_count": 9,
   "metadata": {},
   "outputs": [],
   "source": [
    "#Design variables\n",
    "k_D=Symbol('k_D')#[-] aspect ratio e/c (thickness/side) for the beam of the frame (0,0.99)"
   ]
  },
  {
   "cell_type": "code",
   "execution_count": 8,
   "metadata": {},
   "outputs": [],
   "source": [
    "# -----------------------\n",
    "# equations\n",
    "# -----------------------\n",
    "# Length calculation   \n",
    "alpha_sep = 2*pi / N_arm # [rad] interior angle separation between propellers\n",
    "L_arm = D_pro / (2.*sin(alpha_sep/2.)) # [m] length of the arm\n",
    "\n",
    "# Tube diameter & thickness\n",
    "D_out_arm = (F_pro_to*N_pro_arm/sigma_max*L_arm*32./(pi*(1.-(1.-2.*k_D)**4.)))**(1/3)  # [m] outer diameter of the arm (hollow cylinder)\n",
    "e_arm = k_D * D_out_arm # [m] thickness of the arm (hollow cylinder) \n",
    "D_in_arm = D_out_arm - e_arm # [m] inner diameter of the arm (hollow cylinder) \n",
    "\n",
    "# Mass\n",
    "M_arm = pi/4. * (D_out_arm**2.-(D_out_arm-2.*e_arm)**2)*L_arm*rho_s # [kg] mass of the arm (x1) (beams only)  composite\n",
    "M_frame = N_arm * M_arm / 0.4 # [kg] mass of the frame (40% of total mass is the arms)\n"
   ]
  }
 ],
 "metadata": {
  "kernelspec": {
   "display_name": "Python 3",
   "language": "python",
   "name": "python3"
  },
  "language_info": {
   "codemirror_mode": {
    "name": "ipython",
    "version": 3
   },
   "file_extension": ".py",
   "mimetype": "text/x-python",
   "name": "python",
   "nbconvert_exporter": "python",
   "pygments_lexer": "ipython3",
   "version": "3.7.5"
  }
 },
 "nbformat": 4,
 "nbformat_minor": 2
}
