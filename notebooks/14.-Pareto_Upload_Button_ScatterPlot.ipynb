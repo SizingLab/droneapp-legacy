{
 "cells": [
  {
   "cell_type": "markdown",
   "metadata": {},
   "source": [
    "## Automatic creator of pareto tables for multiple dataframes\n",
    "*created by Aitor Ochotorena*"
   ]
  },
  {
   "cell_type": "markdown",
   "metadata": {},
   "source": [
    "## Concepts\n",
    "\n",
    "L'optimum de *Pareto* permet de diviser en deux l'ensemble de données:\n",
    "- De l'un côté ceux qui sont aimeliorables (*non dominants*)\n",
    "- Ceux qui ne sont pas aimeliorables et qui sont donc optimales selon les critères de sélection (*dominants*).\n",
    "\n",
    "Dans ce deuxième cas on désigne comme *optima au sens de Paréto*.\n",
    "\n",
    "**Example de frontière d'efficacité de Pareto:**\n",
    "\n",
    "si les situations préférables sont celles où f1 et f2 sont les plus faibles, le point C n'est pas sur la frontière de Pareto parce qu'il est dominé par les points A et B. Les points A et B sont tous les deux efficaces.\n",
    "\n",
    "![paretofrontiere](./img/300px-Front_pareto.svg.png)"
   ]
  },
  {
   "cell_type": "markdown",
   "metadata": {},
   "source": [
    "## Application\n",
    "\n",
    "Upload all *csv* files you wish to filter from your local system:\n",
    "\n",
    "There are some example files you can upload in the [GitHub repository](https://github.com/aitorochotorena/Automatic-Pareto-Creator/tree/master/testPareto).\n",
    "\n",
    "(wait until a button of 'Upload' shows, otherwise refresh the page)"
   ]
  },
  {
   "cell_type": "code",
   "execution_count": 1,
   "metadata": {},
   "outputs": [],
   "source": [
    "# %matplotlib widget\n",
    "# to plot the scatter matrix\n",
    "\n",
    "import matplotlib.pyplot as plt\n",
    "import numpy as np\n",
    "import pandas as pd\n",
    "\n",
    "# download link\n",
    "\n",
    "import base64\n",
    "from IPython.display import HTML\n",
    "\n",
    "# required to obtain the widgets\n",
    "from ipywidgets import *\n",
    "from IPython.display import display,clear_output\n",
    "from io import StringIO\n",
    "from ipywidgets import FileUpload, Output\n"
   ]
  },
  {
   "cell_type": "code",
   "execution_count": 2,
   "metadata": {},
   "outputs": [],
   "source": [
    "# FUNCTION: create_download_link\n",
    "# goal: create a link with the output csv file with to download\n",
    "\n",
    "def create_download_link( df, title = \"Download CSV file\", filename = \"data.csv\"):\n",
    "    csv = df.to_csv()\n",
    "    b64 = base64.b64encode(csv.encode())\n",
    "    payload = b64.decode()\n",
    "    html = '<a download=\"{filename}\" href=\"data:text/csv;base64,{payload}\" target=\"_blank\">{title}</a>'\n",
    "    html = html.format(payload=payload,title=title,filename=filename)\n",
    "    return HTML(html)\n"
   ]
  },
  {
   "cell_type": "code",
   "execution_count": 3,
   "metadata": {},
   "outputs": [],
   "source": [
    "# convert a database of bits in dataframe\n",
    "def printing(df_bits):\n",
    "    \n",
    "    s=str(df_bits,'utf-8')\n",
    "\n",
    "    data = StringIO(s) \n",
    "\n",
    "    df=pd.read_csv(data, sep=';')\n",
    "    \n",
    "    return df\n"
   ]
  },
  {
   "cell_type": "code",
   "execution_count": 4,
   "metadata": {},
   "outputs": [],
   "source": [
    "# dominated function. variable input: reference point, dataframe and selection criterium\n",
    "# function to determine the pareto optimum according to multiple conditions\n",
    "# return counter=1 if dominated, else 0 for dominant point\n",
    "# here args[0] is the reference point, args[1] is the dataframe and args[2] is the selection criterium\n",
    "\n",
    "def dominated(*args):\n",
    "    counter=0\n",
    "#     print(len(args[0]))\n",
    "    for argsDF in zip(*args[1]):# first row of dataframe \n",
    "#         print(argsDF)\n",
    "        subcounter=0\n",
    "        for x1,x2,x3 in zip(args[0],argsDF,args[2]):\n",
    "\n",
    "            if x3=='max.': #if criterium is to maximize,\n",
    "                if x2>x1:\n",
    "#                     print('x2>x1',(x1,x2))\n",
    "                    subcounter+=1\n",
    "                else: \n",
    "                    None\n",
    "            else:\n",
    "                if x2<x1:\n",
    "#                     print('x2<x1',(x1,x2))\n",
    "                    subcounter+=1\n",
    "                else: \n",
    "                    None\n",
    "            if subcounter==len(args[0]):# if condition is respected n times, the point is dominated, counter !=0\n",
    "                counter+=1\n",
    "    return counter"
   ]
  },
  {
   "cell_type": "code",
   "execution_count": 5,
   "metadata": {},
   "outputs": [],
   "source": [
    "def pareto (*args):\n",
    "    df=args[0]\n",
    "    outputV=args[1]\n",
    "    outputdf=args[2]\n",
    "    chars=args[3]\n",
    "    description_name=args[4] #list(upload_button.value)[idx]\n",
    "\n",
    "    df['Dominated']=0\n",
    "#     print(df)\n",
    "\n",
    "    for row in range(len(df)-1):\n",
    "        if dominated(eval(outputV),eval(outputdf),chars)>0:\n",
    "            df.loc[row,'Dominated']=1    \n",
    "\n",
    "    color_wheel = {0: 'r', \n",
    "                   1: 'b'}\n",
    "\n",
    "    colorsM = df['Dominated'].map(lambda x: color_wheel.get(x))\n",
    "    \n",
    "    pd.plotting.scatter_matrix(df, color=colorsM, figsize=[15,10], s=200)\n",
    "\n",
    "    plt.suptitle('{}'.format(description_name))\n",
    "    plt.tick_params(axis = 'both', labelsize = 14)\n",
    "    plt.rcParams.update({'font.size': 14})\n",
    "    display(create_download_link(df[df['Dominated']==0],title='\"Download CSV file for {}'.format(description_name), filename='pareto.csv'))\n",
    "\n",
    "    plt.show()"
   ]
  },
  {
   "cell_type": "code",
   "execution_count": 6,
   "metadata": {},
   "outputs": [],
   "source": [
    "# FUNCTION: rename (create a string to be executed in the code later on). Input: output given in the widget\n",
    "# the goal of this function is to transform the output given by the widget into a sentence which can be computed in the code\n",
    "# i.e. if output of widget is ['Thrust', 'max.', 'DIAMETER', 'min.'], we create a string chain as \n",
    "# df.Thrust[row],df.DIAMETER[row] and df.Thrust,df.DIAMETER, which will be applied in the loop to calculate the pareto.\n",
    "\n",
    "def renameVDF(mylist):\n",
    "    argsV = {} # dict to save the variables with the format of df.Variable[row]\n",
    "    argsDF = {}# dict to save the variables with the format of df.Variable\n",
    "#     chars = {} # dict to save the criteria : maximize the variable (max.) or (min.)\n",
    "#     counter=0\n",
    "\n",
    "#     if dominated(df_pro.loc[row,Pro_Par1.value], df_pro.loc[row,Pro_Par2.value],df_pro[Pro_Par1.value].values,df_pro[Pro_Par2.value].values)>0:\n",
    "\n",
    "    for idx,x in enumerate(mylist):\n",
    "            argsV[\"x{0}\".format(idx)] = 'df.'+mylist[idx]+'[row]'\n",
    "            argsDF[\"x{0}\".format(idx)] = 'df.'+mylist[idx]\n",
    "#             counter+=1\n",
    "\n",
    "    argsV = list(argsV.values())    \n",
    "    argsDF= list(argsDF.values())  \n",
    "\n",
    "#     chars=list(chars.values())\n",
    "\n",
    "\n",
    "    argsV = ','.join(argsV)\n",
    "    argsDF = ','.join(argsDF)\n",
    "#     display(argsV, argsDF)\n",
    "    return argsV, argsDF"
   ]
  },
  {
   "cell_type": "code",
   "execution_count": 7,
   "metadata": {},
   "outputs": [],
   "source": [
    "Output2= Output()\n",
    "@Output2.capture()\n",
    "\n",
    "def display_grid(change):\n",
    "#     global d_vector,e_vector\n",
    "    clear_output()\n",
    "    salida= widgets.Output()\n",
    "    button = widgets.Button(\n",
    "        description='Plot',\n",
    "        disabled=False,\n",
    "        button_style='info',\n",
    "        tooltip='Click me',\n",
    "        icon='check'\n",
    "    )\n",
    "    \n",
    "    dfDropdownPars=[]# lists of the diffferent dataframes\n",
    "    for idx,widget in enumerate(labelWidgets1):\n",
    "        dfDropdownPars.append(printing(dfContents[idx]))#appends each df in a vector\n",
    "\n",
    "    vector=[]# vector with the number of criteria per component: example =[3,2,2]: 3 criteria for motor, 2 criteria for esc, 2 criteria for other\n",
    "    valueMax=0\n",
    "    for a in labelWidgets1:\n",
    "        vector.append(a.value)\n",
    "            \n",
    "    f={}\n",
    "    g={}\n",
    "\n",
    "    for idx,i in enumerate(vector):\n",
    "        HorizBox=HBox(children=[])\n",
    "        f[\"dict{}\".format(idx)]={}\n",
    "        g[\"dict{}\".format(idx)]={}\n",
    "        for j in range(i):          \n",
    "            f['dict{0}'.format(idx)][\"string{0}\".format(j)] = widgets.Dropdown(\n",
    "            options= dfDropdownPars[idx].columns.values,\n",
    "            description='Parameter of {}'.format(list(upload_button.value)[idx]),\n",
    "            style = {'description_width': '170pt'} )\n",
    "\n",
    "            g['dict{0}'.format(idx)][\"string{0}\".format(j)]=widgets.RadioButtons(\n",
    "            options=['max.', 'min.'],\n",
    "            description='Critery: ',\n",
    "            style = {'description_width': '130pt'},\n",
    "            disabled=False\n",
    "            )\n",
    "            HorizBox.children += (VBox([f['dict{0}'.format(idx)][\"string{0}\".format(j)],g['dict{0}'.format(idx)][\"string{0}\".format(j)]]),)\n",
    "            \n",
    "        display(HorizBox)\n",
    "\n",
    "        \n",
    "    def on_button_clicked(b): \n",
    "        with salida:\n",
    "            clear_output()\n",
    "            listPars = [[] for x in range(len(dfContents))]\n",
    "            listCrits = [[] for x in range(len(dfContents))]\n",
    "            counter=0\n",
    "            \n",
    "            for k, v in f.items():\n",
    "                for k1, v1 in v.items():\n",
    "                    listPars[counter].append(v1.value)\n",
    "                counter+=1\n",
    "            \n",
    "            counter=0\n",
    "            for k, v in g.items():\n",
    "                for k1, v1 in v.items():\n",
    "                    listCrits[counter].append(v1.value)\n",
    "                counter+=1\n",
    "\n",
    "            for i in range(len(listPars)):\n",
    "                pareto(dfDropdownPars[i],renameVDF(listPars[i])[0],renameVDF(listPars[i])[1],listCrits[i],list(upload_button.value)[i])\n",
    "            \n",
    "        \n",
    "\n",
    "    button.on_click(on_button_clicked)\n",
    "    display(button)\n",
    "    display(salida)\n"
   ]
  },
  {
   "cell_type": "code",
   "execution_count": 10,
   "metadata": {
    "scrolled": true
   },
   "outputs": [
    {
     "data": {
      "application/vnd.jupyter.widget-view+json": {
       "model_id": "5c6db36ce1134fcda6bcea7caf68eb68",
       "version_major": 2,
       "version_minor": 0
      },
      "text/plain": [
       "FileUpload(value={}, description='Upload', multiple=True)"
      ]
     },
     "metadata": {},
     "output_type": "display_data"
    },
    {
     "data": {
      "application/vnd.jupyter.widget-view+json": {
       "model_id": "c482a62a18fe408695f71ef09cc78766",
       "version_major": 2,
       "version_minor": 0
      },
      "text/plain": [
       "Output()"
      ]
     },
     "metadata": {},
     "output_type": "display_data"
    }
   ],
   "source": [
    "sortie= Output()\n",
    "@sortie.capture()\n",
    "\n",
    "def show_content(change):\n",
    "    clear_output()\n",
    "    global dfContents,criteriapercomp,labelWidgets1\n",
    "    dfContents = [] #save dataframes\n",
    "    criteriapercomp=[] # number of criteria per comp\n",
    "    labelWidgets1 = [] #save widgets\n",
    "\n",
    "    for idx,item in enumerate(range(len(change['new'].keys()))):\n",
    "            NrCrits=widgets.BoundedIntText(\n",
    "                value=3,\n",
    "                min=2,\n",
    "                max=5,\n",
    "                step=0.1,\n",
    "                description='number of criteria for {}:'.format(list(upload_button.value)[idx]),\n",
    "                disabled=False,\n",
    "                style = {'description_width': '200pt'},\n",
    "                layout = {'width': '250pt'}\n",
    "            )\n",
    "            criteriapercomp.append(NrCrits.value)\n",
    "            labelWidgets1.append(NrCrits)# save widget into a list\n",
    "            uploaded_filename = list(upload_button.value)[idx]# load file title\n",
    "            content = upload_button.value[uploaded_filename]['content']# load dataframe content\n",
    "            dfContents.append(content)# save df into a list\n",
    "\n",
    "    for idx,widget in enumerate(labelWidgets1):\n",
    "        display(widget)\n",
    "        display_grid(widget)\n",
    "        widget.observe(display_grid,'value')    \n",
    "    display(Output2)\n",
    "        \n",
    "upload_button = FileUpload(multiple=True)\n",
    "display(upload_button)\n",
    "upload_button.observe(show_content,'value')\n",
    "display(sortie)"
   ]
  },
  {
   "cell_type": "code",
   "execution_count": null,
   "metadata": {},
   "outputs": [],
   "source": []
  },
  {
   "cell_type": "code",
   "execution_count": null,
   "metadata": {},
   "outputs": [],
   "source": []
  }
 ],
 "metadata": {
  "kernelspec": {
   "display_name": "Python 3",
   "language": "python",
   "name": "python3"
  },
  "language_info": {
   "codemirror_mode": {
    "name": "ipython",
    "version": 3
   },
   "file_extension": ".py",
   "mimetype": "text/x-python",
   "name": "python",
   "nbconvert_exporter": "python",
   "pygments_lexer": "ipython3",
   "version": "3.7.1"
  }
 },
 "nbformat": 4,
 "nbformat_minor": 2
}
