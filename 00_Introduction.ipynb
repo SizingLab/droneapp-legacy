{
 "cells": [
  {
   "cell_type": "markdown",
   "metadata": {
    "slideshow": {
     "slide_type": "slide"
    }
   },
   "source": [
    "<img src=\"DroneApp_logo.png\" style=\"float:right; max-width: 180px; display: inline\" alt=\"INSA\" />\n",
    "<img src=\"logo_sizinglab.png\" style=\"float:right; max-width: 100px; display: inline\" alt=\"INSA\" />"
   ]
  },
  {
   "cell_type": "markdown",
   "metadata": {
    "slideshow": {
     "slide_type": "slide"
    }
   },
   "source": [
    "# Sizing of multi-rotor drones\n",
    "\n",
    "*This set of documents aims at to give an introduction on the use of Python and Jupyter notebooks for the sizing of multi-rotor drones.*\n",
    "\n",
    "*Written by Marc Budinger, Aitor Ochotorena (INSA Toulouse) and Scott Delbecq (ISAE-SUPAERO), Toulouse, France.*\n"
   ]
  },
  {
   "cell_type": "code",
   "execution_count": 90,
   "metadata": {},
   "outputs": [
    {
     "data": {
      "text/html": [
       "<script>\n",
       "code_show=true; \n",
       "function code_toggle() {\n",
       " if (code_show){\n",
       " $('div.input').hide();\n",
       " } else {\n",
       " $('div.input').show();\n",
       " }\n",
       " code_show = !code_show\n",
       "} \n",
       "$( document ).ready(code_toggle);\n",
       "</script>\n",
       "The raw code for this IPython notebook is by default hidden for easier reading.\n",
       "To toggle on/off the raw code, click <a href=\"javascript:code_toggle()\">here</a>."
      ],
      "text/plain": [
       "<IPython.core.display.HTML object>"
      ]
     },
     "execution_count": 90,
     "metadata": {},
     "output_type": "execute_result"
    }
   ],
   "source": [
    "from IPython.display import HTML\n",
    "\n",
    "HTML('''<script>\n",
    "code_show=true; \n",
    "function code_toggle() {\n",
    " if (code_show){\n",
    " $('div.input').hide();\n",
    " } else {\n",
    " $('div.input').show();\n",
    " }\n",
    " code_show = !code_show\n",
    "} \n",
    "$( document ).ready(code_toggle);\n",
    "</script>\n",
    "The raw code for this IPython notebook is by default hidden for easier reading.\n",
    "To toggle on/off the raw code, click <a href=\"javascript:code_toggle()\">here</a>.''')\n"
   ]
  },
  {
   "cell_type": "markdown",
   "metadata": {},
   "source": [
    "# Table of contents\n"
   ]
  },
  {
   "cell_type": "code",
   "execution_count": 93,
   "metadata": {},
   "outputs": [
    {
     "data": {
      "text/html": [
       "<style>\n",
       ".output {\n",
       "    flex-direction: row;\n",
       "    width: 1100px;\n",
       "}\n",
       "</style>"
      ],
      "text/plain": [
       "<IPython.core.display.HTML object>"
      ]
     },
     "execution_count": 93,
     "metadata": {},
     "output_type": "execute_result"
    }
   ],
   "source": [
    "import pandas as pd\n",
    "import numpy as np\n",
    "from IPython.display import display, HTML\n",
    "\n",
    "CSS = \"\"\"\n",
    ".output {\n",
    "    flex-direction: row;\n",
    "    width: 1100px;\n",
    "}\n",
    "\"\"\"\n",
    "\n",
    "HTML('<style>{}</style>'.format(CSS))"
   ]
  },
  {
   "cell_type": "code",
   "execution_count": 98,
   "metadata": {
    "scrolled": false
   },
   "outputs": [
    {
     "data": {
      "text/markdown": [
       "\n",
       "\n",
       "##### 1. Architecture & sizing scenarios\n",
       "1. [Case study and architecture presentation](notebooks/01_CaseStudy.ipynb) \n",
       "2. [Sizing scenarios definitions](notebooks/02_SizingScenariosDefinitions.ipynb)\n",
       "3. [Sizing scenarios equations](notebooks/03_SizingScenariosEquations.ipynb)\n",
       "\n",
       "##### 2. Estimation models \n",
       "1. Scaling law of electrical components\n",
       "\n",
       "    a. [Motors](notebooks/04a_ScalingLawsMotors.ipynb)\n",
       "    \n",
       "    b. [ESC](notebooks/04b_ScalingLawsESC.ipynb)\n",
       "    \n",
       "    c. [Batteries](notebooks/04c_ScalingLawsBatteries.ipynb)\n",
       "    \n",
       "    d. [Cables](notebooks/04d_ScalingLawsCables.ipynb)\n",
       "\n",
       "2. Regression models for propellers\n",
       "\n",
       "    a. [Statics, V=0](notebooks/05_PropellerStaticRegression.ipynb)\n",
       "    \n",
       "    b. [Dynamics, V$\n",
       "eq$0](notebooks/05b-PropellerDynamicScenarios.ipynb)\n",
       "\n",
       "##### 3. Component sizing code  \n",
       "1. [Introduction](notebooks/06_SizingModelsIntroduction.ipynb)  \n",
       "    a. [Propeller](notebooks/06a_PropellerSelection.ipynb)\n",
       "    \n",
       "    b. [Motor Student](notebooks/06b_MotorSelection.ipynb)\n",
       "    \n",
       "    c. [Battery and ESC](notebooks/06c_BatteryESCSelection.ipynb)\n",
       "        \n",
       "    d. [Frame](notebooks/06d_FrameSelection.ipynb)"
      ],
      "text/plain": [
       "<IPython.core.display.Markdown object>"
      ]
     },
     "metadata": {},
     "output_type": "display_data"
    },
    {
     "data": {
      "text/markdown": [
       "\n",
       "\n",
       "##### 4. System sizing code and optimization  \n",
       "\n",
       "1. [Drone Sizing Code and Optimization: Hover and Take-Off](notebooks/07_SystemSizingCodeOptimization_basic.ipynb)\n",
       "\n",
       "    a. [Sizing Code Frame to Crash Force and Take-Off](notebooks/07_SizingCode_Frame.ipynb)   \n",
       "      \n",
       "2. [Case Study. Sizing Code and Optimization: Hover, Take-Off and Vertical Climb](notebooks/08-CaseStudy_SizingDroneStatics%2BClimb.ipynb)\n",
       "\n",
       "    a. [Sizing code: Vertical Climb. Optimize Torque](notebooks/08a_SizingCodeVerticalFlight.ipynb)\n",
       "    \n",
       "    b. [System Sizing Code. Algorithm A](notebooks/08b-SystemSizingCodeOptimization_Complete_AlgorithmA.ipynb)\n",
       "    \n",
       "    c. [Monotonicity Analysis](notebooks/08c_MonotonicityTable.ipynb)\n",
       "    \n",
       "    d. [System Sizing Code. Algorithm B after MP1](notebooks/08d-SystemSizingCodeOptimization_Complete_AlgorithmB.ipynb)\n",
       "    \n",
       "    e. [System Sizing Code. Algorithm C after MP1 and oversizing coef.](notebooks/08e-SystemSizingCodeOptimization_Complete_AlgorithmC.ipynb)\n",
       "    \n",
       "##### 5. Visualization and Rendering 3D\n",
       "1. [3D Visualization linking Sizing Code with OpenSCAD](notebooks/09-DroneDesign_Optimization_Visu3D.ipynb)\n",
       "\n",
       "##### 6. Standalone web applications\n",
       "   1. [Voila. Sizing Code](notebooks/10a-VOILA-Tool-SizingCode_CustomSpecs.ipynb)\n",
       "    \n",
       "   2. [Voila. Sizing Code linked with data catalogues](notebooks/10b-VOILA-Tool-SizingCode-Catalogues.ipynb)\"\n",
       "   \n",
       "##### 7. Validation\n",
       "\n",
       "1. [Minicopter](notebooks/11a-Validation-MK4.ipynb)\n",
       "\n",
       "2. [Octocopter](notebooks/11b-Validation-s1000.ipynb)\n",
       "\n",
       "3. [Taxi Drone](notebooks/11c-Validation-eHang.ipynb)\n",
       "\n",
       "4. [eCalc](notebooks/12-Multicopter_Validator_eCalc.ipynb)\n",
       "\n",
       "##### Appendices  \n",
       "A1. [Quadrotor description](notebooks/A1_QuadroDescription.ipynb)\n",
       "\n",
       "A2. [Sizing scenarios synthesis](notebooks/A2_Sizing_equations.ipynb)\n",
       "\n",
       "A3. [Algorithm generation of monotonicity analysis](notebooks/Monotonicity.ipynb)"
      ],
      "text/plain": [
       "<IPython.core.display.Markdown object>"
      ]
     },
     "metadata": {},
     "output_type": "display_data"
    },
    {
     "data": {
      "text/markdown": [
       " \n",
       "\n",
       "<img src=\"giphy.gif\" alt=\"drawing\" width=\"300\"/>\n",
       "\n",
       "### Remarks\n",
       "This document has been written with Jupyter Notebook, Binder and Voilà. The Jupyter Notebook is an open-source web application that allows you to create and share documents that contain live code, equations, visualizations and narrative text. Voilà turns the notebooks into standalone web applications creating interactive widgets. Binder offers a free online interactive notebook service solution without the need to install a local, outdoor-open JupyterHub server.\n",
       "\n",
       "The \"live\" code is python 3 with numpy, scipy packages. Jupyter and a lot of scientific packages are included in the [Anaconda](https://www.anaconda.com/what-is-anaconda/) python distribution.\n",
       " \n",
       "\n",
       "**References:**\n",
       "- Jupyter can be found [here](http://jupyter.org/).\n",
       "- Voilà [here](https://blog.jupyter.org/and-voil%C3%A0-f6a2c08a4a93?gi=d6bd3178fd60)\n",
       "- Binder [here](https://mybinder.org/)\n",
       "- Markdown [markdown](http://www.markdowntutorial.com)\n",
       "- RISE [here](https://github.com/damianavila/RISE)  to instantly turn your Jupyter Notebooks into a slideshow.  \n",
       "- Pandoc [here](https://pandoc.org/) to convert markdown file into word documents.  |\n"
      ],
      "text/plain": [
       "<IPython.core.display.Markdown object>"
      ]
     },
     "metadata": {},
     "output_type": "display_data"
    }
   ],
   "source": [
    "from IPython.display import display, Markdown\n",
    "from ipywidgets import AppLayout, VBox\n",
    "\n",
    "toc=Markdown(\"\"\"\n",
    "\n",
    "##### 1. Architecture & sizing scenarios\n",
    "1. [Case study and architecture presentation](notebooks/01_CaseStudy.ipynb) \n",
    "2. [Sizing scenarios definitions](notebooks/02_SizingScenariosDefinitions.ipynb)\n",
    "3. [Sizing scenarios equations](notebooks/03_SizingScenariosEquations.ipynb)\n",
    "\n",
    "##### 2. Estimation models \n",
    "1. Scaling law of electrical components\n",
    "\n",
    "    a. [Motors](notebooks/04a_ScalingLawsMotors.ipynb)\n",
    "    \n",
    "    b. [ESC](notebooks/04b_ScalingLawsESC.ipynb)\n",
    "    \n",
    "    c. [Batteries](notebooks/04c_ScalingLawsBatteries.ipynb)\n",
    "    \n",
    "    d. [Cables](notebooks/04d_ScalingLawsCables.ipynb)\n",
    "\n",
    "2. Regression models for propellers\n",
    "\n",
    "    a. [Statics, V=0](notebooks/05_PropellerStaticRegression.ipynb)\n",
    "    \n",
    "    b. [Dynamics, V$\\neq$0](notebooks/05b-PropellerDynamicScenarios.ipynb)\n",
    "\n",
    "##### 3. Component sizing code  \n",
    "1. [Introduction](notebooks/06_SizingModelsIntroduction.ipynb)  \n",
    "    a. [Propeller](notebooks/06a_PropellerSelection.ipynb)\n",
    "    \n",
    "    b. [Motor Student](notebooks/06b_MotorSelection.ipynb)\n",
    "    \n",
    "    c. [Battery and ESC](notebooks/06c_BatteryESCSelection.ipynb)\n",
    "        \n",
    "    d. [Frame](notebooks/06d_FrameSelection.ipynb)\"\"\")\n",
    "\n",
    "toc2=Markdown(\"\"\"\n",
    "\n",
    "##### 4. System sizing code and optimization  \n",
    "\n",
    "1. [Drone Sizing Code and Optimization: Hover and Take-Off](notebooks/07_SystemSizingCodeOptimization_basic.ipynb)\n",
    "\n",
    "    a. [Sizing Code Frame to Crash Force and Take-Off](notebooks/07_SizingCode_Frame.ipynb)   \n",
    "      \n",
    "2. [Case Study. Sizing Code and Optimization: Hover, Take-Off and Vertical Climb](notebooks/08-CaseStudy_SizingDroneStatics%2BClimb.ipynb)\n",
    "\n",
    "    a. [Sizing code: Vertical Climb. Optimize Torque](notebooks/08a_SizingCodeVerticalFlight.ipynb)\n",
    "    \n",
    "    b. [System Sizing Code. Algorithm A](notebooks/08b-SystemSizingCodeOptimization_Complete_AlgorithmA.ipynb)\n",
    "    \n",
    "    c. [Monotonicity Analysis](notebooks/08c_MonotonicityTable.ipynb)\n",
    "    \n",
    "    d. [System Sizing Code. Algorithm B after MP1](notebooks/08d-SystemSizingCodeOptimization_Complete_AlgorithmB.ipynb)\n",
    "    \n",
    "    e. [System Sizing Code. Algorithm C after MP1 and oversizing coef.](notebooks/08e-SystemSizingCodeOptimization_Complete_AlgorithmC.ipynb)\n",
    "    \n",
    "##### 5. Visualization and Rendering 3D\n",
    "1. [3D Visualization linking Sizing Code with OpenSCAD](notebooks/09-DroneDesign_Optimization_Visu3D.ipynb)\n",
    "\n",
    "##### 6. Standalone web applications\n",
    "   1. [Voila. Sizing Code](notebooks/10a-VOILA-Tool-SizingCode_CustomSpecs.ipynb)\n",
    "    \n",
    "   2. [Voila. Sizing Code linked with data catalogues](notebooks/10b-VOILA-Tool-SizingCode-Catalogues.ipynb)\"\n",
    "   \n",
    "##### 7. Validation\n",
    "\n",
    "1. [Minicopter](notebooks/11a-Validation-MK4.ipynb)\n",
    "\n",
    "2. [Octocopter](notebooks/11b-Validation-s1000.ipynb)\n",
    "\n",
    "3. [Taxi Drone](notebooks/11c-Validation-eHang.ipynb)\n",
    "\n",
    "4. [eCalc](notebooks/12-Multicopter_Validator_eCalc.ipynb)\n",
    "\n",
    "##### Appendices  \n",
    "A1. [Quadrotor description](notebooks/A1_QuadroDescription.ipynb)\n",
    "\n",
    "A2. [Sizing scenarios synthesis](notebooks/A2_Sizing_equations.ipynb)\n",
    "\n",
    "A3. [Algorithm generation of monotonicity analysis](notebooks/Monotonicity.ipynb)\"\"\")\n",
    "\n",
    "\n",
    "# img1 = open('giphy.gif', 'rb').read()\n",
    "# wi1 = widgets.Image(value=img1, format='png',width='500px', height='200px')\n",
    "\n",
    "footer=Markdown(\"\"\" \n",
    "\n",
    "<img src=\"giphy.gif\" alt=\"drawing\" width=\"300\"/>\n",
    "\n",
    "### Remarks\n",
    "This document has been written with Jupyter Notebook, Binder and Voilà. The Jupyter Notebook is an open-source web application that allows you to create and share documents that contain live code, equations, visualizations and narrative text. Voilà turns the notebooks into standalone web applications creating interactive widgets. Binder offers a free online interactive notebook service solution without the need to install a local, outdoor-open JupyterHub server.\n",
    "\n",
    "The \"live\" code is python 3 with numpy, scipy packages. Jupyter and a lot of scientific packages are included in the [Anaconda](https://www.anaconda.com/what-is-anaconda/) python distribution.\n",
    " \n",
    "\n",
    "**References:**\n",
    "- Jupyter can be found [here](http://jupyter.org/).\n",
    "- Voilà [here](https://blog.jupyter.org/and-voil%C3%A0-f6a2c08a4a93?gi=d6bd3178fd60)\n",
    "- Binder [here](https://mybinder.org/)\n",
    "- Markdown [markdown](http://www.markdowntutorial.com)\n",
    "- RISE [here](https://github.com/damianavila/RISE)  to instantly turn your Jupyter Notebooks into a slideshow.  \n",
    "- Pandoc [here](https://pandoc.org/) to convert markdown file into word documents.  |\n",
    "\"\"\")\n",
    "\n",
    "display(toc)\n",
    "display(toc2)\n",
    "display(footer)\n",
    "\n",
    "\n",
    "# wi1 = widgets.Image(value=img1, format='png',width='500px', height='200px')\n",
    "                          \n",
    "# AppLayout(left_sidebar=toc,\n",
    "#           right_sidebar=wi1,\n",
    "#           grid_gap='20px',\n",
    "#           justify_items='center',\n",
    "#           align_items='center')"
   ]
  },
  {
   "cell_type": "markdown",
   "metadata": {
    "variables": {
     "footer": "<img src=\"giphy.gif\" alt=\"drawing\" width=\"300\"/>\n\n<h3 id=\"remarks\">Remarks</h3>\n<p>This document has been written with Jupyter Notebook, Binder and Voilà. The Jupyter Notebook is an open-source web application that allows you to create and share documents that contain live code, equations, visualizations and narrative text. Voilà turns the notebooks into standalone web applications creating interactive widgets. Binder offers a free online interactive notebook service solution without the need to install a local, outdoor-open JupyterHub server.</p>\n<p>The &quot;live&quot; code is python 3 with numpy, scipy packages. Jupyter and a lot of scientific packages are included in the <a href=\"https://www.anaconda.com/what-is-anaconda/\">Anaconda</a> python distribution.</p>\n<p><strong>References:</strong></p>\n<ul>\n<li>Jupyter can be found <a href=\"http://jupyter.org/\">here</a>.</li>\n<li>Voilà <a href=\"https://blog.jupyter.org/and-voil%C3%A0-f6a2c08a4a93?gi=d6bd3178fd60\">here</a></li>\n<li>Binder <a href=\"https://mybinder.org/\">here</a></li>\n<li>Markdown <a href=\"http://www.markdowntutorial.com\">markdown</a></li>\n<li>RISE <a href=\"https://github.com/damianavila/RISE\">here</a>  to instantly turn your Jupyter Notebooks into a slideshow.  </li>\n<li>Pandoc <a href=\"https://pandoc.org/\">here</a> to convert markdown file into word documents.  |</li>\n</ul>\n",
     "toc": "<h5 id=\"1-architecture-sizing-scenarios\">1. Architecture &amp; sizing scenarios</h5>\n<ol>\n<li><a href=\"notebooks/01_CaseStudy.ipynb\">Case study and architecture presentation</a> </li>\n<li><a href=\"notebooks/02_SizingScenariosDefinitions.ipynb\">Sizing scenarios definitions</a></li>\n<li><a href=\"notebooks/03_SizingScenariosEquations.ipynb\">Sizing scenarios equations</a></li>\n</ol>\n<h5 id=\"2-estimation-models\">2. Estimation models</h5>\n<ol>\n<li><p>Scaling law of electrical components</p>\n<p> a. <a href=\"notebooks/04a_ScalingLawsMotors.ipynb\">Motors</a></p>\n<p> b. <a href=\"notebooks/04b_ScalingLawsESC.ipynb\">ESC</a></p>\n<p> c. <a href=\"notebooks/04c_ScalingLawsBatteries.ipynb\">Batteries</a></p>\n<p> d. <a href=\"notebooks/04d_ScalingLawsCables.ipynb\">Cables</a></p>\n</li>\n<li><p>Regression models for propellers</p>\n<p> a. <a href=\"notebooks/05_PropellerStaticRegression.ipynb\">Statics, V=0</a></p>\n<p> b. <a href=\"notebooks/05b-PropellerDynamicScenarios.ipynb\">Dynamics, V$\neq$0</a></p>\n</li>\n</ol>\n<h5 id=\"3-component-sizing-code\">3. Component sizing code</h5>\n<ol>\n<li><p><a href=\"notebooks/06_SizingModelsIntroduction.ipynb\">Introduction</a><br> a. <a href=\"notebooks/06a_PropellerSelection.ipynb\">Propeller</a></p>\n<p> b. <a href=\"notebooks/06b_MotorSelection.ipynb\">Motor Student</a></p>\n<p> c. <a href=\"notebooks/06c_BatteryESCSelection.ipynb\">Battery and ESC</a></p>\n<p> d. <a href=\"notebooks/06d_FrameSelection.ipynb\">Frame</a></p>\n</li>\n</ol>\n",
     "toc2": "<h5 id=\"4-system-sizing-code-and-optimization\">4. System sizing code and optimization</h5>\n<ol>\n<li><p><a href=\"notebooks/07_SystemSizingCodeOptimization_basic.ipynb\">Drone Sizing Code and Optimization: Hover and Take-Off</a></p>\n<p> a. <a href=\"notebooks/07_SizingCode_Frame.ipynb\">Sizing Code Frame to Crash Force and Take-Off</a>   </p>\n</li>\n<li><p><a href=\"notebooks/08-CaseStudy_SizingDroneStatics%2BClimb.ipynb\">Case Study. Sizing Code and Optimization: Hover, Take-Off and Vertical Climb</a></p>\n<p> a. <a href=\"notebooks/08a_SizingCodeVerticalFlight.ipynb\">Sizing code: Vertical Climb. Optimize Torque</a></p>\n<p> b. <a href=\"notebooks/08b-SystemSizingCodeOptimization_Complete_AlgorithmA.ipynb\">System Sizing Code. Algorithm A</a></p>\n<p> c. <a href=\"notebooks/08c_MonotonicityTable.ipynb\">Monotonicity Analysis</a></p>\n<p> d. <a href=\"notebooks/08d-SystemSizingCodeOptimization_Complete_AlgorithmB.ipynb\">System Sizing Code. Algorithm B after MP1</a></p>\n<p> e. <a href=\"notebooks/08e-SystemSizingCodeOptimization_Complete_AlgorithmC.ipynb\">System Sizing Code. Algorithm C after MP1 and oversizing coef.</a></p>\n</li>\n</ol>\n<h5 id=\"5-visualization-and-rendering-3d\">5. Visualization and Rendering 3D</h5>\n<ol>\n<li><a href=\"notebooks/09-DroneDesign_Optimization_Visu3D.ipynb\">3D Visualization linking Sizing Code with OpenSCAD</a></li>\n</ol>\n<h5 id=\"6-standalone-web-applications\">6. Standalone web applications</h5>\n<ol>\n<li><p><a href=\"notebooks/10a-VOILA-Tool-SizingCode_CustomSpecs.ipynb\">Voila. Sizing Code</a></p>\n</li>\n<li><p><a href=\"notebooks/10b-VOILA-Tool-SizingCode-Catalogues.ipynb\">Voila. Sizing Code linked with data catalogues</a>&quot;</p>\n</li>\n</ol>\n<h5 id=\"7-validation\">7. Validation</h5>\n<ol>\n<li><p><a href=\"notebooks/11a-Validation-MK4.ipynb\">Minicopter</a></p>\n</li>\n<li><p><a href=\"notebooks/11b-Validation-s1000.ipynb\">Octocopter</a></p>\n</li>\n<li><p><a href=\"notebooks/11c-Validation-eHang.ipynb\">Taxi Drone</a></p>\n</li>\n<li><p><a href=\"notebooks/12-Multicopter_Validator_eCalc.ipynb\">eCalc</a></p>\n</li>\n</ol>\n<h5 id=\"appendices\">Appendices</h5>\n<p>A1. <a href=\"notebooks/A1_QuadroDescription.ipynb\">Quadrotor description</a></p>\n<p>A2. <a href=\"notebooks/A2_Sizing_equations.ipynb\">Sizing scenarios synthesis</a></p>\n<p>A3. <a href=\"notebooks/Monotonicity.ipynb\">Algorithm generation of monotonicity analysis</a></p>\n"
    }
   },
   "source": [
    "|{{toc}}|{{toc2}}|{{footer}}|\n",
    "|--|--|--|"
   ]
  },
  {
   "cell_type": "code",
   "execution_count": null,
   "metadata": {},
   "outputs": [],
   "source": []
  }
 ],
 "metadata": {
  "kernelspec": {
   "display_name": "Python 3",
   "language": "python",
   "name": "python3"
  },
  "language_info": {
   "codemirror_mode": {
    "name": "ipython",
    "version": 3
   },
   "file_extension": ".py",
   "mimetype": "text/x-python",
   "name": "python",
   "nbconvert_exporter": "python",
   "pygments_lexer": "ipython3",
   "version": "3.7.1"
  }
 },
 "nbformat": 4,
 "nbformat_minor": 2
}
